{
 "cells": [
  {
   "cell_type": "markdown",
   "metadata": {},
   "source": [
    "# Project: Identify Customer Segments\n",
    "\n",
    "In this project, you will apply unsupervised learning techniques to identify segments of the population that form the core customer base for a mail-order sales company in Germany. These segments can then be used to direct marketing campaigns towards audiences that will have the highest expected rate of returns. The data that you will use has been provided by our partners at Bertelsmann Arvato Analytics, and represents a real-life data science task.\n",
    "\n",
    "This notebook will help you complete this task by providing a framework within which you will perform your analysis steps. In each step of the project, you will see some text describing the subtask that you will perform, followed by one or more code cells for you to complete your work. **Feel free to add additional code and markdown cells as you go along so that you can explore everything in precise chunks.** The code cells provided in the base template will outline only the major tasks, and will usually not be enough to cover all of the minor tasks that comprise it.\n",
    "\n",
    "It should be noted that while there will be precise guidelines on how you should handle certain tasks in the project, there will also be places where an exact specification is not provided. **There will be times in the project where you will need to make and justify your own decisions on how to treat the data.** These are places where there may not be only one way to handle the data. In real-life tasks, there may be many valid ways to approach an analysis task. One of the most important things you can do is clearly document your approach so that other scientists can understand the decisions you've made.\n",
    "\n",
    "At the end of most sections, there will be a Markdown cell labeled **Discussion**. In these cells, you will report your findings for the completed section, as well as document the decisions that you made in your approach to each subtask. **Your project will be evaluated not just on the code used to complete the tasks outlined, but also your communication about your observations and conclusions at each stage.**"
   ]
  },
  {
   "cell_type": "code",
   "execution_count": 1,
   "metadata": {},
   "outputs": [
    {
     "data": {
      "text/plain": [
       "'\\nImport note: The classroom currently uses sklearn version 0.19.\\nIf you need to use an imputer, it is available in sklearn.preprocessing.Imputer,\\ninstead of sklearn.impute as in newer versions of sklearn.\\n'"
      ]
     },
     "execution_count": 1,
     "metadata": {},
     "output_type": "execute_result"
    }
   ],
   "source": [
    "# import libraries here; add more as necessary\n",
    "import numpy as np\n",
    "import pandas as pd\n",
    "import matplotlib.pyplot as plt\n",
    "import seaborn as sns\n",
    "import warnings\n",
    "\n",
    "from sklearn.preprocessing import Imputer, StandardScaler\n",
    "from sklearn.decomposition import PCA\n",
    "from sklearn.cluster import KMeans\n",
    "# magic word for producing visualizations in notebook\n",
    "%matplotlib inline\n",
    "# eliminate warnings for readability purposes\n",
    "warnings.filterwarnings('ignore')\n",
    "'''\n",
    "Import note: The classroom currently uses sklearn version 0.19.\n",
    "If you need to use an imputer, it is available in sklearn.preprocessing.Imputer,\n",
    "instead of sklearn.impute as in newer versions of sklearn.\n",
    "'''"
   ]
  },
  {
   "cell_type": "markdown",
   "metadata": {},
   "source": [
    "### Step 0: Load the Data\n",
    "\n",
    "There are four files associated with this project (not including this one):\n",
    "\n",
    "- `Udacity_AZDIAS_Subset.csv`: Demographics data for the general population of Germany; 891211 persons (rows) x 85 features (columns).\n",
    "- `Udacity_CUSTOMERS_Subset.csv`: Demographics data for customers of a mail-order company; 191652 persons (rows) x 85 features (columns).\n",
    "- `Data_Dictionary.md`: Detailed information file about the features in the provided datasets.\n",
    "- `AZDIAS_Feature_Summary.csv`: Summary of feature attributes for demographics data; 85 features (rows) x 4 columns\n",
    "\n",
    "Each row of the demographics files represents a single person, but also includes information outside of individuals, including information about their household, building, and neighborhood. You will use this information to cluster the general population into groups with similar demographic properties. Then, you will see how the people in the customers dataset fit into those created clusters. The hope here is that certain clusters are over-represented in the customers data, as compared to the general population; those over-represented clusters will be assumed to be part of the core userbase. This information can then be used for further applications, such as targeting for a marketing campaign.\n",
    "\n",
    "To start off with, load in the demographics data for the general population into a pandas DataFrame, and do the same for the feature attributes summary. Note for all of the `.csv` data files in this project: they're semicolon (`;`) delimited, so you'll need an additional argument in your [`read_csv()`](https://pandas.pydata.org/pandas-docs/stable/generated/pandas.read_csv.html) call to read in the data properly. Also, considering the size of the main dataset, it may take some time for it to load completely.\n",
    "\n",
    "Once the dataset is loaded, it's recommended that you take a little bit of time just browsing the general structure of the dataset and feature summary file. You'll be getting deep into the innards of the cleaning in the first major step of the project, so gaining some general familiarity can help you get your bearings."
   ]
  },
  {
   "cell_type": "code",
   "execution_count": 2,
   "metadata": {},
   "outputs": [],
   "source": [
    "# Load in the general demographics data.\n",
    "azdias = pd.read_csv('Udacity_AZDIAS_Subset.csv', sep=';')\n",
    "\n",
    "# Load in the feature summary file.\n",
    "feat_info = pd.read_csv('AZDIAS_Feature_Summary.csv', sep=';')"
   ]
  },
  {
   "cell_type": "code",
   "execution_count": 3,
   "metadata": {},
   "outputs": [
    {
     "data": {
      "text/plain": [
       "(891221, 85)"
      ]
     },
     "execution_count": 3,
     "metadata": {},
     "output_type": "execute_result"
    }
   ],
   "source": [
    "# Check the structure of the data after it's loaded (e.g. print the number of\n",
    "# rows and columns, print the first few rows).\n",
    "azdias.shape"
   ]
  },
  {
   "cell_type": "code",
   "execution_count": 4,
   "metadata": {},
   "outputs": [
    {
     "data": {
      "text/plain": [
       "(85, 4)"
      ]
     },
     "execution_count": 4,
     "metadata": {},
     "output_type": "execute_result"
    }
   ],
   "source": [
    "feat_info.shape"
   ]
  },
  {
   "cell_type": "code",
   "execution_count": 5,
   "metadata": {},
   "outputs": [
    {
     "name": "stdout",
     "output_type": "stream",
     "text": [
      "<class 'pandas.core.frame.DataFrame'>\n",
      "RangeIndex: 891221 entries, 0 to 891220\n",
      "Data columns (total 85 columns):\n",
      "AGER_TYP                 891221 non-null int64\n",
      "ALTERSKATEGORIE_GROB     891221 non-null int64\n",
      "ANREDE_KZ                891221 non-null int64\n",
      "CJT_GESAMTTYP            886367 non-null float64\n",
      "FINANZ_MINIMALIST        891221 non-null int64\n",
      "FINANZ_SPARER            891221 non-null int64\n",
      "FINANZ_VORSORGER         891221 non-null int64\n",
      "FINANZ_ANLEGER           891221 non-null int64\n",
      "FINANZ_UNAUFFAELLIGER    891221 non-null int64\n",
      "FINANZ_HAUSBAUER         891221 non-null int64\n",
      "FINANZTYP                891221 non-null int64\n",
      "GEBURTSJAHR              891221 non-null int64\n",
      "GFK_URLAUBERTYP          886367 non-null float64\n",
      "GREEN_AVANTGARDE         891221 non-null int64\n",
      "HEALTH_TYP               891221 non-null int64\n",
      "LP_LEBENSPHASE_FEIN      886367 non-null float64\n",
      "LP_LEBENSPHASE_GROB      886367 non-null float64\n",
      "LP_FAMILIE_FEIN          886367 non-null float64\n",
      "LP_FAMILIE_GROB          886367 non-null float64\n",
      "LP_STATUS_FEIN           886367 non-null float64\n",
      "LP_STATUS_GROB           886367 non-null float64\n",
      "NATIONALITAET_KZ         891221 non-null int64\n",
      "PRAEGENDE_JUGENDJAHRE    891221 non-null int64\n",
      "RETOURTYP_BK_S           886367 non-null float64\n",
      "SEMIO_SOZ                891221 non-null int64\n",
      "SEMIO_FAM                891221 non-null int64\n",
      "SEMIO_REL                891221 non-null int64\n",
      "SEMIO_MAT                891221 non-null int64\n",
      "SEMIO_VERT               891221 non-null int64\n",
      "SEMIO_LUST               891221 non-null int64\n",
      "SEMIO_ERL                891221 non-null int64\n",
      "SEMIO_KULT               891221 non-null int64\n",
      "SEMIO_RAT                891221 non-null int64\n",
      "SEMIO_KRIT               891221 non-null int64\n",
      "SEMIO_DOM                891221 non-null int64\n",
      "SEMIO_KAEM               891221 non-null int64\n",
      "SEMIO_PFLICHT            891221 non-null int64\n",
      "SEMIO_TRADV              891221 non-null int64\n",
      "SHOPPER_TYP              891221 non-null int64\n",
      "SOHO_KZ                  817722 non-null float64\n",
      "TITEL_KZ                 817722 non-null float64\n",
      "VERS_TYP                 891221 non-null int64\n",
      "ZABEOTYP                 891221 non-null int64\n",
      "ALTER_HH                 817722 non-null float64\n",
      "ANZ_PERSONEN             817722 non-null float64\n",
      "ANZ_TITEL                817722 non-null float64\n",
      "HH_EINKOMMEN_SCORE       872873 non-null float64\n",
      "KK_KUNDENTYP             306609 non-null float64\n",
      "W_KEIT_KIND_HH           783619 non-null float64\n",
      "WOHNDAUER_2008           817722 non-null float64\n",
      "ANZ_HAUSHALTE_AKTIV      798073 non-null float64\n",
      "ANZ_HH_TITEL             794213 non-null float64\n",
      "GEBAEUDETYP              798073 non-null float64\n",
      "KONSUMNAEHE              817252 non-null float64\n",
      "MIN_GEBAEUDEJAHR         798073 non-null float64\n",
      "OST_WEST_KZ              798073 non-null object\n",
      "WOHNLAGE                 798073 non-null float64\n",
      "CAMEO_DEUG_2015          792242 non-null object\n",
      "CAMEO_DEU_2015           792242 non-null object\n",
      "CAMEO_INTL_2015          792242 non-null object\n",
      "KBA05_ANTG1              757897 non-null float64\n",
      "KBA05_ANTG2              757897 non-null float64\n",
      "KBA05_ANTG3              757897 non-null float64\n",
      "KBA05_ANTG4              757897 non-null float64\n",
      "KBA05_BAUMAX             757897 non-null float64\n",
      "KBA05_GBZ                757897 non-null float64\n",
      "BALLRAUM                 797481 non-null float64\n",
      "EWDICHTE                 797481 non-null float64\n",
      "INNENSTADT               797481 non-null float64\n",
      "GEBAEUDETYP_RASTER       798066 non-null float64\n",
      "KKK                      770025 non-null float64\n",
      "MOBI_REGIO               757897 non-null float64\n",
      "ONLINE_AFFINITAET        886367 non-null float64\n",
      "REGIOTYP                 770025 non-null float64\n",
      "KBA13_ANZAHL_PKW         785421 non-null float64\n",
      "PLZ8_ANTG1               774706 non-null float64\n",
      "PLZ8_ANTG2               774706 non-null float64\n",
      "PLZ8_ANTG3               774706 non-null float64\n",
      "PLZ8_ANTG4               774706 non-null float64\n",
      "PLZ8_BAUMAX              774706 non-null float64\n",
      "PLZ8_HHZ                 774706 non-null float64\n",
      "PLZ8_GBZ                 774706 non-null float64\n",
      "ARBEIT                   794005 non-null float64\n",
      "ORTSGR_KLS9              794005 non-null float64\n",
      "RELAT_AB                 794005 non-null float64\n",
      "dtypes: float64(49), int64(32), object(4)\n",
      "memory usage: 578.0+ MB\n"
     ]
    }
   ],
   "source": [
    "azdias.info()"
   ]
  },
  {
   "cell_type": "code",
   "execution_count": 6,
   "metadata": {},
   "outputs": [
    {
     "name": "stdout",
     "output_type": "stream",
     "text": [
      "<class 'pandas.core.frame.DataFrame'>\n",
      "RangeIndex: 85 entries, 0 to 84\n",
      "Data columns (total 4 columns):\n",
      "attribute             85 non-null object\n",
      "information_level     85 non-null object\n",
      "type                  85 non-null object\n",
      "missing_or_unknown    85 non-null object\n",
      "dtypes: object(4)\n",
      "memory usage: 2.7+ KB\n"
     ]
    }
   ],
   "source": [
    "feat_info.info()"
   ]
  },
  {
   "cell_type": "code",
   "execution_count": 7,
   "metadata": {},
   "outputs": [
    {
     "data": {
      "text/html": [
       "<div>\n",
       "<style scoped>\n",
       "    .dataframe tbody tr th:only-of-type {\n",
       "        vertical-align: middle;\n",
       "    }\n",
       "\n",
       "    .dataframe tbody tr th {\n",
       "        vertical-align: top;\n",
       "    }\n",
       "\n",
       "    .dataframe thead th {\n",
       "        text-align: right;\n",
       "    }\n",
       "</style>\n",
       "<table border=\"1\" class=\"dataframe\">\n",
       "  <thead>\n",
       "    <tr style=\"text-align: right;\">\n",
       "      <th></th>\n",
       "      <th>AGER_TYP</th>\n",
       "      <th>ALTERSKATEGORIE_GROB</th>\n",
       "      <th>ANREDE_KZ</th>\n",
       "      <th>CJT_GESAMTTYP</th>\n",
       "      <th>FINANZ_MINIMALIST</th>\n",
       "      <th>FINANZ_SPARER</th>\n",
       "      <th>FINANZ_VORSORGER</th>\n",
       "      <th>FINANZ_ANLEGER</th>\n",
       "      <th>FINANZ_UNAUFFAELLIGER</th>\n",
       "      <th>FINANZ_HAUSBAUER</th>\n",
       "      <th>...</th>\n",
       "      <th>PLZ8_ANTG1</th>\n",
       "      <th>PLZ8_ANTG2</th>\n",
       "      <th>PLZ8_ANTG3</th>\n",
       "      <th>PLZ8_ANTG4</th>\n",
       "      <th>PLZ8_BAUMAX</th>\n",
       "      <th>PLZ8_HHZ</th>\n",
       "      <th>PLZ8_GBZ</th>\n",
       "      <th>ARBEIT</th>\n",
       "      <th>ORTSGR_KLS9</th>\n",
       "      <th>RELAT_AB</th>\n",
       "    </tr>\n",
       "  </thead>\n",
       "  <tbody>\n",
       "    <tr>\n",
       "      <th>0</th>\n",
       "      <td>-1</td>\n",
       "      <td>2</td>\n",
       "      <td>1</td>\n",
       "      <td>2.0</td>\n",
       "      <td>3</td>\n",
       "      <td>4</td>\n",
       "      <td>3</td>\n",
       "      <td>5</td>\n",
       "      <td>5</td>\n",
       "      <td>3</td>\n",
       "      <td>...</td>\n",
       "      <td>NaN</td>\n",
       "      <td>NaN</td>\n",
       "      <td>NaN</td>\n",
       "      <td>NaN</td>\n",
       "      <td>NaN</td>\n",
       "      <td>NaN</td>\n",
       "      <td>NaN</td>\n",
       "      <td>NaN</td>\n",
       "      <td>NaN</td>\n",
       "      <td>NaN</td>\n",
       "    </tr>\n",
       "    <tr>\n",
       "      <th>1</th>\n",
       "      <td>-1</td>\n",
       "      <td>1</td>\n",
       "      <td>2</td>\n",
       "      <td>5.0</td>\n",
       "      <td>1</td>\n",
       "      <td>5</td>\n",
       "      <td>2</td>\n",
       "      <td>5</td>\n",
       "      <td>4</td>\n",
       "      <td>5</td>\n",
       "      <td>...</td>\n",
       "      <td>2.0</td>\n",
       "      <td>3.0</td>\n",
       "      <td>2.0</td>\n",
       "      <td>1.0</td>\n",
       "      <td>1.0</td>\n",
       "      <td>5.0</td>\n",
       "      <td>4.0</td>\n",
       "      <td>3.0</td>\n",
       "      <td>5.0</td>\n",
       "      <td>4.0</td>\n",
       "    </tr>\n",
       "    <tr>\n",
       "      <th>2</th>\n",
       "      <td>-1</td>\n",
       "      <td>3</td>\n",
       "      <td>2</td>\n",
       "      <td>3.0</td>\n",
       "      <td>1</td>\n",
       "      <td>4</td>\n",
       "      <td>1</td>\n",
       "      <td>2</td>\n",
       "      <td>3</td>\n",
       "      <td>5</td>\n",
       "      <td>...</td>\n",
       "      <td>3.0</td>\n",
       "      <td>3.0</td>\n",
       "      <td>1.0</td>\n",
       "      <td>0.0</td>\n",
       "      <td>1.0</td>\n",
       "      <td>4.0</td>\n",
       "      <td>4.0</td>\n",
       "      <td>3.0</td>\n",
       "      <td>5.0</td>\n",
       "      <td>2.0</td>\n",
       "    </tr>\n",
       "    <tr>\n",
       "      <th>3</th>\n",
       "      <td>2</td>\n",
       "      <td>4</td>\n",
       "      <td>2</td>\n",
       "      <td>2.0</td>\n",
       "      <td>4</td>\n",
       "      <td>2</td>\n",
       "      <td>5</td>\n",
       "      <td>2</td>\n",
       "      <td>1</td>\n",
       "      <td>2</td>\n",
       "      <td>...</td>\n",
       "      <td>2.0</td>\n",
       "      <td>2.0</td>\n",
       "      <td>2.0</td>\n",
       "      <td>0.0</td>\n",
       "      <td>1.0</td>\n",
       "      <td>3.0</td>\n",
       "      <td>4.0</td>\n",
       "      <td>2.0</td>\n",
       "      <td>3.0</td>\n",
       "      <td>3.0</td>\n",
       "    </tr>\n",
       "    <tr>\n",
       "      <th>4</th>\n",
       "      <td>-1</td>\n",
       "      <td>3</td>\n",
       "      <td>1</td>\n",
       "      <td>5.0</td>\n",
       "      <td>4</td>\n",
       "      <td>3</td>\n",
       "      <td>4</td>\n",
       "      <td>1</td>\n",
       "      <td>3</td>\n",
       "      <td>2</td>\n",
       "      <td>...</td>\n",
       "      <td>2.0</td>\n",
       "      <td>4.0</td>\n",
       "      <td>2.0</td>\n",
       "      <td>1.0</td>\n",
       "      <td>2.0</td>\n",
       "      <td>3.0</td>\n",
       "      <td>3.0</td>\n",
       "      <td>4.0</td>\n",
       "      <td>6.0</td>\n",
       "      <td>5.0</td>\n",
       "    </tr>\n",
       "  </tbody>\n",
       "</table>\n",
       "<p>5 rows × 85 columns</p>\n",
       "</div>"
      ],
      "text/plain": [
       "   AGER_TYP  ALTERSKATEGORIE_GROB  ANREDE_KZ  CJT_GESAMTTYP  \\\n",
       "0        -1                     2          1            2.0   \n",
       "1        -1                     1          2            5.0   \n",
       "2        -1                     3          2            3.0   \n",
       "3         2                     4          2            2.0   \n",
       "4        -1                     3          1            5.0   \n",
       "\n",
       "   FINANZ_MINIMALIST  FINANZ_SPARER  FINANZ_VORSORGER  FINANZ_ANLEGER  \\\n",
       "0                  3              4                 3               5   \n",
       "1                  1              5                 2               5   \n",
       "2                  1              4                 1               2   \n",
       "3                  4              2                 5               2   \n",
       "4                  4              3                 4               1   \n",
       "\n",
       "   FINANZ_UNAUFFAELLIGER  FINANZ_HAUSBAUER    ...     PLZ8_ANTG1  PLZ8_ANTG2  \\\n",
       "0                      5                 3    ...            NaN         NaN   \n",
       "1                      4                 5    ...            2.0         3.0   \n",
       "2                      3                 5    ...            3.0         3.0   \n",
       "3                      1                 2    ...            2.0         2.0   \n",
       "4                      3                 2    ...            2.0         4.0   \n",
       "\n",
       "   PLZ8_ANTG3  PLZ8_ANTG4  PLZ8_BAUMAX  PLZ8_HHZ  PLZ8_GBZ  ARBEIT  \\\n",
       "0         NaN         NaN          NaN       NaN       NaN     NaN   \n",
       "1         2.0         1.0          1.0       5.0       4.0     3.0   \n",
       "2         1.0         0.0          1.0       4.0       4.0     3.0   \n",
       "3         2.0         0.0          1.0       3.0       4.0     2.0   \n",
       "4         2.0         1.0          2.0       3.0       3.0     4.0   \n",
       "\n",
       "   ORTSGR_KLS9  RELAT_AB  \n",
       "0          NaN       NaN  \n",
       "1          5.0       4.0  \n",
       "2          5.0       2.0  \n",
       "3          3.0       3.0  \n",
       "4          6.0       5.0  \n",
       "\n",
       "[5 rows x 85 columns]"
      ]
     },
     "execution_count": 7,
     "metadata": {},
     "output_type": "execute_result"
    }
   ],
   "source": [
    "azdias.head()"
   ]
  },
  {
   "cell_type": "code",
   "execution_count": 8,
   "metadata": {},
   "outputs": [
    {
     "data": {
      "text/html": [
       "<div>\n",
       "<style scoped>\n",
       "    .dataframe tbody tr th:only-of-type {\n",
       "        vertical-align: middle;\n",
       "    }\n",
       "\n",
       "    .dataframe tbody tr th {\n",
       "        vertical-align: top;\n",
       "    }\n",
       "\n",
       "    .dataframe thead th {\n",
       "        text-align: right;\n",
       "    }\n",
       "</style>\n",
       "<table border=\"1\" class=\"dataframe\">\n",
       "  <thead>\n",
       "    <tr style=\"text-align: right;\">\n",
       "      <th></th>\n",
       "      <th>attribute</th>\n",
       "      <th>information_level</th>\n",
       "      <th>type</th>\n",
       "      <th>missing_or_unknown</th>\n",
       "    </tr>\n",
       "  </thead>\n",
       "  <tbody>\n",
       "    <tr>\n",
       "      <th>0</th>\n",
       "      <td>AGER_TYP</td>\n",
       "      <td>person</td>\n",
       "      <td>categorical</td>\n",
       "      <td>[-1,0]</td>\n",
       "    </tr>\n",
       "    <tr>\n",
       "      <th>1</th>\n",
       "      <td>ALTERSKATEGORIE_GROB</td>\n",
       "      <td>person</td>\n",
       "      <td>ordinal</td>\n",
       "      <td>[-1,0,9]</td>\n",
       "    </tr>\n",
       "    <tr>\n",
       "      <th>2</th>\n",
       "      <td>ANREDE_KZ</td>\n",
       "      <td>person</td>\n",
       "      <td>categorical</td>\n",
       "      <td>[-1,0]</td>\n",
       "    </tr>\n",
       "    <tr>\n",
       "      <th>3</th>\n",
       "      <td>CJT_GESAMTTYP</td>\n",
       "      <td>person</td>\n",
       "      <td>categorical</td>\n",
       "      <td>[0]</td>\n",
       "    </tr>\n",
       "    <tr>\n",
       "      <th>4</th>\n",
       "      <td>FINANZ_MINIMALIST</td>\n",
       "      <td>person</td>\n",
       "      <td>ordinal</td>\n",
       "      <td>[-1]</td>\n",
       "    </tr>\n",
       "  </tbody>\n",
       "</table>\n",
       "</div>"
      ],
      "text/plain": [
       "              attribute information_level         type missing_or_unknown\n",
       "0              AGER_TYP            person  categorical             [-1,0]\n",
       "1  ALTERSKATEGORIE_GROB            person      ordinal           [-1,0,9]\n",
       "2             ANREDE_KZ            person  categorical             [-1,0]\n",
       "3         CJT_GESAMTTYP            person  categorical                [0]\n",
       "4     FINANZ_MINIMALIST            person      ordinal               [-1]"
      ]
     },
     "execution_count": 8,
     "metadata": {},
     "output_type": "execute_result"
    }
   ],
   "source": [
    "feat_info.head()"
   ]
  },
  {
   "cell_type": "markdown",
   "metadata": {},
   "source": [
    "> **Tip**: Add additional cells to keep everything in reasonably-sized chunks! Keyboard shortcut `esc --> a` (press escape to enter command mode, then press the 'A' key) adds a new cell before the active cell, and `esc --> b` adds a new cell after the active cell. If you need to convert an active cell to a markdown cell, use `esc --> m` and to convert to a code cell, use `esc --> y`. \n",
    "\n",
    "## Step 1: Preprocessing\n",
    "\n",
    "### Step 1.1: Assess Missing Data\n",
    "\n",
    "The feature summary file contains a summary of properties for each demographics data column. You will use this file to help you make cleaning decisions during this stage of the project. First of all, you should assess the demographics data in terms of missing data. Pay attention to the following points as you perform your analysis, and take notes on what you observe. Make sure that you fill in the **Discussion** cell with your findings and decisions at the end of each step that has one!\n",
    "\n",
    "#### Step 1.1.1: Convert Missing Value Codes to NaNs\n",
    "The fourth column of the feature attributes summary (loaded in above as `feat_info`) documents the codes from the data dictionary that indicate missing or unknown data. While the file encodes this as a list (e.g. `[-1,0]`), this will get read in as a string object. You'll need to do a little bit of parsing to make use of it to identify and clean the data. Convert data that matches a 'missing' or 'unknown' value code into a numpy NaN value. You might want to see how much data takes on a 'missing' or 'unknown' code, and how much data is naturally missing, as a point of interest.\n",
    "\n",
    "**As one more reminder, you are encouraged to add additional cells to break up your analysis into manageable chunks.**"
   ]
  },
  {
   "cell_type": "markdown",
   "metadata": {},
   "source": [
    "approach:\n",
    "for each attribute in feat_info:\n",
    "for each attribute value that is the same as the \n",
    "azdias column name:\n",
    "check to see if any rows have a value equal to the missing_or_unknown value for the corresponding feat_info row.\n",
    "\n"
   ]
  },
  {
   "cell_type": "code",
   "execution_count": 9,
   "metadata": {},
   "outputs": [],
   "source": [
    "# make a copy of dataframe for data wrangling steps\n",
    "azdias_clean = azdias.copy()"
   ]
  },
  {
   "cell_type": "code",
   "execution_count": 10,
   "metadata": {},
   "outputs": [
    {
     "data": {
      "text/plain": [
       "['-1', '0']"
      ]
     },
     "execution_count": 10,
     "metadata": {},
     "output_type": "execute_result"
    }
   ],
   "source": [
    "# code to convert string to list\n",
    "test_list = []\n",
    "for i in feat_info.missing_or_unknown[0][1:-1].split(','):\n",
    "    test_list.append(i)\n",
    "test_list    # test my code"
   ]
  },
  {
   "cell_type": "code",
   "execution_count": 11,
   "metadata": {},
   "outputs": [],
   "source": [
    "# Loop through pairs of attributes and corresponding missing value strings in feat_info to convert strings into lists\n",
    "for attribute, missing_val in zip(feat_info.attribute, feat_info.missing_or_unknown):\n",
    "    # for each attribute, instantiate a list to hold converted strings of missing values\n",
    "    missing_list = []\n",
    "    # Loop through string and add each item to list\n",
    "    for i in missing_val[1:-1].split(','):\n",
    "        missing_list.append(i)\n",
    "        # now for each matching attribute in azdias compare row value to list of missing values from feat_info\n",
    "        # if matches, convert to NAN\n",
    "        azdias_clean.loc[azdias_clean['{}'.format(attribute)].isin(missing_list), '{}'.format(attribute)]=np.NaN"
   ]
  },
  {
   "cell_type": "code",
   "execution_count": 12,
   "metadata": {},
   "outputs": [
    {
     "data": {
      "text/html": [
       "<div>\n",
       "<style scoped>\n",
       "    .dataframe tbody tr th:only-of-type {\n",
       "        vertical-align: middle;\n",
       "    }\n",
       "\n",
       "    .dataframe tbody tr th {\n",
       "        vertical-align: top;\n",
       "    }\n",
       "\n",
       "    .dataframe thead th {\n",
       "        text-align: right;\n",
       "    }\n",
       "</style>\n",
       "<table border=\"1\" class=\"dataframe\">\n",
       "  <thead>\n",
       "    <tr style=\"text-align: right;\">\n",
       "      <th></th>\n",
       "      <th>attribute</th>\n",
       "      <th>missing_or_unknown</th>\n",
       "    </tr>\n",
       "  </thead>\n",
       "  <tbody>\n",
       "    <tr>\n",
       "      <th>0</th>\n",
       "      <td>AGER_TYP</td>\n",
       "      <td>[-1,0]</td>\n",
       "    </tr>\n",
       "    <tr>\n",
       "      <th>1</th>\n",
       "      <td>ALTERSKATEGORIE_GROB</td>\n",
       "      <td>[-1,0,9]</td>\n",
       "    </tr>\n",
       "    <tr>\n",
       "      <th>2</th>\n",
       "      <td>ANREDE_KZ</td>\n",
       "      <td>[-1,0]</td>\n",
       "    </tr>\n",
       "    <tr>\n",
       "      <th>3</th>\n",
       "      <td>CJT_GESAMTTYP</td>\n",
       "      <td>[0]</td>\n",
       "    </tr>\n",
       "    <tr>\n",
       "      <th>4</th>\n",
       "      <td>FINANZ_MINIMALIST</td>\n",
       "      <td>[-1]</td>\n",
       "    </tr>\n",
       "    <tr>\n",
       "      <th>5</th>\n",
       "      <td>FINANZ_SPARER</td>\n",
       "      <td>[-1]</td>\n",
       "    </tr>\n",
       "    <tr>\n",
       "      <th>6</th>\n",
       "      <td>FINANZ_VORSORGER</td>\n",
       "      <td>[-1]</td>\n",
       "    </tr>\n",
       "    <tr>\n",
       "      <th>7</th>\n",
       "      <td>FINANZ_ANLEGER</td>\n",
       "      <td>[-1]</td>\n",
       "    </tr>\n",
       "    <tr>\n",
       "      <th>8</th>\n",
       "      <td>FINANZ_UNAUFFAELLIGER</td>\n",
       "      <td>[-1]</td>\n",
       "    </tr>\n",
       "    <tr>\n",
       "      <th>9</th>\n",
       "      <td>FINANZ_HAUSBAUER</td>\n",
       "      <td>[-1]</td>\n",
       "    </tr>\n",
       "    <tr>\n",
       "      <th>10</th>\n",
       "      <td>FINANZTYP</td>\n",
       "      <td>[-1]</td>\n",
       "    </tr>\n",
       "    <tr>\n",
       "      <th>11</th>\n",
       "      <td>GEBURTSJAHR</td>\n",
       "      <td>[0]</td>\n",
       "    </tr>\n",
       "    <tr>\n",
       "      <th>12</th>\n",
       "      <td>GFK_URLAUBERTYP</td>\n",
       "      <td>[]</td>\n",
       "    </tr>\n",
       "    <tr>\n",
       "      <th>13</th>\n",
       "      <td>GREEN_AVANTGARDE</td>\n",
       "      <td>[]</td>\n",
       "    </tr>\n",
       "    <tr>\n",
       "      <th>14</th>\n",
       "      <td>HEALTH_TYP</td>\n",
       "      <td>[-1,0]</td>\n",
       "    </tr>\n",
       "    <tr>\n",
       "      <th>15</th>\n",
       "      <td>LP_LEBENSPHASE_FEIN</td>\n",
       "      <td>[0]</td>\n",
       "    </tr>\n",
       "    <tr>\n",
       "      <th>16</th>\n",
       "      <td>LP_LEBENSPHASE_GROB</td>\n",
       "      <td>[0]</td>\n",
       "    </tr>\n",
       "    <tr>\n",
       "      <th>17</th>\n",
       "      <td>LP_FAMILIE_FEIN</td>\n",
       "      <td>[0]</td>\n",
       "    </tr>\n",
       "    <tr>\n",
       "      <th>18</th>\n",
       "      <td>LP_FAMILIE_GROB</td>\n",
       "      <td>[0]</td>\n",
       "    </tr>\n",
       "    <tr>\n",
       "      <th>19</th>\n",
       "      <td>LP_STATUS_FEIN</td>\n",
       "      <td>[0]</td>\n",
       "    </tr>\n",
       "    <tr>\n",
       "      <th>20</th>\n",
       "      <td>LP_STATUS_GROB</td>\n",
       "      <td>[0]</td>\n",
       "    </tr>\n",
       "    <tr>\n",
       "      <th>21</th>\n",
       "      <td>NATIONALITAET_KZ</td>\n",
       "      <td>[-1,0]</td>\n",
       "    </tr>\n",
       "    <tr>\n",
       "      <th>22</th>\n",
       "      <td>PRAEGENDE_JUGENDJAHRE</td>\n",
       "      <td>[-1,0]</td>\n",
       "    </tr>\n",
       "    <tr>\n",
       "      <th>23</th>\n",
       "      <td>RETOURTYP_BK_S</td>\n",
       "      <td>[0]</td>\n",
       "    </tr>\n",
       "    <tr>\n",
       "      <th>24</th>\n",
       "      <td>SEMIO_SOZ</td>\n",
       "      <td>[-1,9]</td>\n",
       "    </tr>\n",
       "    <tr>\n",
       "      <th>25</th>\n",
       "      <td>SEMIO_FAM</td>\n",
       "      <td>[-1,9]</td>\n",
       "    </tr>\n",
       "    <tr>\n",
       "      <th>26</th>\n",
       "      <td>SEMIO_REL</td>\n",
       "      <td>[-1,9]</td>\n",
       "    </tr>\n",
       "    <tr>\n",
       "      <th>27</th>\n",
       "      <td>SEMIO_MAT</td>\n",
       "      <td>[-1,9]</td>\n",
       "    </tr>\n",
       "    <tr>\n",
       "      <th>28</th>\n",
       "      <td>SEMIO_VERT</td>\n",
       "      <td>[-1,9]</td>\n",
       "    </tr>\n",
       "    <tr>\n",
       "      <th>29</th>\n",
       "      <td>SEMIO_LUST</td>\n",
       "      <td>[-1,9]</td>\n",
       "    </tr>\n",
       "    <tr>\n",
       "      <th>...</th>\n",
       "      <td>...</td>\n",
       "      <td>...</td>\n",
       "    </tr>\n",
       "    <tr>\n",
       "      <th>55</th>\n",
       "      <td>OST_WEST_KZ</td>\n",
       "      <td>[-1]</td>\n",
       "    </tr>\n",
       "    <tr>\n",
       "      <th>56</th>\n",
       "      <td>WOHNLAGE</td>\n",
       "      <td>[-1]</td>\n",
       "    </tr>\n",
       "    <tr>\n",
       "      <th>57</th>\n",
       "      <td>CAMEO_DEUG_2015</td>\n",
       "      <td>[-1,X]</td>\n",
       "    </tr>\n",
       "    <tr>\n",
       "      <th>58</th>\n",
       "      <td>CAMEO_DEU_2015</td>\n",
       "      <td>[XX]</td>\n",
       "    </tr>\n",
       "    <tr>\n",
       "      <th>59</th>\n",
       "      <td>CAMEO_INTL_2015</td>\n",
       "      <td>[-1,XX]</td>\n",
       "    </tr>\n",
       "    <tr>\n",
       "      <th>60</th>\n",
       "      <td>KBA05_ANTG1</td>\n",
       "      <td>[-1]</td>\n",
       "    </tr>\n",
       "    <tr>\n",
       "      <th>61</th>\n",
       "      <td>KBA05_ANTG2</td>\n",
       "      <td>[-1]</td>\n",
       "    </tr>\n",
       "    <tr>\n",
       "      <th>62</th>\n",
       "      <td>KBA05_ANTG3</td>\n",
       "      <td>[-1]</td>\n",
       "    </tr>\n",
       "    <tr>\n",
       "      <th>63</th>\n",
       "      <td>KBA05_ANTG4</td>\n",
       "      <td>[-1]</td>\n",
       "    </tr>\n",
       "    <tr>\n",
       "      <th>64</th>\n",
       "      <td>KBA05_BAUMAX</td>\n",
       "      <td>[-1,0]</td>\n",
       "    </tr>\n",
       "    <tr>\n",
       "      <th>65</th>\n",
       "      <td>KBA05_GBZ</td>\n",
       "      <td>[-1,0]</td>\n",
       "    </tr>\n",
       "    <tr>\n",
       "      <th>66</th>\n",
       "      <td>BALLRAUM</td>\n",
       "      <td>[-1]</td>\n",
       "    </tr>\n",
       "    <tr>\n",
       "      <th>67</th>\n",
       "      <td>EWDICHTE</td>\n",
       "      <td>[-1]</td>\n",
       "    </tr>\n",
       "    <tr>\n",
       "      <th>68</th>\n",
       "      <td>INNENSTADT</td>\n",
       "      <td>[-1]</td>\n",
       "    </tr>\n",
       "    <tr>\n",
       "      <th>69</th>\n",
       "      <td>GEBAEUDETYP_RASTER</td>\n",
       "      <td>[]</td>\n",
       "    </tr>\n",
       "    <tr>\n",
       "      <th>70</th>\n",
       "      <td>KKK</td>\n",
       "      <td>[-1,0]</td>\n",
       "    </tr>\n",
       "    <tr>\n",
       "      <th>71</th>\n",
       "      <td>MOBI_REGIO</td>\n",
       "      <td>[]</td>\n",
       "    </tr>\n",
       "    <tr>\n",
       "      <th>72</th>\n",
       "      <td>ONLINE_AFFINITAET</td>\n",
       "      <td>[]</td>\n",
       "    </tr>\n",
       "    <tr>\n",
       "      <th>73</th>\n",
       "      <td>REGIOTYP</td>\n",
       "      <td>[-1,0]</td>\n",
       "    </tr>\n",
       "    <tr>\n",
       "      <th>74</th>\n",
       "      <td>KBA13_ANZAHL_PKW</td>\n",
       "      <td>[]</td>\n",
       "    </tr>\n",
       "    <tr>\n",
       "      <th>75</th>\n",
       "      <td>PLZ8_ANTG1</td>\n",
       "      <td>[-1]</td>\n",
       "    </tr>\n",
       "    <tr>\n",
       "      <th>76</th>\n",
       "      <td>PLZ8_ANTG2</td>\n",
       "      <td>[-1]</td>\n",
       "    </tr>\n",
       "    <tr>\n",
       "      <th>77</th>\n",
       "      <td>PLZ8_ANTG3</td>\n",
       "      <td>[-1]</td>\n",
       "    </tr>\n",
       "    <tr>\n",
       "      <th>78</th>\n",
       "      <td>PLZ8_ANTG4</td>\n",
       "      <td>[-1]</td>\n",
       "    </tr>\n",
       "    <tr>\n",
       "      <th>79</th>\n",
       "      <td>PLZ8_BAUMAX</td>\n",
       "      <td>[-1,0]</td>\n",
       "    </tr>\n",
       "    <tr>\n",
       "      <th>80</th>\n",
       "      <td>PLZ8_HHZ</td>\n",
       "      <td>[-1]</td>\n",
       "    </tr>\n",
       "    <tr>\n",
       "      <th>81</th>\n",
       "      <td>PLZ8_GBZ</td>\n",
       "      <td>[-1]</td>\n",
       "    </tr>\n",
       "    <tr>\n",
       "      <th>82</th>\n",
       "      <td>ARBEIT</td>\n",
       "      <td>[-1,9]</td>\n",
       "    </tr>\n",
       "    <tr>\n",
       "      <th>83</th>\n",
       "      <td>ORTSGR_KLS9</td>\n",
       "      <td>[-1,0]</td>\n",
       "    </tr>\n",
       "    <tr>\n",
       "      <th>84</th>\n",
       "      <td>RELAT_AB</td>\n",
       "      <td>[-1,9]</td>\n",
       "    </tr>\n",
       "  </tbody>\n",
       "</table>\n",
       "<p>85 rows × 2 columns</p>\n",
       "</div>"
      ],
      "text/plain": [
       "                attribute missing_or_unknown\n",
       "0                AGER_TYP             [-1,0]\n",
       "1    ALTERSKATEGORIE_GROB           [-1,0,9]\n",
       "2               ANREDE_KZ             [-1,0]\n",
       "3           CJT_GESAMTTYP                [0]\n",
       "4       FINANZ_MINIMALIST               [-1]\n",
       "5           FINANZ_SPARER               [-1]\n",
       "6        FINANZ_VORSORGER               [-1]\n",
       "7          FINANZ_ANLEGER               [-1]\n",
       "8   FINANZ_UNAUFFAELLIGER               [-1]\n",
       "9        FINANZ_HAUSBAUER               [-1]\n",
       "10              FINANZTYP               [-1]\n",
       "11            GEBURTSJAHR                [0]\n",
       "12        GFK_URLAUBERTYP                 []\n",
       "13       GREEN_AVANTGARDE                 []\n",
       "14             HEALTH_TYP             [-1,0]\n",
       "15    LP_LEBENSPHASE_FEIN                [0]\n",
       "16    LP_LEBENSPHASE_GROB                [0]\n",
       "17        LP_FAMILIE_FEIN                [0]\n",
       "18        LP_FAMILIE_GROB                [0]\n",
       "19         LP_STATUS_FEIN                [0]\n",
       "20         LP_STATUS_GROB                [0]\n",
       "21       NATIONALITAET_KZ             [-1,0]\n",
       "22  PRAEGENDE_JUGENDJAHRE             [-1,0]\n",
       "23         RETOURTYP_BK_S                [0]\n",
       "24              SEMIO_SOZ             [-1,9]\n",
       "25              SEMIO_FAM             [-1,9]\n",
       "26              SEMIO_REL             [-1,9]\n",
       "27              SEMIO_MAT             [-1,9]\n",
       "28             SEMIO_VERT             [-1,9]\n",
       "29             SEMIO_LUST             [-1,9]\n",
       "..                    ...                ...\n",
       "55            OST_WEST_KZ               [-1]\n",
       "56               WOHNLAGE               [-1]\n",
       "57        CAMEO_DEUG_2015             [-1,X]\n",
       "58         CAMEO_DEU_2015               [XX]\n",
       "59        CAMEO_INTL_2015            [-1,XX]\n",
       "60            KBA05_ANTG1               [-1]\n",
       "61            KBA05_ANTG2               [-1]\n",
       "62            KBA05_ANTG3               [-1]\n",
       "63            KBA05_ANTG4               [-1]\n",
       "64           KBA05_BAUMAX             [-1,0]\n",
       "65              KBA05_GBZ             [-1,0]\n",
       "66               BALLRAUM               [-1]\n",
       "67               EWDICHTE               [-1]\n",
       "68             INNENSTADT               [-1]\n",
       "69     GEBAEUDETYP_RASTER                 []\n",
       "70                    KKK             [-1,0]\n",
       "71             MOBI_REGIO                 []\n",
       "72      ONLINE_AFFINITAET                 []\n",
       "73               REGIOTYP             [-1,0]\n",
       "74       KBA13_ANZAHL_PKW                 []\n",
       "75             PLZ8_ANTG1               [-1]\n",
       "76             PLZ8_ANTG2               [-1]\n",
       "77             PLZ8_ANTG3               [-1]\n",
       "78             PLZ8_ANTG4               [-1]\n",
       "79            PLZ8_BAUMAX             [-1,0]\n",
       "80               PLZ8_HHZ               [-1]\n",
       "81               PLZ8_GBZ               [-1]\n",
       "82                 ARBEIT             [-1,9]\n",
       "83            ORTSGR_KLS9             [-1,0]\n",
       "84               RELAT_AB             [-1,9]\n",
       "\n",
       "[85 rows x 2 columns]"
      ]
     },
     "execution_count": 12,
     "metadata": {},
     "output_type": "execute_result"
    }
   ],
   "source": [
    "# Let's see if expected values were converted via quick visual check\n",
    "feat_info[['attribute', 'missing_or_unknown']]"
   ]
  },
  {
   "cell_type": "code",
   "execution_count": 13,
   "metadata": {},
   "outputs": [
    {
     "data": {
      "text/plain": [
       "2511     XX\n",
       "4569     XX\n",
       "9803     XX\n",
       "16700    XX\n",
       "16883    XX\n",
       "Name: CAMEO_INTL_2015, dtype: object"
      ]
     },
     "execution_count": 13,
     "metadata": {},
     "output_type": "execute_result"
    }
   ],
   "source": [
    "# Check before values for 'CAMEO_INTL_2015'\n",
    "azdias.loc[azdias['{}'.format('CAMEO_INTL_2015')].isin([-1,'XX'])].head().CAMEO_INTL_2015"
   ]
  },
  {
   "cell_type": "code",
   "execution_count": 14,
   "metadata": {},
   "outputs": [
    {
     "data": {
      "text/plain": [
       "2511     NaN\n",
       "4569     NaN\n",
       "9803     NaN\n",
       "16700    NaN\n",
       "16883    NaN\n",
       "Name: CAMEO_INTL_2015, dtype: object"
      ]
     },
     "execution_count": 14,
     "metadata": {},
     "output_type": "execute_result"
    }
   ],
   "source": [
    "# Check after values\n",
    "azdias_clean.loc[azdias['{}'.format('CAMEO_INTL_2015')].isin([-1,'XX'])].head().CAMEO_INTL_2015"
   ]
  },
  {
   "cell_type": "code",
   "execution_count": 15,
   "metadata": {},
   "outputs": [],
   "source": [
    "# expected values were converted to NAN!"
   ]
  },
  {
   "cell_type": "code",
   "execution_count": 16,
   "metadata": {},
   "outputs": [
    {
     "data": {
      "text/plain": [
       "array([nan, '51', '24', '12', '43', '54', '22', '14', '13', '15', '33',\n",
       "       '41', '34', '55', '25', '23', '31', '52', '35', '45', '44', '32'], dtype=object)"
      ]
     },
     "execution_count": 16,
     "metadata": {},
     "output_type": "execute_result"
    }
   ],
   "source": [
    "# all values are numbers now, so we could convert type to Float to be consistent w/ other such columns\n",
    "azdias_clean.CAMEO_INTL_2015.unique()"
   ]
  },
  {
   "cell_type": "code",
   "execution_count": 17,
   "metadata": {},
   "outputs": [
    {
     "data": {
      "text/plain": [
       "numpy.float64"
      ]
     },
     "execution_count": 17,
     "metadata": {},
     "output_type": "execute_result"
    }
   ],
   "source": [
    "type(azdias_clean.ALTERSKATEGORIE_GROB[26])"
   ]
  },
  {
   "cell_type": "code",
   "execution_count": 18,
   "metadata": {},
   "outputs": [
    {
     "data": {
      "text/plain": [
       "array([nan, 'W', 'O'], dtype=object)"
      ]
     },
     "execution_count": 18,
     "metadata": {},
     "output_type": "execute_result"
    }
   ],
   "source": [
    "# However, there still appears to be some values that are not numbers??\n",
    "azdias_clean.OST_WEST_KZ.unique()"
   ]
  },
  {
   "cell_type": "code",
   "execution_count": 19,
   "metadata": {},
   "outputs": [
    {
     "data": {
      "text/plain": [
       "array([nan, 'W', 'O'], dtype=object)"
      ]
     },
     "execution_count": 19,
     "metadata": {},
     "output_type": "execute_result"
    }
   ],
   "source": [
    "azdias.OST_WEST_KZ.unique()"
   ]
  },
  {
   "cell_type": "markdown",
   "metadata": {},
   "source": [
    "Let's go through each column to see which can be converted to Float/Int datatypes\n",
    "columns that are currently strings: 'OST_WEST_KZ', 'CAMEO_DEUG_2015', 'CAMEO_DEU_2015', 'CAMEO_INTL_2015'"
   ]
  },
  {
   "cell_type": "code",
   "execution_count": 20,
   "metadata": {},
   "outputs": [
    {
     "data": {
      "text/plain": [
       "array([nan, '8A', '4C', '2A', '6B', '8C', '4A', '2D', '1A', '1E', '9D',\n",
       "       '5C', '8B', '7A', '5D', '9E', '9B', '1B', '3D', '4E', '4B', '3C',\n",
       "       '5A', '7B', '9A', '6D', '6E', '2C', '7C', '9C', '7D', '5E', '1D',\n",
       "       '8D', '6C', '6A', '5B', '4D', '3A', '2B', '7E', '3B', '6F', '5F',\n",
       "       '1C'], dtype=object)"
      ]
     },
     "execution_count": 20,
     "metadata": {},
     "output_type": "execute_result"
    }
   ],
   "source": [
    "azdias_clean['CAMEO_DEU_2015'].unique()"
   ]
  },
  {
   "cell_type": "code",
   "execution_count": 21,
   "metadata": {},
   "outputs": [
    {
     "data": {
      "text/plain": [
       "array([nan, '8', '4', '2', '6', '1', '9', '5', '7', '3'], dtype=object)"
      ]
     },
     "execution_count": 21,
     "metadata": {},
     "output_type": "execute_result"
    }
   ],
   "source": [
    "azdias_clean['CAMEO_DEUG_2015'].unique()"
   ]
  },
  {
   "cell_type": "code",
   "execution_count": 22,
   "metadata": {},
   "outputs": [
    {
     "data": {
      "text/plain": [
       "array([nan, '51', '24', '12', '43', '54', '22', '14', '13', '15', '33',\n",
       "       '41', '34', '55', '25', '23', '31', '52', '35', '45', '44', '32'], dtype=object)"
      ]
     },
     "execution_count": 22,
     "metadata": {},
     "output_type": "execute_result"
    }
   ],
   "source": [
    "azdias_clean['CAMEO_INTL_2015'].unique()"
   ]
  },
  {
   "cell_type": "markdown",
   "metadata": {},
   "source": [
    "So it looks like OST_WEST_KZ and CAMEO_DEU_2015 can't be converted to a number data type, but CAMEO_DEUG_2015 and CAMEO_INTL_2015 can be converted"
   ]
  },
  {
   "cell_type": "code",
   "execution_count": 23,
   "metadata": {},
   "outputs": [],
   "source": [
    "azdias_clean.CAMEO_DEUG_2015 = azdias_clean.CAMEO_DEUG_2015.astype('Float64')\n",
    "azdias_clean.CAMEO_INTL_2015 = azdias_clean.CAMEO_INTL_2015.astype('Float64')"
   ]
  },
  {
   "cell_type": "code",
   "execution_count": 24,
   "metadata": {},
   "outputs": [
    {
     "name": "stdout",
     "output_type": "stream",
     "text": [
      "<class 'pandas.core.frame.DataFrame'>\n",
      "RangeIndex: 891221 entries, 0 to 891220\n",
      "Data columns (total 85 columns):\n",
      "AGER_TYP                 205378 non-null float64\n",
      "ALTERSKATEGORIE_GROB     888340 non-null float64\n",
      "ANREDE_KZ                891221 non-null float64\n",
      "CJT_GESAMTTYP            886367 non-null float64\n",
      "FINANZ_MINIMALIST        891221 non-null float64\n",
      "FINANZ_SPARER            891221 non-null float64\n",
      "FINANZ_VORSORGER         891221 non-null float64\n",
      "FINANZ_ANLEGER           891221 non-null float64\n",
      "FINANZ_UNAUFFAELLIGER    891221 non-null float64\n",
      "FINANZ_HAUSBAUER         891221 non-null float64\n",
      "FINANZTYP                891221 non-null float64\n",
      "GEBURTSJAHR              498903 non-null float64\n",
      "GFK_URLAUBERTYP          886367 non-null float64\n",
      "GREEN_AVANTGARDE         891221 non-null float64\n",
      "HEALTH_TYP               780025 non-null float64\n",
      "LP_LEBENSPHASE_FEIN      793589 non-null float64\n",
      "LP_LEBENSPHASE_GROB      796649 non-null float64\n",
      "LP_FAMILIE_FEIN          813429 non-null float64\n",
      "LP_FAMILIE_GROB          813429 non-null float64\n",
      "LP_STATUS_FEIN           886367 non-null float64\n",
      "LP_STATUS_GROB           886367 non-null float64\n",
      "NATIONALITAET_KZ         782906 non-null float64\n",
      "PRAEGENDE_JUGENDJAHRE    783057 non-null float64\n",
      "RETOURTYP_BK_S           886367 non-null float64\n",
      "SEMIO_SOZ                891221 non-null float64\n",
      "SEMIO_FAM                891221 non-null float64\n",
      "SEMIO_REL                891221 non-null float64\n",
      "SEMIO_MAT                891221 non-null float64\n",
      "SEMIO_VERT               891221 non-null float64\n",
      "SEMIO_LUST               891221 non-null float64\n",
      "SEMIO_ERL                891221 non-null float64\n",
      "SEMIO_KULT               891221 non-null float64\n",
      "SEMIO_RAT                891221 non-null float64\n",
      "SEMIO_KRIT               891221 non-null float64\n",
      "SEMIO_DOM                891221 non-null float64\n",
      "SEMIO_KAEM               891221 non-null float64\n",
      "SEMIO_PFLICHT            891221 non-null float64\n",
      "SEMIO_TRADV              891221 non-null float64\n",
      "SHOPPER_TYP              780025 non-null float64\n",
      "SOHO_KZ                  817722 non-null float64\n",
      "TITEL_KZ                 2160 non-null float64\n",
      "VERS_TYP                 780025 non-null float64\n",
      "ZABEOTYP                 891221 non-null float64\n",
      "ALTER_HH                 580954 non-null float64\n",
      "ANZ_PERSONEN             817722 non-null float64\n",
      "ANZ_TITEL                817722 non-null float64\n",
      "HH_EINKOMMEN_SCORE       872873 non-null float64\n",
      "KK_KUNDENTYP             306609 non-null float64\n",
      "W_KEIT_KIND_HH           743233 non-null float64\n",
      "WOHNDAUER_2008           817722 non-null float64\n",
      "ANZ_HAUSHALTE_AKTIV      791610 non-null float64\n",
      "ANZ_HH_TITEL             794213 non-null float64\n",
      "GEBAEUDETYP              798073 non-null float64\n",
      "KONSUMNAEHE              817252 non-null float64\n",
      "MIN_GEBAEUDEJAHR         798073 non-null float64\n",
      "OST_WEST_KZ              798073 non-null object\n",
      "WOHNLAGE                 798073 non-null float64\n",
      "CAMEO_DEUG_2015          791869 non-null float64\n",
      "CAMEO_DEU_2015           791869 non-null object\n",
      "CAMEO_INTL_2015          791869 non-null float64\n",
      "KBA05_ANTG1              757897 non-null float64\n",
      "KBA05_ANTG2              757897 non-null float64\n",
      "KBA05_ANTG3              757897 non-null float64\n",
      "KBA05_ANTG4              757897 non-null float64\n",
      "KBA05_BAUMAX             414697 non-null float64\n",
      "KBA05_GBZ                757897 non-null float64\n",
      "BALLRAUM                 797481 non-null float64\n",
      "EWDICHTE                 797481 non-null float64\n",
      "INNENSTADT               797481 non-null float64\n",
      "GEBAEUDETYP_RASTER       798066 non-null float64\n",
      "KKK                      733157 non-null float64\n",
      "MOBI_REGIO               757897 non-null float64\n",
      "ONLINE_AFFINITAET        886367 non-null float64\n",
      "REGIOTYP                 733157 non-null float64\n",
      "KBA13_ANZAHL_PKW         785421 non-null float64\n",
      "PLZ8_ANTG1               774706 non-null float64\n",
      "PLZ8_ANTG2               774706 non-null float64\n",
      "PLZ8_ANTG3               774706 non-null float64\n",
      "PLZ8_ANTG4               774706 non-null float64\n",
      "PLZ8_BAUMAX              774706 non-null float64\n",
      "PLZ8_HHZ                 774706 non-null float64\n",
      "PLZ8_GBZ                 774706 non-null float64\n",
      "ARBEIT                   793846 non-null float64\n",
      "ORTSGR_KLS9              793947 non-null float64\n",
      "RELAT_AB                 793846 non-null float64\n",
      "dtypes: float64(83), object(2)\n",
      "memory usage: 578.0+ MB\n"
     ]
    }
   ],
   "source": [
    "azdias_clean.info()"
   ]
  },
  {
   "cell_type": "code",
   "execution_count": 25,
   "metadata": {},
   "outputs": [
    {
     "name": "stdout",
     "output_type": "stream",
     "text": [
      "GREEN_AVANTGARDE\n",
      "SHOPPER_TYP\n",
      "SOHO_KZ\n",
      "ANZ_PERSONEN\n",
      "ANZ_TITEL\n",
      "ANZ_HH_TITEL\n",
      "WOHNLAGE\n",
      "KBA05_ANTG1\n",
      "KBA05_ANTG2\n",
      "KBA05_ANTG3\n",
      "KBA05_ANTG4\n",
      "ONLINE_AFFINITAET\n",
      "KBA13_ANZAHL_PKW\n",
      "PLZ8_ANTG1\n",
      "PLZ8_ANTG2\n",
      "PLZ8_ANTG3\n",
      "PLZ8_ANTG4\n"
     ]
    }
   ],
   "source": [
    "# check for any remaining columns w/ zero or negative values \n",
    "for col in azdias_clean.columns.values:\n",
    "    if azdias_clean[col].isin([-1,0]).any():\n",
    "        print(col)"
   ]
  },
  {
   "cell_type": "markdown",
   "metadata": {},
   "source": [
    "#### Analysis: \n",
    "Besides for the feature WOHNLAGE, all other features with zero or negative values listed above are as expected in that the feature is either a binary feature like GREEN_AVANTGARDE (0 = not a member, 1 = member), SOHO_KZ (0 = no small/home office, 1 = small/home office) OR that a zero value is consistent with the direction of scale (e.g. low to high or high to low) for that feature and type (e.g. person-level/household-level/building-level/RR4 micro-cell/RR3 micro-cell/Postcode-level/RR1 neighborhood/plz8 macro-cell/community-level feature)\n",
    "As for WOHNLAGE, the zero value signifies \"no score calculated\" but instead should be NAN instead because it is inconsistent with the direction of scale for this feature (i.e. the lower the score, the higher the rating usually).  I will be replacing this with NAN.\n",
    "WOHNLAGE: Neighborhood quality (or rural flag)\n",
    "-  0: no score calculated --> should be NAN instead\n",
    "-  1: very good neighborhood\n",
    "-  2: good neighborhood\n",
    "-  3: average neighborhood\n",
    "-  4: poor neighborhood\n",
    "-  5: very poor neighborhood\n",
    "-  7: rural neighborhood\n",
    "-  8: new building in rural neighborhood"
   ]
  },
  {
   "cell_type": "code",
   "execution_count": 26,
   "metadata": {},
   "outputs": [],
   "source": [
    "# Replacement step\n",
    "azdias_clean.loc[azdias_clean.WOHNLAGE.isin([0]), 'WOHNLAGE'] = np.NAN"
   ]
  },
  {
   "cell_type": "code",
   "execution_count": 27,
   "metadata": {},
   "outputs": [
    {
     "data": {
      "text/plain": [
       "array([ nan,   4.,   2.,   7.,   3.,   5.,   1.,   8.])"
      ]
     },
     "execution_count": 27,
     "metadata": {},
     "output_type": "execute_result"
    }
   ],
   "source": [
    "# confirm replacements\n",
    "azdias_clean.WOHNLAGE.unique()"
   ]
  },
  {
   "cell_type": "markdown",
   "metadata": {},
   "source": [
    "#### Step 1.1.2: Assess Missing Data in Each Column\n",
    "\n",
    "How much missing data is present in each column? There are a few columns that are outliers in terms of the proportion of values that are missing. You will want to use matplotlib's [`hist()`](https://matplotlib.org/api/_as_gen/matplotlib.pyplot.hist.html) function to visualize the distribution of missing value counts to find these columns. Identify and document these columns. While some of these columns might have justifications for keeping or re-encoding the data, for this project you should just remove them from the dataframe. (Feel free to make remarks about these outlier columns in the discussion, however!)\n",
    "\n",
    "For the remaining features, are there any patterns in which columns have, or share, missing data?"
   ]
  },
  {
   "cell_type": "code",
   "execution_count": 28,
   "metadata": {},
   "outputs": [
    {
     "data": {
      "image/png": "[encoded data removed]",
      "text/plain": [
       "<matplotlib.figure.Figure at 0x7fa65d11c748>"
      ]
     },
     "metadata": {
      "needs_background": "light"
     },
     "output_type": "display_data"
    }
   ],
   "source": [
    "plt.figure(figsize = (7,5))\n",
    "plt.hist(azdias_clean.isna().mean()*100, bins=100)\n",
    "plt.title(\"Count of Columns by Percent of missing values\")\n",
    "plt.xlabel(\"Percent of missing values\")\n",
    "plt.ylabel(\"Count of columns\");"
   ]
  },
  {
   "cell_type": "code",
   "execution_count": 29,
   "metadata": {},
   "outputs": [
    {
     "data": {
      "text/plain": [
       "TITEL_KZ          0.997576\n",
       "AGER_TYP          0.769554\n",
       "KK_KUNDENTYP      0.655967\n",
       "KBA05_BAUMAX      0.534687\n",
       "GEBURTSJAHR       0.440203\n",
       "ALTER_HH          0.348137\n",
       "REGIOTYP          0.177357\n",
       "KKK               0.177357\n",
       "W_KEIT_KIND_HH    0.166051\n",
       "KBA05_ANTG4       0.149597\n",
       "dtype: float64"
      ]
     },
     "execution_count": 29,
     "metadata": {},
     "output_type": "execute_result"
    }
   ],
   "source": [
    "# Investigate patterns in the amount of missing data in each column.\n",
    "azdias_clean.isna().mean().sort_values(ascending=False).head(10)"
   ]
  },
  {
   "cell_type": "code",
   "execution_count": 30,
   "metadata": {},
   "outputs": [],
   "source": [
    "# Remove the outlier columns from the dataset. (You'll perform other data\n",
    "# engineering tasks such as re-encoding and imputation later.)\n",
    "# There are 85 columns total, of which only 6 columns are missing 35% (34.8%) or more of their values.\n",
    "# So we'll remove these 6 columns"
   ]
  },
  {
   "cell_type": "code",
   "execution_count": 31,
   "metadata": {},
   "outputs": [
    {
     "data": {
      "text/plain": [
       "Index(['TITEL_KZ', 'AGER_TYP', 'KK_KUNDENTYP', 'KBA05_BAUMAX', 'GEBURTSJAHR',\n",
       "       'ALTER_HH'],\n",
       "      dtype='object')"
      ]
     },
     "execution_count": 31,
     "metadata": {},
     "output_type": "execute_result"
    }
   ],
   "source": [
    "# Get list of offending 6 columns\n",
    "azdias_clean.isna().mean().sort_values(ascending=False).head(6).index"
   ]
  },
  {
   "cell_type": "code",
   "execution_count": 32,
   "metadata": {},
   "outputs": [],
   "source": [
    "# Removal of 6 outlier columns with extremely high percentages of missing values\n",
    "azdias_clean.drop(['TITEL_KZ', 'AGER_TYP', 'KK_KUNDENTYP', 'KBA05_BAUMAX', 'GEBURTSJAHR',\n",
    "       'ALTER_HH'], axis=1, inplace=True)"
   ]
  },
  {
   "cell_type": "code",
   "execution_count": 33,
   "metadata": {},
   "outputs": [
    {
     "name": "stdout",
     "output_type": "stream",
     "text": [
      "<class 'pandas.core.frame.DataFrame'>\n",
      "RangeIndex: 79 entries, 0 to 78\n",
      "Data columns (total 4 columns):\n",
      "attribute             79 non-null object\n",
      "information_level     79 non-null object\n",
      "type                  79 non-null object\n",
      "missing_or_unknown    79 non-null object\n",
      "dtypes: object(4)\n",
      "memory usage: 2.5+ KB\n"
     ]
    }
   ],
   "source": [
    "# let's make a copy of feat_info with these values also dropped so as to avoid confusion later\n",
    "feat_clean = feat_info.copy()\n",
    "\n",
    "feat_clean.drop(feat_clean[feat_clean.attribute.isin(['TITEL_KZ', 'AGER_TYP', 'KK_KUNDENTYP', 'KBA05_BAUMAX', 'GEBURTSJAHR',\n",
    "       'ALTER_HH'])].index, inplace=True)\n",
    "# let's reset the index to account for removed rows\n",
    "feat_clean.reset_index(drop=True, inplace=True)\n",
    "feat_clean.info()"
   ]
  },
  {
   "cell_type": "markdown",
   "metadata": {},
   "source": [
    "#### Discussion 1.1.2: Assess Missing Data in Each Column\n",
    "\n",
    "The following 6 columns had ~35% or more of their values missing:'TITEL_KZ', 'AGER_TYP', 'KK_KUNDENTYP', 'KBA05_BAUMAX', 'GEBURTSJAHR','ALTER_HH', which is disproportionately high compared to the 79 other columns in the dataset as per the histogram above.  The vast majority of columns have <18% of their data missing.  As such, these 6 columns appear to be outliers and were removed."
   ]
  },
  {
   "cell_type": "markdown",
   "metadata": {},
   "source": [
    "#### Step 1.1.3: Assess Missing Data in Each Row\n",
    "\n",
    "Now, you'll perform a similar assessment for the rows of the dataset. How much data is missing in each row? As with the columns, you should see some groups of points that have a very different numbers of missing values. Divide the data into two subsets: one for data points that are above some threshold for missing values, and a second subset for points below that threshold.\n",
    "\n",
    "In order to know what to do with the outlier rows, we should see if the distribution of data values on columns that are not missing data (or are missing very little data) are similar or different between the two groups. Select at least five of these columns and compare the distribution of values.\n",
    "- You can use seaborn's [`countplot()`](https://seaborn.pydata.org/generated/seaborn.countplot.html) function to create a bar chart of code frequencies and matplotlib's [`subplot()`](https://matplotlib.org/api/_as_gen/matplotlib.pyplot.subplot.html) function to put bar charts for the two subplots side by side.\n",
    "- To reduce repeated code, you might want to write a function that can perform this comparison, taking as one of its arguments a column to be compared.\n",
    "\n",
    "Depending on what you observe in your comparison, this will have implications on how you approach your conclusions later in the analysis. If the distributions of non-missing features look similar between the data with many missing values and the data with few or no missing values, then we could argue that simply dropping those points from the analysis won't present a major issue. On the other hand, if the data with many missing values looks very different from the data with few or no missing values, then we should make a note on those data as special. We'll revisit these data later on. **Either way, you should continue your analysis for now using just the subset of the data with few or no missing values.**"
   ]
  },
  {
   "cell_type": "code",
   "execution_count": 34,
   "metadata": {},
   "outputs": [
    {
     "data": {
      "text/plain": [
       "0.54430379746835444"
      ]
     },
     "execution_count": 34,
     "metadata": {},
     "output_type": "execute_result"
    }
   ],
   "source": [
    "# test code for calculating percent of null values for a single row\n",
    "azdias_clean.iloc[0,:].isnull().mean()"
   ]
  },
  {
   "cell_type": "code",
   "execution_count": 35,
   "metadata": {},
   "outputs": [
    {
     "data": {
      "text/plain": [
       "True     43\n",
       "False    36\n",
       "Name: 0, dtype: int64"
      ]
     },
     "execution_count": 35,
     "metadata": {},
     "output_type": "execute_result"
    }
   ],
   "source": [
    "azdias_clean.iloc[0,:].isnull().value_counts()"
   ]
  },
  {
   "cell_type": "code",
   "execution_count": 36,
   "metadata": {},
   "outputs": [
    {
     "data": {
      "text/plain": [
       "0    0.544304\n",
       "1    0.000000\n",
       "2    0.000000\n",
       "3    0.088608\n",
       "4    0.000000\n",
       "dtype: float64"
      ]
     },
     "execution_count": 36,
     "metadata": {},
     "output_type": "execute_result"
    }
   ],
   "source": [
    "# test operation for all rows\n",
    "azdias_clean.isnull().mean(axis=1).head()"
   ]
  },
  {
   "cell_type": "code",
   "execution_count": 37,
   "metadata": {},
   "outputs": [
    {
     "data": {
      "text/plain": [
       "643174    0.620253\n",
       "732775    0.620253\n",
       "472919    0.607595\n",
       "474817    0.594937\n",
       "762078    0.594937\n",
       "dtype: float64"
      ]
     },
     "execution_count": 37,
     "metadata": {},
     "output_type": "execute_result"
    }
   ],
   "source": [
    "# Perform same operation for all rows\n",
    "azdias_clean.isnull().mean(axis=1).sort_values(ascending=False).head()"
   ]
  },
  {
   "cell_type": "code",
   "execution_count": 38,
   "metadata": {},
   "outputs": [
    {
     "data": {
      "image/png": "[encoded data removed]",
      "text/plain": [
       "<matplotlib.figure.Figure at 0x7fa65a911b70>"
      ]
     },
     "metadata": {
      "needs_background": "light"
     },
     "output_type": "display_data"
    }
   ],
   "source": [
    "# Histogram of distribution of percentage of missing values for each row\n",
    "plt.figure(figsize=(8,6))\n",
    "plt.hist(azdias_clean.isnull().mean(axis=1)*100, bins=70);\n",
    "plt.title(\"Count of Rows in Azdias by Percent of missing values\")\n",
    "plt.xlabel(\"Percent of missing values\")\n",
    "plt.ylabel(\"Count of rows\");"
   ]
  },
  {
   "cell_type": "code",
   "execution_count": 39,
   "metadata": {},
   "outputs": [],
   "source": [
    "# Write code to divide the data into two subsets based on the number of missing\n",
    "# values in each row.\n",
    "# It appears the large majority of rows have less than 30% of their data missing\n",
    "# Meanwhile, there is a group of outlier rows with more than 30% of their data missing\n",
    "# Hence we'll divide the data into two subsets based on a 30% missing data threshold. \n",
    "\n",
    "azdias_mt_30 = azdias_clean[azdias_clean.isnull().mean(axis=1)>=.3] # more than 30% data missing\n",
    "azdias_lt_30 = azdias_clean[azdias_clean.isnull().mean(axis=1)<.3] # less than 30% data missing"
   ]
  },
  {
   "cell_type": "code",
   "execution_count": 40,
   "metadata": {},
   "outputs": [
    {
     "data": {
      "text/plain": [
       "['ZABEOTYP',\n",
       " 'SEMIO_REL',\n",
       " 'SEMIO_MAT',\n",
       " 'SEMIO_VERT',\n",
       " 'SEMIO_LUST',\n",
       " 'SEMIO_ERL',\n",
       " 'SEMIO_KULT',\n",
       " 'SEMIO_RAT',\n",
       " 'SEMIO_KRIT',\n",
       " 'SEMIO_DOM']"
      ]
     },
     "execution_count": 40,
     "metadata": {},
     "output_type": "execute_result"
    }
   ],
   "source": [
    "# Compare the distribution of values for at least five columns where there are\n",
    "# no or few missing values, between the two subsets.\n",
    "# List of 10 columns with least number of missing values\n",
    "mt_30_top = list(azdias_mt_30.isnull().mean(axis=0).sort_values().head(10).index)\n",
    "mt_30_top"
   ]
  },
  {
   "cell_type": "code",
   "execution_count": 41,
   "metadata": {},
   "outputs": [
    {
     "data": {
      "text/plain": [
       "['ZABEOTYP',\n",
       " 'ANZ_TITEL',\n",
       " 'ANZ_PERSONEN',\n",
       " 'SEMIO_SOZ',\n",
       " 'SEMIO_FAM',\n",
       " 'SEMIO_REL',\n",
       " 'SEMIO_MAT',\n",
       " 'SEMIO_VERT',\n",
       " 'SEMIO_LUST',\n",
       " 'SEMIO_ERL']"
      ]
     },
     "execution_count": 41,
     "metadata": {},
     "output_type": "execute_result"
    }
   ],
   "source": [
    "lt_30_top = list(azdias_lt_30.isnull().mean(axis=0).sort_values().head(10).index)\n",
    "lt_30_top"
   ]
  },
  {
   "cell_type": "code",
   "execution_count": 42,
   "metadata": {},
   "outputs": [
    {
     "data": {
      "text/plain": [
       "['ZABEOTYP', 'SEMIO_REL', 'SEMIO_MAT', 'SEMIO_VERT', 'SEMIO_LUST']"
      ]
     },
     "execution_count": 42,
     "metadata": {},
     "output_type": "execute_result"
    }
   ],
   "source": [
    "top_col = []\n",
    "for col in mt_30_top:\n",
    "    if col in lt_30_top:\n",
    "        top_col.append(col)\n",
    "top_5 = top_col[0:5]\n",
    "top_5        "
   ]
  },
  {
   "cell_type": "markdown",
   "metadata": {},
   "source": [
    "5 shared columns for lowest (zero) missing values between 2 dataframes: ZABEOTYP, SEMIO_REL, SEMIO_MAT, SEMIO_VERT, SEMIO_LUST (also: SEMIO_ERL, SEMIO_KULT)"
   ]
  },
  {
   "cell_type": "markdown",
   "metadata": {},
   "source": [
    "#### Step 1.1.3: Assess Missing Data in Each Row\n",
    "\n",
    "Now, you'll perform a similar assessment for the rows of the dataset. How much data is missing in each row? As with the columns, you should see some groups of points that have a very different numbers of missing values. Divide the data into two subsets: one for data points that are above some threshold for missing values, and a second subset for points below that threshold.\n",
    "\n",
    "In order to know what to do with the outlier rows, we should see if the distribution of data values on columns that are not missing data (or are missing very little data) are similar or different between the two groups. Select at least five of these columns and compare the distribution of values.\n",
    "- You can use seaborn's [`countplot()`](https://seaborn.pydata.org/generated/seaborn.countplot.html) function to create a bar chart of code frequencies and matplotlib's [`subplot()`](https://matplotlib.org/api/_as_gen/matplotlib.pyplot.subplot.html) function to put bar charts for the two subplots side by side.\n",
    "- To reduce repeated code, you might want to write a function that can perform this comparison, taking as one of its arguments a column to be compared.\n",
    "\n",
    "Depending on what you observe in your comparison, this will have implications on how you approach your conclusions later in the analysis. If the distributions of non-missing features look similar between the data with many missing values and the data with few or no missing values, then we could argue that simply dropping those points from the analysis won't present a major issue. On the other hand, if the data with many missing values looks very different from the data with few or no missing values, then we should make a note on those data as special. We'll revisit these data later on. **Either way, you should continue your analysis for now using just the subset of the data with few or no missing values.**"
   ]
  },
  {
   "cell_type": "code",
   "execution_count": 43,
   "metadata": {},
   "outputs": [],
   "source": [
    "# As suggested, function to perform comparison between two sets of data for each column\n",
    "def compare_dist(col_list, index):\n",
    "    fig = plt.figure(figsize=(10,4))\n",
    "    fig.suptitle(col_list[index])\n",
    "    \n",
    "    ax1 = plt.subplot(1,2,1)\n",
    "    ax1.title.set_text('>=30% of data missing per row')\n",
    "    sns.countplot(x=col_list[index], data=azdias_mt_30 )\n",
    "    \n",
    "    ax2 = plt.subplot(1,2,2)\n",
    "    ax2.title.set_text('<30% of data missing per row')\n",
    "    sns.countplot(x=col_list[index], data=azdias_lt_30 );\n",
    "    \n",
    "    plt.show();  "
   ]
  },
  {
   "cell_type": "code",
   "execution_count": 44,
   "metadata": {},
   "outputs": [
    {
     "data": {
      "image/png": "[encoded data removed]",
      "text/plain": [
       "<matplotlib.figure.Figure at 0x7fa639c01748>"
      ]
     },
     "metadata": {
      "needs_background": "light"
     },
     "output_type": "display_data"
    },
    {
     "data": {
      "image/png": "[encoded data removed]",
      "text/plain": [
       "<matplotlib.figure.Figure at 0x7fa639b3a8d0>"
      ]
     },
     "metadata": {
      "needs_background": "light"
     },
     "output_type": "display_data"
    },
    {
     "data": {
      "image/png": "[encoded data removed]",
      "text/plain": [
       "<matplotlib.figure.Figure at 0x7fa65a7f8da0>"
      ]
     },
     "metadata": {
      "needs_background": "light"
     },
     "output_type": "display_data"
    },
    {
     "data": {
      "image/png": "[encoded data removed]",
      "text/plain": [
       "<matplotlib.figure.Figure at 0x7fa6399d0fd0>"
      ]
     },
     "metadata": {
      "needs_background": "light"
     },
     "output_type": "display_data"
    },
    {
     "data": {
      "image/png": "[encoded data removed]",
      "text/plain": [
       "<matplotlib.figure.Figure at 0x7fa639824fd0>"
      ]
     },
     "metadata": {
      "needs_background": "light"
     },
     "output_type": "display_data"
    }
   ],
   "source": [
    "for i in range(len(top_5)):    \n",
    "    compare_dist(top_5, i)"
   ]
  },
  {
   "cell_type": "markdown",
   "metadata": {},
   "source": [
    "#### Discussion 1.1.3: Assess Missing Data in Each Row\n",
    "\n",
    "As illustrated in the comparison bar charts above, the dataset with lots of missing values (>=30%) in each row have a rather different distribution of missing data per column compared to that found in the dataset with few missing values (< 30%). <br> \n",
    "\n",
    "As the distributions of non-missing features look different between the data with many missing values and the data with few or no missing values, it suggests some caution as far as dropping those points from the analysis -- we'll make a note on those data as special. \n",
    "\n",
    "Either way, as suggested, we'll continue our analysis for now using just the subset of the data with few or no missing values (i.e. < 30% of data missing in each row)"
   ]
  },
  {
   "cell_type": "markdown",
   "metadata": {},
   "source": [
    "### Step 1.2: Select and Re-Encode Features\n",
    "\n",
    "Checking for missing data isn't the only way in which you can prepare a dataset for analysis. Since the unsupervised learning techniques to be used will only work on data that is encoded numerically, you need to make a few encoding changes or additional assumptions to be able to make progress. In addition, while almost all of the values in the dataset are encoded using numbers, not all of them represent numeric values. Check the third column of the feature summary (`feat_info`) for a summary of types of measurement.\n",
    "- For numeric and interval data, these features can be kept without changes.\n",
    "- Most of the variables in the dataset are ordinal in nature. While ordinal values may technically be non-linear in spacing, make the simplifying assumption that the ordinal variables can be treated as being interval in nature (that is, kept without any changes).\n",
    "- Special handling may be necessary for the remaining two variable types: categorical, and 'mixed'.\n",
    "\n",
    "In the first two parts of this sub-step, you will perform an investigation of the categorical and mixed-type features and make a decision on each of them, whether you will keep, drop, or re-encode each. Then, in the last part, you will create a new data frame with only the selected and engineered columns.\n",
    "\n",
    "Data wrangling is often the trickiest part of the data analysis process, and there's a lot of it to be done here. But stick with it: once you're done with this step, you'll be ready to get to the machine learning parts of the project!"
   ]
  },
  {
   "cell_type": "code",
   "execution_count": 45,
   "metadata": {},
   "outputs": [
    {
     "data": {
      "text/plain": [
       "ordinal        49\n",
       "categorical    18\n",
       "mixed           6\n",
       "numeric         6\n",
       "Name: type, dtype: int64"
      ]
     },
     "execution_count": 45,
     "metadata": {},
     "output_type": "execute_result"
    }
   ],
   "source": [
    "# How many features are there of each data type?\n",
    "feat_clean.type.value_counts()"
   ]
  },
  {
   "cell_type": "code",
   "execution_count": 46,
   "metadata": {},
   "outputs": [
    {
     "data": {
      "text/html": [
       "<div>\n",
       "<style scoped>\n",
       "    .dataframe tbody tr th:only-of-type {\n",
       "        vertical-align: middle;\n",
       "    }\n",
       "\n",
       "    .dataframe tbody tr th {\n",
       "        vertical-align: top;\n",
       "    }\n",
       "\n",
       "    .dataframe thead th {\n",
       "        text-align: right;\n",
       "    }\n",
       "</style>\n",
       "<table border=\"1\" class=\"dataframe\">\n",
       "  <thead>\n",
       "    <tr style=\"text-align: right;\">\n",
       "      <th></th>\n",
       "      <th>attribute</th>\n",
       "      <th>information_level</th>\n",
       "      <th>type</th>\n",
       "      <th>missing_or_unknown</th>\n",
       "    </tr>\n",
       "  </thead>\n",
       "  <tbody>\n",
       "    <tr>\n",
       "      <th>0</th>\n",
       "      <td>ALTERSKATEGORIE_GROB</td>\n",
       "      <td>person</td>\n",
       "      <td>ordinal</td>\n",
       "      <td>[-1,0,9]</td>\n",
       "    </tr>\n",
       "    <tr>\n",
       "      <th>3</th>\n",
       "      <td>FINANZ_MINIMALIST</td>\n",
       "      <td>person</td>\n",
       "      <td>ordinal</td>\n",
       "      <td>[-1]</td>\n",
       "    </tr>\n",
       "    <tr>\n",
       "      <th>4</th>\n",
       "      <td>FINANZ_SPARER</td>\n",
       "      <td>person</td>\n",
       "      <td>ordinal</td>\n",
       "      <td>[-1]</td>\n",
       "    </tr>\n",
       "    <tr>\n",
       "      <th>5</th>\n",
       "      <td>FINANZ_VORSORGER</td>\n",
       "      <td>person</td>\n",
       "      <td>ordinal</td>\n",
       "      <td>[-1]</td>\n",
       "    </tr>\n",
       "    <tr>\n",
       "      <th>6</th>\n",
       "      <td>FINANZ_ANLEGER</td>\n",
       "      <td>person</td>\n",
       "      <td>ordinal</td>\n",
       "      <td>[-1]</td>\n",
       "    </tr>\n",
       "    <tr>\n",
       "      <th>7</th>\n",
       "      <td>FINANZ_UNAUFFAELLIGER</td>\n",
       "      <td>person</td>\n",
       "      <td>ordinal</td>\n",
       "      <td>[-1]</td>\n",
       "    </tr>\n",
       "    <tr>\n",
       "      <th>8</th>\n",
       "      <td>FINANZ_HAUSBAUER</td>\n",
       "      <td>person</td>\n",
       "      <td>ordinal</td>\n",
       "      <td>[-1]</td>\n",
       "    </tr>\n",
       "    <tr>\n",
       "      <th>12</th>\n",
       "      <td>HEALTH_TYP</td>\n",
       "      <td>person</td>\n",
       "      <td>ordinal</td>\n",
       "      <td>[-1,0]</td>\n",
       "    </tr>\n",
       "    <tr>\n",
       "      <th>21</th>\n",
       "      <td>RETOURTYP_BK_S</td>\n",
       "      <td>person</td>\n",
       "      <td>ordinal</td>\n",
       "      <td>[0]</td>\n",
       "    </tr>\n",
       "    <tr>\n",
       "      <th>22</th>\n",
       "      <td>SEMIO_SOZ</td>\n",
       "      <td>person</td>\n",
       "      <td>ordinal</td>\n",
       "      <td>[-1,9]</td>\n",
       "    </tr>\n",
       "    <tr>\n",
       "      <th>23</th>\n",
       "      <td>SEMIO_FAM</td>\n",
       "      <td>person</td>\n",
       "      <td>ordinal</td>\n",
       "      <td>[-1,9]</td>\n",
       "    </tr>\n",
       "    <tr>\n",
       "      <th>24</th>\n",
       "      <td>SEMIO_REL</td>\n",
       "      <td>person</td>\n",
       "      <td>ordinal</td>\n",
       "      <td>[-1,9]</td>\n",
       "    </tr>\n",
       "    <tr>\n",
       "      <th>25</th>\n",
       "      <td>SEMIO_MAT</td>\n",
       "      <td>person</td>\n",
       "      <td>ordinal</td>\n",
       "      <td>[-1,9]</td>\n",
       "    </tr>\n",
       "    <tr>\n",
       "      <th>26</th>\n",
       "      <td>SEMIO_VERT</td>\n",
       "      <td>person</td>\n",
       "      <td>ordinal</td>\n",
       "      <td>[-1,9]</td>\n",
       "    </tr>\n",
       "    <tr>\n",
       "      <th>27</th>\n",
       "      <td>SEMIO_LUST</td>\n",
       "      <td>person</td>\n",
       "      <td>ordinal</td>\n",
       "      <td>[-1,9]</td>\n",
       "    </tr>\n",
       "    <tr>\n",
       "      <th>28</th>\n",
       "      <td>SEMIO_ERL</td>\n",
       "      <td>person</td>\n",
       "      <td>ordinal</td>\n",
       "      <td>[-1,9]</td>\n",
       "    </tr>\n",
       "    <tr>\n",
       "      <th>29</th>\n",
       "      <td>SEMIO_KULT</td>\n",
       "      <td>person</td>\n",
       "      <td>ordinal</td>\n",
       "      <td>[-1,9]</td>\n",
       "    </tr>\n",
       "    <tr>\n",
       "      <th>30</th>\n",
       "      <td>SEMIO_RAT</td>\n",
       "      <td>person</td>\n",
       "      <td>ordinal</td>\n",
       "      <td>[-1,9]</td>\n",
       "    </tr>\n",
       "    <tr>\n",
       "      <th>31</th>\n",
       "      <td>SEMIO_KRIT</td>\n",
       "      <td>person</td>\n",
       "      <td>ordinal</td>\n",
       "      <td>[-1,9]</td>\n",
       "    </tr>\n",
       "    <tr>\n",
       "      <th>32</th>\n",
       "      <td>SEMIO_DOM</td>\n",
       "      <td>person</td>\n",
       "      <td>ordinal</td>\n",
       "      <td>[-1,9]</td>\n",
       "    </tr>\n",
       "    <tr>\n",
       "      <th>33</th>\n",
       "      <td>SEMIO_KAEM</td>\n",
       "      <td>person</td>\n",
       "      <td>ordinal</td>\n",
       "      <td>[-1,9]</td>\n",
       "    </tr>\n",
       "    <tr>\n",
       "      <th>34</th>\n",
       "      <td>SEMIO_PFLICHT</td>\n",
       "      <td>person</td>\n",
       "      <td>ordinal</td>\n",
       "      <td>[-1,9]</td>\n",
       "    </tr>\n",
       "    <tr>\n",
       "      <th>35</th>\n",
       "      <td>SEMIO_TRADV</td>\n",
       "      <td>person</td>\n",
       "      <td>ordinal</td>\n",
       "      <td>[-1,9]</td>\n",
       "    </tr>\n",
       "    <tr>\n",
       "      <th>40</th>\n",
       "      <td>ANZ_PERSONEN</td>\n",
       "      <td>household</td>\n",
       "      <td>numeric</td>\n",
       "      <td>[]</td>\n",
       "    </tr>\n",
       "    <tr>\n",
       "      <th>41</th>\n",
       "      <td>ANZ_TITEL</td>\n",
       "      <td>household</td>\n",
       "      <td>numeric</td>\n",
       "      <td>[]</td>\n",
       "    </tr>\n",
       "    <tr>\n",
       "      <th>42</th>\n",
       "      <td>HH_EINKOMMEN_SCORE</td>\n",
       "      <td>household</td>\n",
       "      <td>ordinal</td>\n",
       "      <td>[-1,0]</td>\n",
       "    </tr>\n",
       "    <tr>\n",
       "      <th>43</th>\n",
       "      <td>W_KEIT_KIND_HH</td>\n",
       "      <td>household</td>\n",
       "      <td>ordinal</td>\n",
       "      <td>[-1,0]</td>\n",
       "    </tr>\n",
       "    <tr>\n",
       "      <th>44</th>\n",
       "      <td>WOHNDAUER_2008</td>\n",
       "      <td>household</td>\n",
       "      <td>ordinal</td>\n",
       "      <td>[-1,0]</td>\n",
       "    </tr>\n",
       "    <tr>\n",
       "      <th>45</th>\n",
       "      <td>ANZ_HAUSHALTE_AKTIV</td>\n",
       "      <td>building</td>\n",
       "      <td>numeric</td>\n",
       "      <td>[0]</td>\n",
       "    </tr>\n",
       "    <tr>\n",
       "      <th>46</th>\n",
       "      <td>ANZ_HH_TITEL</td>\n",
       "      <td>building</td>\n",
       "      <td>numeric</td>\n",
       "      <td>[]</td>\n",
       "    </tr>\n",
       "    <tr>\n",
       "      <th>48</th>\n",
       "      <td>KONSUMNAEHE</td>\n",
       "      <td>building</td>\n",
       "      <td>ordinal</td>\n",
       "      <td>[]</td>\n",
       "    </tr>\n",
       "    <tr>\n",
       "      <th>49</th>\n",
       "      <td>MIN_GEBAEUDEJAHR</td>\n",
       "      <td>building</td>\n",
       "      <td>numeric</td>\n",
       "      <td>[0]</td>\n",
       "    </tr>\n",
       "    <tr>\n",
       "      <th>55</th>\n",
       "      <td>KBA05_ANTG1</td>\n",
       "      <td>microcell_rr3</td>\n",
       "      <td>ordinal</td>\n",
       "      <td>[-1]</td>\n",
       "    </tr>\n",
       "    <tr>\n",
       "      <th>56</th>\n",
       "      <td>KBA05_ANTG2</td>\n",
       "      <td>microcell_rr3</td>\n",
       "      <td>ordinal</td>\n",
       "      <td>[-1]</td>\n",
       "    </tr>\n",
       "    <tr>\n",
       "      <th>57</th>\n",
       "      <td>KBA05_ANTG3</td>\n",
       "      <td>microcell_rr3</td>\n",
       "      <td>ordinal</td>\n",
       "      <td>[-1]</td>\n",
       "    </tr>\n",
       "    <tr>\n",
       "      <th>58</th>\n",
       "      <td>KBA05_ANTG4</td>\n",
       "      <td>microcell_rr3</td>\n",
       "      <td>ordinal</td>\n",
       "      <td>[-1]</td>\n",
       "    </tr>\n",
       "    <tr>\n",
       "      <th>59</th>\n",
       "      <td>KBA05_GBZ</td>\n",
       "      <td>microcell_rr3</td>\n",
       "      <td>ordinal</td>\n",
       "      <td>[-1,0]</td>\n",
       "    </tr>\n",
       "    <tr>\n",
       "      <th>60</th>\n",
       "      <td>BALLRAUM</td>\n",
       "      <td>postcode</td>\n",
       "      <td>ordinal</td>\n",
       "      <td>[-1]</td>\n",
       "    </tr>\n",
       "    <tr>\n",
       "      <th>61</th>\n",
       "      <td>EWDICHTE</td>\n",
       "      <td>postcode</td>\n",
       "      <td>ordinal</td>\n",
       "      <td>[-1]</td>\n",
       "    </tr>\n",
       "    <tr>\n",
       "      <th>62</th>\n",
       "      <td>INNENSTADT</td>\n",
       "      <td>postcode</td>\n",
       "      <td>ordinal</td>\n",
       "      <td>[-1]</td>\n",
       "    </tr>\n",
       "    <tr>\n",
       "      <th>63</th>\n",
       "      <td>GEBAEUDETYP_RASTER</td>\n",
       "      <td>region_rr1</td>\n",
       "      <td>ordinal</td>\n",
       "      <td>[]</td>\n",
       "    </tr>\n",
       "    <tr>\n",
       "      <th>64</th>\n",
       "      <td>KKK</td>\n",
       "      <td>region_rr1</td>\n",
       "      <td>ordinal</td>\n",
       "      <td>[-1,0]</td>\n",
       "    </tr>\n",
       "    <tr>\n",
       "      <th>65</th>\n",
       "      <td>MOBI_REGIO</td>\n",
       "      <td>region_rr1</td>\n",
       "      <td>ordinal</td>\n",
       "      <td>[]</td>\n",
       "    </tr>\n",
       "    <tr>\n",
       "      <th>66</th>\n",
       "      <td>ONLINE_AFFINITAET</td>\n",
       "      <td>region_rr1</td>\n",
       "      <td>ordinal</td>\n",
       "      <td>[]</td>\n",
       "    </tr>\n",
       "    <tr>\n",
       "      <th>67</th>\n",
       "      <td>REGIOTYP</td>\n",
       "      <td>region_rr1</td>\n",
       "      <td>ordinal</td>\n",
       "      <td>[-1,0]</td>\n",
       "    </tr>\n",
       "    <tr>\n",
       "      <th>68</th>\n",
       "      <td>KBA13_ANZAHL_PKW</td>\n",
       "      <td>macrocell_plz8</td>\n",
       "      <td>numeric</td>\n",
       "      <td>[]</td>\n",
       "    </tr>\n",
       "    <tr>\n",
       "      <th>69</th>\n",
       "      <td>PLZ8_ANTG1</td>\n",
       "      <td>macrocell_plz8</td>\n",
       "      <td>ordinal</td>\n",
       "      <td>[-1]</td>\n",
       "    </tr>\n",
       "    <tr>\n",
       "      <th>70</th>\n",
       "      <td>PLZ8_ANTG2</td>\n",
       "      <td>macrocell_plz8</td>\n",
       "      <td>ordinal</td>\n",
       "      <td>[-1]</td>\n",
       "    </tr>\n",
       "    <tr>\n",
       "      <th>71</th>\n",
       "      <td>PLZ8_ANTG3</td>\n",
       "      <td>macrocell_plz8</td>\n",
       "      <td>ordinal</td>\n",
       "      <td>[-1]</td>\n",
       "    </tr>\n",
       "    <tr>\n",
       "      <th>72</th>\n",
       "      <td>PLZ8_ANTG4</td>\n",
       "      <td>macrocell_plz8</td>\n",
       "      <td>ordinal</td>\n",
       "      <td>[-1]</td>\n",
       "    </tr>\n",
       "    <tr>\n",
       "      <th>74</th>\n",
       "      <td>PLZ8_HHZ</td>\n",
       "      <td>macrocell_plz8</td>\n",
       "      <td>ordinal</td>\n",
       "      <td>[-1]</td>\n",
       "    </tr>\n",
       "    <tr>\n",
       "      <th>75</th>\n",
       "      <td>PLZ8_GBZ</td>\n",
       "      <td>macrocell_plz8</td>\n",
       "      <td>ordinal</td>\n",
       "      <td>[-1]</td>\n",
       "    </tr>\n",
       "    <tr>\n",
       "      <th>76</th>\n",
       "      <td>ARBEIT</td>\n",
       "      <td>community</td>\n",
       "      <td>ordinal</td>\n",
       "      <td>[-1,9]</td>\n",
       "    </tr>\n",
       "    <tr>\n",
       "      <th>77</th>\n",
       "      <td>ORTSGR_KLS9</td>\n",
       "      <td>community</td>\n",
       "      <td>ordinal</td>\n",
       "      <td>[-1,0]</td>\n",
       "    </tr>\n",
       "    <tr>\n",
       "      <th>78</th>\n",
       "      <td>RELAT_AB</td>\n",
       "      <td>community</td>\n",
       "      <td>ordinal</td>\n",
       "      <td>[-1,9]</td>\n",
       "    </tr>\n",
       "  </tbody>\n",
       "</table>\n",
       "</div>"
      ],
      "text/plain": [
       "                attribute information_level     type missing_or_unknown\n",
       "0    ALTERSKATEGORIE_GROB            person  ordinal           [-1,0,9]\n",
       "3       FINANZ_MINIMALIST            person  ordinal               [-1]\n",
       "4           FINANZ_SPARER            person  ordinal               [-1]\n",
       "5        FINANZ_VORSORGER            person  ordinal               [-1]\n",
       "6          FINANZ_ANLEGER            person  ordinal               [-1]\n",
       "7   FINANZ_UNAUFFAELLIGER            person  ordinal               [-1]\n",
       "8        FINANZ_HAUSBAUER            person  ordinal               [-1]\n",
       "12             HEALTH_TYP            person  ordinal             [-1,0]\n",
       "21         RETOURTYP_BK_S            person  ordinal                [0]\n",
       "22              SEMIO_SOZ            person  ordinal             [-1,9]\n",
       "23              SEMIO_FAM            person  ordinal             [-1,9]\n",
       "24              SEMIO_REL            person  ordinal             [-1,9]\n",
       "25              SEMIO_MAT            person  ordinal             [-1,9]\n",
       "26             SEMIO_VERT            person  ordinal             [-1,9]\n",
       "27             SEMIO_LUST            person  ordinal             [-1,9]\n",
       "28              SEMIO_ERL            person  ordinal             [-1,9]\n",
       "29             SEMIO_KULT            person  ordinal             [-1,9]\n",
       "30              SEMIO_RAT            person  ordinal             [-1,9]\n",
       "31             SEMIO_KRIT            person  ordinal             [-1,9]\n",
       "32              SEMIO_DOM            person  ordinal             [-1,9]\n",
       "33             SEMIO_KAEM            person  ordinal             [-1,9]\n",
       "34          SEMIO_PFLICHT            person  ordinal             [-1,9]\n",
       "35            SEMIO_TRADV            person  ordinal             [-1,9]\n",
       "40           ANZ_PERSONEN         household  numeric                 []\n",
       "41              ANZ_TITEL         household  numeric                 []\n",
       "42     HH_EINKOMMEN_SCORE         household  ordinal             [-1,0]\n",
       "43         W_KEIT_KIND_HH         household  ordinal             [-1,0]\n",
       "44         WOHNDAUER_2008         household  ordinal             [-1,0]\n",
       "45    ANZ_HAUSHALTE_AKTIV          building  numeric                [0]\n",
       "46           ANZ_HH_TITEL          building  numeric                 []\n",
       "48            KONSUMNAEHE          building  ordinal                 []\n",
       "49       MIN_GEBAEUDEJAHR          building  numeric                [0]\n",
       "55            KBA05_ANTG1     microcell_rr3  ordinal               [-1]\n",
       "56            KBA05_ANTG2     microcell_rr3  ordinal               [-1]\n",
       "57            KBA05_ANTG3     microcell_rr3  ordinal               [-1]\n",
       "58            KBA05_ANTG4     microcell_rr3  ordinal               [-1]\n",
       "59              KBA05_GBZ     microcell_rr3  ordinal             [-1,0]\n",
       "60               BALLRAUM          postcode  ordinal               [-1]\n",
       "61               EWDICHTE          postcode  ordinal               [-1]\n",
       "62             INNENSTADT          postcode  ordinal               [-1]\n",
       "63     GEBAEUDETYP_RASTER        region_rr1  ordinal                 []\n",
       "64                    KKK        region_rr1  ordinal             [-1,0]\n",
       "65             MOBI_REGIO        region_rr1  ordinal                 []\n",
       "66      ONLINE_AFFINITAET        region_rr1  ordinal                 []\n",
       "67               REGIOTYP        region_rr1  ordinal             [-1,0]\n",
       "68       KBA13_ANZAHL_PKW    macrocell_plz8  numeric                 []\n",
       "69             PLZ8_ANTG1    macrocell_plz8  ordinal               [-1]\n",
       "70             PLZ8_ANTG2    macrocell_plz8  ordinal               [-1]\n",
       "71             PLZ8_ANTG3    macrocell_plz8  ordinal               [-1]\n",
       "72             PLZ8_ANTG4    macrocell_plz8  ordinal               [-1]\n",
       "74               PLZ8_HHZ    macrocell_plz8  ordinal               [-1]\n",
       "75               PLZ8_GBZ    macrocell_plz8  ordinal               [-1]\n",
       "76                 ARBEIT         community  ordinal             [-1,9]\n",
       "77            ORTSGR_KLS9         community  ordinal             [-1,0]\n",
       "78               RELAT_AB         community  ordinal             [-1,9]"
      ]
     },
     "execution_count": 46,
     "metadata": {},
     "output_type": "execute_result"
    }
   ],
   "source": [
    "feat_clean[feat_clean.type.isin(['ordinal','numeric'])]"
   ]
  },
  {
   "cell_type": "code",
   "execution_count": 47,
   "metadata": {},
   "outputs": [
    {
     "data": {
      "text/html": [
       "<div>\n",
       "<style scoped>\n",
       "    .dataframe tbody tr th:only-of-type {\n",
       "        vertical-align: middle;\n",
       "    }\n",
       "\n",
       "    .dataframe tbody tr th {\n",
       "        vertical-align: top;\n",
       "    }\n",
       "\n",
       "    .dataframe thead th {\n",
       "        text-align: right;\n",
       "    }\n",
       "</style>\n",
       "<table border=\"1\" class=\"dataframe\">\n",
       "  <thead>\n",
       "    <tr style=\"text-align: right;\">\n",
       "      <th></th>\n",
       "      <th>attribute</th>\n",
       "      <th>information_level</th>\n",
       "      <th>type</th>\n",
       "      <th>missing_or_unknown</th>\n",
       "    </tr>\n",
       "  </thead>\n",
       "  <tbody>\n",
       "    <tr>\n",
       "      <th>1</th>\n",
       "      <td>ANREDE_KZ</td>\n",
       "      <td>person</td>\n",
       "      <td>categorical</td>\n",
       "      <td>[-1,0]</td>\n",
       "    </tr>\n",
       "    <tr>\n",
       "      <th>2</th>\n",
       "      <td>CJT_GESAMTTYP</td>\n",
       "      <td>person</td>\n",
       "      <td>categorical</td>\n",
       "      <td>[0]</td>\n",
       "    </tr>\n",
       "    <tr>\n",
       "      <th>9</th>\n",
       "      <td>FINANZTYP</td>\n",
       "      <td>person</td>\n",
       "      <td>categorical</td>\n",
       "      <td>[-1]</td>\n",
       "    </tr>\n",
       "    <tr>\n",
       "      <th>10</th>\n",
       "      <td>GFK_URLAUBERTYP</td>\n",
       "      <td>person</td>\n",
       "      <td>categorical</td>\n",
       "      <td>[]</td>\n",
       "    </tr>\n",
       "    <tr>\n",
       "      <th>11</th>\n",
       "      <td>GREEN_AVANTGARDE</td>\n",
       "      <td>person</td>\n",
       "      <td>categorical</td>\n",
       "      <td>[]</td>\n",
       "    </tr>\n",
       "    <tr>\n",
       "      <th>13</th>\n",
       "      <td>LP_LEBENSPHASE_FEIN</td>\n",
       "      <td>person</td>\n",
       "      <td>mixed</td>\n",
       "      <td>[0]</td>\n",
       "    </tr>\n",
       "    <tr>\n",
       "      <th>14</th>\n",
       "      <td>LP_LEBENSPHASE_GROB</td>\n",
       "      <td>person</td>\n",
       "      <td>mixed</td>\n",
       "      <td>[0]</td>\n",
       "    </tr>\n",
       "    <tr>\n",
       "      <th>15</th>\n",
       "      <td>LP_FAMILIE_FEIN</td>\n",
       "      <td>person</td>\n",
       "      <td>categorical</td>\n",
       "      <td>[0]</td>\n",
       "    </tr>\n",
       "    <tr>\n",
       "      <th>16</th>\n",
       "      <td>LP_FAMILIE_GROB</td>\n",
       "      <td>person</td>\n",
       "      <td>categorical</td>\n",
       "      <td>[0]</td>\n",
       "    </tr>\n",
       "    <tr>\n",
       "      <th>17</th>\n",
       "      <td>LP_STATUS_FEIN</td>\n",
       "      <td>person</td>\n",
       "      <td>categorical</td>\n",
       "      <td>[0]</td>\n",
       "    </tr>\n",
       "    <tr>\n",
       "      <th>18</th>\n",
       "      <td>LP_STATUS_GROB</td>\n",
       "      <td>person</td>\n",
       "      <td>categorical</td>\n",
       "      <td>[0]</td>\n",
       "    </tr>\n",
       "    <tr>\n",
       "      <th>19</th>\n",
       "      <td>NATIONALITAET_KZ</td>\n",
       "      <td>person</td>\n",
       "      <td>categorical</td>\n",
       "      <td>[-1,0]</td>\n",
       "    </tr>\n",
       "    <tr>\n",
       "      <th>20</th>\n",
       "      <td>PRAEGENDE_JUGENDJAHRE</td>\n",
       "      <td>person</td>\n",
       "      <td>mixed</td>\n",
       "      <td>[-1,0]</td>\n",
       "    </tr>\n",
       "    <tr>\n",
       "      <th>36</th>\n",
       "      <td>SHOPPER_TYP</td>\n",
       "      <td>person</td>\n",
       "      <td>categorical</td>\n",
       "      <td>[-1]</td>\n",
       "    </tr>\n",
       "    <tr>\n",
       "      <th>37</th>\n",
       "      <td>SOHO_KZ</td>\n",
       "      <td>person</td>\n",
       "      <td>categorical</td>\n",
       "      <td>[-1]</td>\n",
       "    </tr>\n",
       "    <tr>\n",
       "      <th>38</th>\n",
       "      <td>VERS_TYP</td>\n",
       "      <td>person</td>\n",
       "      <td>categorical</td>\n",
       "      <td>[-1]</td>\n",
       "    </tr>\n",
       "    <tr>\n",
       "      <th>39</th>\n",
       "      <td>ZABEOTYP</td>\n",
       "      <td>person</td>\n",
       "      <td>categorical</td>\n",
       "      <td>[-1,9]</td>\n",
       "    </tr>\n",
       "    <tr>\n",
       "      <th>47</th>\n",
       "      <td>GEBAEUDETYP</td>\n",
       "      <td>building</td>\n",
       "      <td>categorical</td>\n",
       "      <td>[-1,0]</td>\n",
       "    </tr>\n",
       "    <tr>\n",
       "      <th>50</th>\n",
       "      <td>OST_WEST_KZ</td>\n",
       "      <td>building</td>\n",
       "      <td>categorical</td>\n",
       "      <td>[-1]</td>\n",
       "    </tr>\n",
       "    <tr>\n",
       "      <th>51</th>\n",
       "      <td>WOHNLAGE</td>\n",
       "      <td>building</td>\n",
       "      <td>mixed</td>\n",
       "      <td>[-1]</td>\n",
       "    </tr>\n",
       "    <tr>\n",
       "      <th>52</th>\n",
       "      <td>CAMEO_DEUG_2015</td>\n",
       "      <td>microcell_rr4</td>\n",
       "      <td>categorical</td>\n",
       "      <td>[-1,X]</td>\n",
       "    </tr>\n",
       "    <tr>\n",
       "      <th>53</th>\n",
       "      <td>CAMEO_DEU_2015</td>\n",
       "      <td>microcell_rr4</td>\n",
       "      <td>categorical</td>\n",
       "      <td>[XX]</td>\n",
       "    </tr>\n",
       "    <tr>\n",
       "      <th>54</th>\n",
       "      <td>CAMEO_INTL_2015</td>\n",
       "      <td>microcell_rr4</td>\n",
       "      <td>mixed</td>\n",
       "      <td>[-1,XX]</td>\n",
       "    </tr>\n",
       "    <tr>\n",
       "      <th>73</th>\n",
       "      <td>PLZ8_BAUMAX</td>\n",
       "      <td>macrocell_plz8</td>\n",
       "      <td>mixed</td>\n",
       "      <td>[-1,0]</td>\n",
       "    </tr>\n",
       "  </tbody>\n",
       "</table>\n",
       "</div>"
      ],
      "text/plain": [
       "                attribute information_level         type missing_or_unknown\n",
       "1               ANREDE_KZ            person  categorical             [-1,0]\n",
       "2           CJT_GESAMTTYP            person  categorical                [0]\n",
       "9               FINANZTYP            person  categorical               [-1]\n",
       "10        GFK_URLAUBERTYP            person  categorical                 []\n",
       "11       GREEN_AVANTGARDE            person  categorical                 []\n",
       "13    LP_LEBENSPHASE_FEIN            person        mixed                [0]\n",
       "14    LP_LEBENSPHASE_GROB            person        mixed                [0]\n",
       "15        LP_FAMILIE_FEIN            person  categorical                [0]\n",
       "16        LP_FAMILIE_GROB            person  categorical                [0]\n",
       "17         LP_STATUS_FEIN            person  categorical                [0]\n",
       "18         LP_STATUS_GROB            person  categorical                [0]\n",
       "19       NATIONALITAET_KZ            person  categorical             [-1,0]\n",
       "20  PRAEGENDE_JUGENDJAHRE            person        mixed             [-1,0]\n",
       "36            SHOPPER_TYP            person  categorical               [-1]\n",
       "37                SOHO_KZ            person  categorical               [-1]\n",
       "38               VERS_TYP            person  categorical               [-1]\n",
       "39               ZABEOTYP            person  categorical             [-1,9]\n",
       "47            GEBAEUDETYP          building  categorical             [-1,0]\n",
       "50            OST_WEST_KZ          building  categorical               [-1]\n",
       "51               WOHNLAGE          building        mixed               [-1]\n",
       "52        CAMEO_DEUG_2015     microcell_rr4  categorical             [-1,X]\n",
       "53         CAMEO_DEU_2015     microcell_rr4  categorical               [XX]\n",
       "54        CAMEO_INTL_2015     microcell_rr4        mixed            [-1,XX]\n",
       "73            PLZ8_BAUMAX    macrocell_plz8        mixed             [-1,0]"
      ]
     },
     "execution_count": 47,
     "metadata": {},
     "output_type": "execute_result"
    }
   ],
   "source": [
    "feat_clean[feat_clean.type.isin(['categorical', 'mixed'])]"
   ]
  },
  {
   "cell_type": "markdown",
   "metadata": {},
   "source": [
    "#### Step 1.2.1: Re-Encode Categorical Features\n",
    "\n",
    "For categorical data, you would ordinarily need to encode the levels as dummy variables. Depending on the number of categories, perform one of the following:\n",
    "- For binary (two-level) categoricals that take numeric values, you can keep them without needing to do anything.\n",
    "- There is one binary variable that takes on non-numeric values. For this one, you need to re-encode the values as numbers or create a dummy variable.\n",
    "- For multi-level categoricals (three or more values), you can choose to encode the values using multiple dummy variables (e.g. via [OneHotEncoder](http://scikit-learn.org/stable/modules/generated/sklearn.preprocessing.OneHotEncoder.html)), or (to keep things straightforward) just drop them from the analysis. As always, document your choices in the Discussion section."
   ]
  },
  {
   "cell_type": "code",
   "execution_count": 48,
   "metadata": {},
   "outputs": [
    {
     "data": {
      "text/plain": [
       "ANREDE_KZ            2\n",
       "OST_WEST_KZ          2\n",
       "VERS_TYP             2\n",
       "SOHO_KZ              2\n",
       "GREEN_AVANTGARDE     2\n",
       "NATIONALITAET_KZ     3\n",
       "SHOPPER_TYP          4\n",
       "LP_STATUS_GROB       5\n",
       "LP_FAMILIE_GROB      5\n",
       "FINANZTYP            6\n",
       "ZABEOTYP             6\n",
       "CJT_GESAMTTYP        6\n",
       "GEBAEUDETYP          7\n",
       "CAMEO_DEUG_2015      9\n",
       "LP_STATUS_FEIN      10\n",
       "LP_FAMILIE_FEIN     11\n",
       "GFK_URLAUBERTYP     12\n",
       "CAMEO_DEU_2015      44\n",
       "dtype: int64"
      ]
     },
     "execution_count": 48,
     "metadata": {},
     "output_type": "execute_result"
    }
   ],
   "source": [
    "# Assess categorical variables: which are binary, which are multi-level, and\n",
    "# which one needs to be re-encoded?\n",
    "\n",
    "# first let's get a list of those variables which are categorical:\n",
    "att_list = feat_clean[feat_clean.type.isin(['categorical'])]['attribute'].values\n",
    "# we'll use this list to break down the number and type of categories:\n",
    "cts = azdias_lt_30[att_list].nunique().sort_values()\n",
    "cts"
   ]
  },
  {
   "cell_type": "code",
   "execution_count": 49,
   "metadata": {},
   "outputs": [
    {
     "name": "stdout",
     "output_type": "stream",
     "text": [
      "2.0    416018\n",
      "1.0    381774\n",
      "Name: ANREDE_KZ, dtype: int64\n",
      "W    629292\n",
      "O    168500\n",
      "Name: OST_WEST_KZ, dtype: int64\n",
      "2.0    394208\n",
      "1.0    366977\n",
      "Name: VERS_TYP, dtype: int64\n",
      "0.0    791076\n",
      "1.0      6716\n",
      "Name: SOHO_KZ, dtype: int64\n",
      "0.0    622601\n",
      "1.0    175191\n",
      "Name: GREEN_AVANTGARDE, dtype: int64\n"
     ]
    }
   ],
   "source": [
    "# Let's see what kind of values are taken for those categorical variables with only 2 values\n",
    "ct2 = cts[cts==2]\n",
    "for column in ct2.index:\n",
    "    print(azdias_lt_30[column].value_counts())"
   ]
  },
  {
   "cell_type": "code",
   "execution_count": 50,
   "metadata": {},
   "outputs": [
    {
     "data": {
      "text/html": [
       "<div>\n",
       "<style scoped>\n",
       "    .dataframe tbody tr th:only-of-type {\n",
       "        vertical-align: middle;\n",
       "    }\n",
       "\n",
       "    .dataframe tbody tr th {\n",
       "        vertical-align: top;\n",
       "    }\n",
       "\n",
       "    .dataframe thead th {\n",
       "        text-align: right;\n",
       "    }\n",
       "</style>\n",
       "<table border=\"1\" class=\"dataframe\">\n",
       "  <thead>\n",
       "    <tr style=\"text-align: right;\">\n",
       "      <th></th>\n",
       "      <th>attribute</th>\n",
       "      <th>information_level</th>\n",
       "      <th>type</th>\n",
       "      <th>missing_or_unknown</th>\n",
       "    </tr>\n",
       "  </thead>\n",
       "  <tbody>\n",
       "    <tr>\n",
       "      <th>55</th>\n",
       "      <td>OST_WEST_KZ</td>\n",
       "      <td>building</td>\n",
       "      <td>categorical</td>\n",
       "      <td>[-1]</td>\n",
       "    </tr>\n",
       "  </tbody>\n",
       "</table>\n",
       "</div>"
      ],
      "text/plain": [
       "      attribute information_level         type missing_or_unknown\n",
       "55  OST_WEST_KZ          building  categorical               [-1]"
      ]
     },
     "execution_count": 50,
     "metadata": {},
     "output_type": "execute_result"
    }
   ],
   "source": [
    "feat_info[feat_info['attribute'] == 'OST_WEST_KZ']"
   ]
  },
  {
   "cell_type": "code",
   "execution_count": 51,
   "metadata": {},
   "outputs": [
    {
     "data": {
      "text/plain": [
       "array([1, 0])"
      ]
     },
     "execution_count": 51,
     "metadata": {},
     "output_type": "execute_result"
    }
   ],
   "source": [
    "# Re-encode categorical variable(s) to be kept in the analysis.\n",
    "# So it looks like OST_WEST_KZ is the one binary variable with non-numeric values that requires re-encoding as #s\n",
    "# This feature corresponds to the \"Building location via former East / West Germany (GDR / FRG)\"\n",
    "# Hence, re-encoding with binary numeric values of 1 for 'W' (West) and 0 for 'E' (East) will suffice\n",
    "azdias_lt_30.loc[azdias_lt_30.OST_WEST_KZ =='W','OST_WEST_KZ'] = 1\n",
    "azdias_lt_30.loc[azdias_lt_30.OST_WEST_KZ =='O','OST_WEST_KZ'] = 0\n",
    "# Test code works\n",
    "azdias_lt_30.OST_WEST_KZ.unique()"
   ]
  },
  {
   "cell_type": "code",
   "execution_count": 52,
   "metadata": {},
   "outputs": [
    {
     "data": {
      "text/plain": [
       "['NATIONALITAET_KZ',\n",
       " 'SHOPPER_TYP',\n",
       " 'LP_STATUS_GROB',\n",
       " 'LP_FAMILIE_GROB',\n",
       " 'FINANZTYP',\n",
       " 'ZABEOTYP',\n",
       " 'CJT_GESAMTTYP',\n",
       " 'GEBAEUDETYP',\n",
       " 'CAMEO_DEUG_2015',\n",
       " 'LP_STATUS_FEIN',\n",
       " 'LP_FAMILIE_FEIN',\n",
       " 'GFK_URLAUBERTYP',\n",
       " 'CAMEO_DEU_2015']"
      ]
     },
     "execution_count": 52,
     "metadata": {},
     "output_type": "execute_result"
    }
   ],
   "source": [
    "# Let's now review multi-level categoricals (three or more values):\n",
    "ct_multi = list(cts[cts!=2].index)\n",
    "ct_multi"
   ]
  },
  {
   "cell_type": "markdown",
   "metadata": {},
   "source": [
    "After checking the dictionary, I decided to drop the multi-level (>2) categories for several reasons:\n",
    "1. For simplicity purposes and to prevent an explosion of dimensions beyond the large list of dimensions we already have as the alternative of re-encoding would mean each value would translate into multiple dummy variables\n",
    "2. Recognition that many of these features are duplicative of other ordinal/numeric/mixed categories (especially finance '..FINANZ...' and family situation '..FAMILIE..' related ones).  <br>\n",
    "Furthermore, the direction of scale for the values of these categorical features is often not consistent with their similar oridinal counterparts (e.g. LP_STATUS_GROB and LP_STATUS_FEIN represent top earners w/ higher values and low income earners with lower values) whereas other features like HH_EINKOMMEN_SCORE represents the highest income individuals with the lowest values (scores).  Keeping these somewhat duplicative features would require correcting for these reverse scales for consistency and easier interpretation/analysis of our results later on.\n",
    "3. Recognition that some of these features appear subjective and/or may not lend much value to the main question of interest (e.g. SHOPPER_TYP = shopper type)\n",
    "4. Recognition that"
   ]
  },
  {
   "cell_type": "code",
   "execution_count": 53,
   "metadata": {},
   "outputs": [
    {
     "name": "stdout",
     "output_type": "stream",
     "text": [
      "<class 'pandas.core.frame.DataFrame'>\n",
      "Int64Index: 797792 entries, 1 to 891220\n",
      "Data columns (total 66 columns):\n",
      "ALTERSKATEGORIE_GROB     794995 non-null float64\n",
      "ANREDE_KZ                797792 non-null float64\n",
      "FINANZ_MINIMALIST        797792 non-null float64\n",
      "FINANZ_SPARER            797792 non-null float64\n",
      "FINANZ_VORSORGER         797792 non-null float64\n",
      "FINANZ_ANLEGER           797792 non-null float64\n",
      "FINANZ_UNAUFFAELLIGER    797792 non-null float64\n",
      "FINANZ_HAUSBAUER         797792 non-null float64\n",
      "GREEN_AVANTGARDE         797792 non-null float64\n",
      "HEALTH_TYP               761185 non-null float64\n",
      "LP_LEBENSPHASE_FEIN      747815 non-null float64\n",
      "LP_LEBENSPHASE_GROB      750689 non-null float64\n",
      "PRAEGENDE_JUGENDJAHRE    769148 non-null float64\n",
      "RETOURTYP_BK_S           793126 non-null float64\n",
      "SEMIO_SOZ                797792 non-null float64\n",
      "SEMIO_FAM                797792 non-null float64\n",
      "SEMIO_REL                797792 non-null float64\n",
      "SEMIO_MAT                797792 non-null float64\n",
      "SEMIO_VERT               797792 non-null float64\n",
      "SEMIO_LUST               797792 non-null float64\n",
      "SEMIO_ERL                797792 non-null float64\n",
      "SEMIO_KULT               797792 non-null float64\n",
      "SEMIO_RAT                797792 non-null float64\n",
      "SEMIO_KRIT               797792 non-null float64\n",
      "SEMIO_DOM                797792 non-null float64\n",
      "SEMIO_KAEM               797792 non-null float64\n",
      "SEMIO_PFLICHT            797792 non-null float64\n",
      "SEMIO_TRADV              797792 non-null float64\n",
      "SOHO_KZ                  797792 non-null float64\n",
      "VERS_TYP                 761185 non-null float64\n",
      "ANZ_PERSONEN             797792 non-null float64\n",
      "ANZ_TITEL                797792 non-null float64\n",
      "HH_EINKOMMEN_SCORE       797792 non-null float64\n",
      "W_KEIT_KIND_HH           738646 non-null float64\n",
      "WOHNDAUER_2008           797792 non-null float64\n",
      "ANZ_HAUSHALTE_AKTIV      791386 non-null float64\n",
      "ANZ_HH_TITEL             793989 non-null float64\n",
      "KONSUMNAEHE              797722 non-null float64\n",
      "MIN_GEBAEUDEJAHR         797792 non-null float64\n",
      "OST_WEST_KZ              797792 non-null int64\n",
      "WOHNLAGE                 790975 non-null float64\n",
      "CAMEO_INTL_2015          791735 non-null float64\n",
      "KBA05_ANTG1              757897 non-null float64\n",
      "KBA05_ANTG2              757897 non-null float64\n",
      "KBA05_ANTG3              757897 non-null float64\n",
      "KBA05_ANTG4              757897 non-null float64\n",
      "KBA05_GBZ                757897 non-null float64\n",
      "BALLRAUM                 797201 non-null float64\n",
      "EWDICHTE                 797201 non-null float64\n",
      "INNENSTADT               797201 non-null float64\n",
      "GEBAEUDETYP_RASTER       797785 non-null float64\n",
      "KKK                      733119 non-null float64\n",
      "MOBI_REGIO               757897 non-null float64\n",
      "ONLINE_AFFINITAET        793126 non-null float64\n",
      "REGIOTYP                 733119 non-null float64\n",
      "KBA13_ANZAHL_PKW         785345 non-null float64\n",
      "PLZ8_ANTG1               774705 non-null float64\n",
      "PLZ8_ANTG2               774705 non-null float64\n",
      "PLZ8_ANTG3               774705 non-null float64\n",
      "PLZ8_ANTG4               774705 non-null float64\n",
      "PLZ8_BAUMAX              774705 non-null float64\n",
      "PLZ8_HHZ                 774705 non-null float64\n",
      "PLZ8_GBZ                 774705 non-null float64\n",
      "ARBEIT                   793568 non-null float64\n",
      "ORTSGR_KLS9              793669 non-null float64\n",
      "RELAT_AB                 793568 non-null float64\n",
      "dtypes: float64(65), int64(1)\n",
      "memory usage: 427.8 MB\n"
     ]
    }
   ],
   "source": [
    "# Here, I'll drop the multi-level features\n",
    "for feature in ct_multi:\n",
    "    azdias_lt_30=azdias_lt_30.drop(feature, axis=1)\n",
    "azdias_lt_30.info()    "
   ]
  },
  {
   "cell_type": "markdown",
   "metadata": {},
   "source": [
    "#### Discussion 1.2.1: Re-Encode Categorical Features\n",
    "\n",
    "\n",
    "For OST_WEST_KZ, I decided to re-encode the variable with binary numeric values of 1 for 'W' (West) and 0 for 'E' (East).\n",
    "\n",
    "I decided to drop the multi-level (>2) categories for several reasons:\n",
    "1. For simplicity purposes and to prevent an explosion of dimensions beyond the large list of dimensions we already have as the alternative of re-encoding would mean each value would translate into multiple dummy variables\n",
    "2. Recognition that many of these features are duplicative of other ordinal/numeric/mixed categories (especially finance '..FINANZ...' and family situation '..FAMILIE..' related ones) \n",
    "3. Recognition that some of these features appear subjective and/or may not lend much value to the main question of interest (e.g. SHOPPER_TYP = shopper type)"
   ]
  },
  {
   "cell_type": "markdown",
   "metadata": {},
   "source": [
    "#### Step 1.2.2: Engineer Mixed-Type Features\n",
    "\n",
    "There are a handful of features that are marked as \"mixed\" in the feature summary that require special treatment in order to be included in the analysis. There are two in particular that deserve attention; the handling of the rest are up to your own choices:\n",
    "- \"PRAEGENDE_JUGENDJAHRE\" combines information on three dimensions: generation by decade, movement (mainstream vs. avantgarde), and nation (east vs. west). While there aren't enough levels to disentangle east from west, you should create two new variables to capture the other two dimensions: an interval-type variable for decade, and a binary variable for movement.\n",
    "- \"CAMEO_INTL_2015\" combines information on two axes: wealth and life stage. Break up the two-digit codes by their 'tens'-place and 'ones'-place digits into two new ordinal variables (which, for the purposes of this project, is equivalent to just treating them as their raw numeric values).\n",
    "- If you decide to keep or engineer new features around the other mixed-type features, make sure you note your steps in the Discussion section.\n",
    "\n",
    "Be sure to check `Data_Dictionary.md` for the details needed to finish these tasks."
   ]
  },
  {
   "cell_type": "code",
   "execution_count": 54,
   "metadata": {},
   "outputs": [],
   "source": [
    "# Investigate \"PRAEGENDE_JUGENDJAHRE\" and engineer two new variables.\n",
    "# Prior re-encoding of OST_WEST_KZ already captures East vs West, so we don't need to retain that info for this feature\n",
    "\n",
    "# As suggested, we'll separate the 2 contained dimensions into 2 new variables (columns):\n",
    "# - generation by decade\n",
    "# - movement (mainstream vs. avantgarde)\n",
    "azdias_lt_30['GENERATION'] = azdias_lt_30['PRAEGENDE_JUGENDJAHRE']\n",
    "azdias_lt_30['MOVEMENT'] = azdias_lt_30['PRAEGENDE_JUGENDJAHRE']\n",
    "\n",
    "# Now, we'll engineer these new variables as per specific dimensions via dictionary for replacement\n",
    "# Generation Dictionary: 1 = 40s, 2 = 50s, 3 = 60s, 4 = 70s, 5 = 80s, 6 = 90s\n",
    "gen_dict = {1:1, 2:1, 3:2, 4:2, 5:3, 6:3, 7:3, 8:4, 9:4, 10:5, 11:5, 12:5, 13:5, 14:6, 15:6}\n",
    "# Movement Dictionary: 1 = Mainstream, 0 = Avantgarde\n",
    "mov_dict = {1:1, 2:0, 3:1, 4:0, 5:1, 6:0, 7:0, 8:1, 9:0, 10:1, 11:0, 12:1, 13:0, 14:1, 15:0}\n",
    "    \n",
    "# Now we use those dictionaries for replacement\n",
    "azdias_lt_30.GENERATION.replace(gen_dict, inplace=True)\n",
    "azdias_lt_30.MOVEMENT.replace(mov_dict, inplace=True)\n",
    "\n",
    "# Finally, we can drop the original column\n",
    "azdias_lt_30.drop('PRAEGENDE_JUGENDJAHRE', axis=1, inplace=True)"
   ]
  },
  {
   "cell_type": "code",
   "execution_count": 55,
   "metadata": {},
   "outputs": [
    {
     "data": {
      "text/plain": [
       "array([  6.,   4.,   2.,   5.,   3.,  nan,   1.])"
      ]
     },
     "execution_count": 55,
     "metadata": {},
     "output_type": "execute_result"
    }
   ],
   "source": [
    "# Quick test\n",
    "azdias_lt_30.GENERATION.unique()"
   ]
  },
  {
   "cell_type": "code",
   "execution_count": 56,
   "metadata": {},
   "outputs": [],
   "source": [
    "# Investigate \"CAMEO_INTL_2015\" and engineer two new variables.\n",
    "\n",
    "# As suggested, we'll separated the 2 contained dimensions\n",
    "# - WEALTH\n",
    "# - LIFE_STAGE\n",
    "azdias_lt_30['WEALTH'] = azdias_lt_30['CAMEO_INTL_2015']\n",
    "azdias_lt_30['LIFE_STAGE'] = azdias_lt_30['CAMEO_INTL_2015']\n",
    "\n",
    "# We'll break up the 2-digit codes by their 'tens' and 'ones'-place digits into 2 new ordinal variables:\n",
    "# We'll create dictionaries to facilitate this break up\n",
    "# wealth dictionary: 1=Wealthy, 2=Prosperous, 3=Comfortable, 4=Affluent, 5=Poorer\n",
    "wealth_dict = {11:1, 12:1, 13:1, 14:1, 15:1, 21:2, 22:2, 23:2, 24:2, 25:2, 31:3, 32:3, 33:3, 34:3, 35:3,\n",
    "              41:4, 42:4, 43:4, 44:4, 45:4, 51:5, 52:5, 53:5, 54:5, 55:5}\n",
    "\n",
    "#life_dict = {11:1, 21:1, 31:1, 41:1, 51:1, 12:2, 22:2, 32:2, 42:2, 52:2, 13:3, 23:3, 33:3, 43:3, 53:3,\n",
    "#            14:4, 24:4, 34:4, 44:4, 54:4, 15:5, 25:5, 35:5, 45:5, 55:5}\n",
    "\n",
    "# life_stage dictionary: 5=pre-family & singles, 4=young couples w/ children, 3=familes w/ school age children, \n",
    "# 2=older families & mature couples, 1=elders in retirement # -1=unknown, xx=unknown\n",
    "# Note to keep consistent with DECADE, the smaller numbers represent older people and higher numbers are younger\n",
    "life_dict = {11:5, 21:5, 31:5, 41:5, 51:5, 12:4, 22:4, 32:4, 42:4, 52:4, 13:3, 23:3, 33:3, 43:3, 53:3,\n",
    "            14:2, 24:2, 34:2, 44:2, 54:2, 15:1, 25:1, 35:1, 45:1, 55:1}\n",
    "# Now we use those dictionary for replacement\n",
    "azdias_lt_30.WEALTH.replace(wealth_dict, inplace=True)\n",
    "azdias_lt_30.LIFE_STAGE.replace(life_dict, inplace=True)\n",
    "\n",
    "# Finally, we can drop the original column\n",
    "azdias_lt_30.drop('CAMEO_INTL_2015', axis=1, inplace=True)"
   ]
  },
  {
   "cell_type": "code",
   "execution_count": 57,
   "metadata": {},
   "outputs": [
    {
     "data": {
      "text/plain": [
       "array([  5.,   2.,   1.,   4.,   3.,  nan])"
      ]
     },
     "execution_count": 57,
     "metadata": {},
     "output_type": "execute_result"
    }
   ],
   "source": [
    "# quick test\n",
    "azdias_lt_30.WEALTH.unique()"
   ]
  },
  {
   "cell_type": "code",
   "execution_count": 58,
   "metadata": {},
   "outputs": [
    {
     "data": {
      "text/plain": [
       "['LP_LEBENSPHASE_FEIN',\n",
       " 'LP_LEBENSPHASE_GROB',\n",
       " 'PRAEGENDE_JUGENDJAHRE',\n",
       " 'WOHNLAGE',\n",
       " 'CAMEO_INTL_2015',\n",
       " 'PLZ8_BAUMAX']"
      ]
     },
     "execution_count": 58,
     "metadata": {},
     "output_type": "execute_result"
    }
   ],
   "source": [
    "# Let's take a look at the other mixed type features\n",
    "mixed_list = list(feat_clean[feat_clean.type.isin(['mixed'])].attribute.values)\n",
    "mixed_list"
   ]
  },
  {
   "cell_type": "code",
   "execution_count": 59,
   "metadata": {},
   "outputs": [],
   "source": [
    "# so we have the following other mixed type variables: \n",
    "# - LP_LEBENSPHASE_FEIN\n",
    "# - LP_LEBENSPHASE_GROB\n",
    "# - WOHNLAGE\n",
    "# - PLZ8_BAUMAX\n",
    "\n",
    "# LP_LEBENSPHASE_FEIN: life stage, fine scale\n",
    "# Analysis: this variable captures the same life stage and income information as the earlier \n",
    "# created columns 'WEALTH' and 'LIFE_STAGE'.  In addition the direction of scale appears inconsistent w/ other features\n",
    "# Hence we can drop it.\n",
    "\n",
    "# LP_LEBENSPHASE_GROB: Life stage, rough scale\n",
    "# Analysis: same conclusion as LP_LEBENSPHASE_FEIN - can drop this column.\n",
    "\n",
    "# WOHNLAGE: Neighborhood quality\n",
    "# Analysis: this variable appears to have similar information as the existing ordinal column \"REGIOTYP\" \n",
    "# (Neigborhood typology), so it can be dropped.\n",
    "\n",
    "# PLZ8_BAUMAX: Most common building type within the PLZ8 region\n",
    "# Analysis: This variable appears to have similar information as these 2 other columns and can be dropped:\n",
    "# ANZ_HAUSHALTE_AKTIV: of households in the building\n",
    "# GEBAEUDETYP: type of building (residential vs commercial)"
   ]
  },
  {
   "cell_type": "code",
   "execution_count": 60,
   "metadata": {},
   "outputs": [],
   "source": [
    "azdias_lt_30.drop(['LP_LEBENSPHASE_FEIN', 'LP_LEBENSPHASE_GROB','WOHNLAGE','PLZ8_BAUMAX'], axis=1, inplace=True)"
   ]
  },
  {
   "cell_type": "code",
   "execution_count": 61,
   "metadata": {},
   "outputs": [
    {
     "name": "stdout",
     "output_type": "stream",
     "text": [
      "<class 'pandas.core.frame.DataFrame'>\n",
      "Int64Index: 797792 entries, 1 to 891220\n",
      "Data columns (total 64 columns):\n",
      "ALTERSKATEGORIE_GROB     794995 non-null float64\n",
      "ANREDE_KZ                797792 non-null float64\n",
      "FINANZ_MINIMALIST        797792 non-null float64\n",
      "FINANZ_SPARER            797792 non-null float64\n",
      "FINANZ_VORSORGER         797792 non-null float64\n",
      "FINANZ_ANLEGER           797792 non-null float64\n",
      "FINANZ_UNAUFFAELLIGER    797792 non-null float64\n",
      "FINANZ_HAUSBAUER         797792 non-null float64\n",
      "GREEN_AVANTGARDE         797792 non-null float64\n",
      "HEALTH_TYP               761185 non-null float64\n",
      "RETOURTYP_BK_S           793126 non-null float64\n",
      "SEMIO_SOZ                797792 non-null float64\n",
      "SEMIO_FAM                797792 non-null float64\n",
      "SEMIO_REL                797792 non-null float64\n",
      "SEMIO_MAT                797792 non-null float64\n",
      "SEMIO_VERT               797792 non-null float64\n",
      "SEMIO_LUST               797792 non-null float64\n",
      "SEMIO_ERL                797792 non-null float64\n",
      "SEMIO_KULT               797792 non-null float64\n",
      "SEMIO_RAT                797792 non-null float64\n",
      "SEMIO_KRIT               797792 non-null float64\n",
      "SEMIO_DOM                797792 non-null float64\n",
      "SEMIO_KAEM               797792 non-null float64\n",
      "SEMIO_PFLICHT            797792 non-null float64\n",
      "SEMIO_TRADV              797792 non-null float64\n",
      "SOHO_KZ                  797792 non-null float64\n",
      "VERS_TYP                 761185 non-null float64\n",
      "ANZ_PERSONEN             797792 non-null float64\n",
      "ANZ_TITEL                797792 non-null float64\n",
      "HH_EINKOMMEN_SCORE       797792 non-null float64\n",
      "W_KEIT_KIND_HH           738646 non-null float64\n",
      "WOHNDAUER_2008           797792 non-null float64\n",
      "ANZ_HAUSHALTE_AKTIV      791386 non-null float64\n",
      "ANZ_HH_TITEL             793989 non-null float64\n",
      "KONSUMNAEHE              797722 non-null float64\n",
      "MIN_GEBAEUDEJAHR         797792 non-null float64\n",
      "OST_WEST_KZ              797792 non-null int64\n",
      "KBA05_ANTG1              757897 non-null float64\n",
      "KBA05_ANTG2              757897 non-null float64\n",
      "KBA05_ANTG3              757897 non-null float64\n",
      "KBA05_ANTG4              757897 non-null float64\n",
      "KBA05_GBZ                757897 non-null float64\n",
      "BALLRAUM                 797201 non-null float64\n",
      "EWDICHTE                 797201 non-null float64\n",
      "INNENSTADT               797201 non-null float64\n",
      "GEBAEUDETYP_RASTER       797785 non-null float64\n",
      "KKK                      733119 non-null float64\n",
      "MOBI_REGIO               757897 non-null float64\n",
      "ONLINE_AFFINITAET        793126 non-null float64\n",
      "REGIOTYP                 733119 non-null float64\n",
      "KBA13_ANZAHL_PKW         785345 non-null float64\n",
      "PLZ8_ANTG1               774705 non-null float64\n",
      "PLZ8_ANTG2               774705 non-null float64\n",
      "PLZ8_ANTG3               774705 non-null float64\n",
      "PLZ8_ANTG4               774705 non-null float64\n",
      "PLZ8_HHZ                 774705 non-null float64\n",
      "PLZ8_GBZ                 774705 non-null float64\n",
      "ARBEIT                   793568 non-null float64\n",
      "ORTSGR_KLS9              793669 non-null float64\n",
      "RELAT_AB                 793568 non-null float64\n",
      "GENERATION               769148 non-null float64\n",
      "MOVEMENT                 769148 non-null float64\n",
      "WEALTH                   791735 non-null float64\n",
      "LIFE_STAGE               791735 non-null float64\n",
      "dtypes: float64(63), int64(1)\n",
      "memory usage: 415.6 MB\n"
     ]
    }
   ],
   "source": [
    "# sanity check\n",
    "azdias_lt_30.info()"
   ]
  },
  {
   "cell_type": "code",
   "execution_count": 62,
   "metadata": {},
   "outputs": [
    {
     "data": {
      "text/plain": [
       "['ALTERSKATEGORIE_GROB',\n",
       " 'ANREDE_KZ',\n",
       " 'ANZ_HAUSHALTE_AKTIV',\n",
       " 'ANZ_HH_TITEL',\n",
       " 'ANZ_PERSONEN',\n",
       " 'ANZ_TITEL',\n",
       " 'ARBEIT',\n",
       " 'BALLRAUM',\n",
       " 'EWDICHTE',\n",
       " 'FINANZ_ANLEGER',\n",
       " 'FINANZ_HAUSBAUER',\n",
       " 'FINANZ_MINIMALIST',\n",
       " 'FINANZ_SPARER',\n",
       " 'FINANZ_UNAUFFAELLIGER',\n",
       " 'FINANZ_VORSORGER',\n",
       " 'GEBAEUDETYP_RASTER',\n",
       " 'GENERATION',\n",
       " 'GREEN_AVANTGARDE',\n",
       " 'HEALTH_TYP',\n",
       " 'HH_EINKOMMEN_SCORE',\n",
       " 'INNENSTADT',\n",
       " 'KBA05_ANTG1',\n",
       " 'KBA05_ANTG2',\n",
       " 'KBA05_ANTG3',\n",
       " 'KBA05_ANTG4',\n",
       " 'KBA05_GBZ',\n",
       " 'KBA13_ANZAHL_PKW',\n",
       " 'KKK',\n",
       " 'KONSUMNAEHE',\n",
       " 'LIFE_STAGE',\n",
       " 'MIN_GEBAEUDEJAHR',\n",
       " 'MOBI_REGIO',\n",
       " 'MOVEMENT',\n",
       " 'ONLINE_AFFINITAET',\n",
       " 'ORTSGR_KLS9',\n",
       " 'OST_WEST_KZ',\n",
       " 'PLZ8_ANTG1',\n",
       " 'PLZ8_ANTG2',\n",
       " 'PLZ8_ANTG3',\n",
       " 'PLZ8_ANTG4',\n",
       " 'PLZ8_GBZ',\n",
       " 'PLZ8_HHZ',\n",
       " 'REGIOTYP',\n",
       " 'RELAT_AB',\n",
       " 'RETOURTYP_BK_S',\n",
       " 'SEMIO_DOM',\n",
       " 'SEMIO_ERL',\n",
       " 'SEMIO_FAM',\n",
       " 'SEMIO_KAEM',\n",
       " 'SEMIO_KRIT',\n",
       " 'SEMIO_KULT',\n",
       " 'SEMIO_LUST',\n",
       " 'SEMIO_MAT',\n",
       " 'SEMIO_PFLICHT',\n",
       " 'SEMIO_RAT',\n",
       " 'SEMIO_REL',\n",
       " 'SEMIO_SOZ',\n",
       " 'SEMIO_TRADV',\n",
       " 'SEMIO_VERT',\n",
       " 'SOHO_KZ',\n",
       " 'VERS_TYP',\n",
       " 'WEALTH',\n",
       " 'WOHNDAUER_2008',\n",
       " 'W_KEIT_KIND_HH']"
      ]
     },
     "execution_count": 62,
     "metadata": {},
     "output_type": "execute_result"
    }
   ],
   "source": [
    "azdias_lt_30.columns.sort_values().values.tolist()"
   ]
  },
  {
   "cell_type": "markdown",
   "metadata": {},
   "source": [
    "#### Discussion 1.2.2: Engineer Mixed-Type Features\n",
    "\n",
    "As described in the inline comments above, the following 2 mixed-type features were re-engineered: \n",
    "- PRAEGENDE_JUGENDJAHRE\n",
    "- CAMEO_INTL_2015 <br>\n",
    "\n",
    "Given the above 2 variables each captured several dimensions, they were  replaced with multiple variables to capture\n",
    "each dimension as follows:\n",
    "\n",
    "PRAEGENDE_JUGENDJAHRE was divided into 2 new columns (variables) as follows: \n",
    "1. GENERATION (aka decade from 40s to 90s)\n",
    "2. MOVEMENT (Mainstream vs Avantgarde).  <br>\n",
    "\n",
    "In addition the 3rd dimension of East vs West was dropped as it lacked some details and was captured elsewhere already\n",
    "\n",
    "CAMEO_INTL_2015 was divided into 2 new columns (variables) as follows:\n",
    "1. WEALTH (from wealthiest to poorest - the lower the number the wealthier the individual)\n",
    "2. LIFE_STAGE (from pre-family & singles to elders in retirement - the higher the number the older the individual)\n",
    "\n",
    "In regards to the other mixed-type features:\n",
    " - LP_LEBENSPHASE_FEIN\n",
    " - LP_LEBENSPHASE_GROB\n",
    " - WOHNLAGE\n",
    " - PLZ8_BAUMAX <br>\n",
    " \n",
    "These features were all dropped as the information they captured was similar or duplicative of other features that were already being retained."
   ]
  },
  {
   "cell_type": "markdown",
   "metadata": {},
   "source": [
    "#### Step 1.2.3: Complete Feature Selection\n",
    "\n",
    "In order to finish this step up, you need to make sure that your data frame now only has the columns that you want to keep. To summarize, the dataframe should consist of the following:\n",
    "- All numeric, interval, and ordinal type columns from the original dataset.\n",
    "- Binary categorical features (all numerically-encoded).\n",
    "- Engineered features from other multi-level categorical features and mixed features.\n",
    "\n",
    "Make sure that for any new columns that you have engineered, that you've excluded the original columns from the final dataset. Otherwise, their values will interfere with the analysis later on the project. For example, you should not keep \"PRAEGENDE_JUGENDJAHRE\", since its values won't be useful for the algorithm: only the values derived from it in the engineered features you created should be retained. As a reminder, your data should only be from **the subset with few or no missing values**."
   ]
  },
  {
   "cell_type": "code",
   "execution_count": 63,
   "metadata": {},
   "outputs": [],
   "source": [
    "# confirm numeric, interval and ordinal type columns are retained\n",
    "# first get list of such features\n",
    "num_features = list(feat_clean[feat_clean.type.isin(['numeric', 'interval', 'ordinal'])].attribute.values)\n",
    "#retained_features = azdias_lt_30.columns.values\n",
    "# second confirm such features are found in latest cleaned dataset excluding those we've removed\n",
    "for column in num_features:\n",
    "    if column in azdias_lt_30.columns.values:\n",
    "        pass\n",
    "    else:\n",
    "        print(column, 'not retained as expected')"
   ]
  },
  {
   "cell_type": "markdown",
   "metadata": {},
   "source": [
    "As per the above, it looks like all numeric, interval and ordinal types columns were retained as intended"
   ]
  },
  {
   "cell_type": "code",
   "execution_count": 64,
   "metadata": {},
   "outputs": [
    {
     "name": "stdout",
     "output_type": "stream",
     "text": [
      "2.0    416018\n",
      "1.0    381774\n",
      "Name: ANREDE_KZ, dtype: int64\n",
      "0.0    622601\n",
      "1.0    175191\n",
      "Name: GREEN_AVANTGARDE, dtype: int64\n",
      "0.0    791076\n",
      "1.0      6716\n",
      "Name: SOHO_KZ, dtype: int64\n",
      "2.0    394208\n",
      "1.0    366977\n",
      "Name: VERS_TYP, dtype: int64\n",
      "1    629292\n",
      "0    168500\n",
      "Name: OST_WEST_KZ, dtype: int64\n"
     ]
    }
   ],
   "source": [
    "# Let's now confirm remaining cateogrical features are only binary\n",
    "\n",
    "# first let's get a list of those variables which are categorical:\n",
    "category_list = list(feat_clean[feat_clean.type.isin(['categorical'])]['attribute'].values)\n",
    "# we'll use this list to break down which of these categorical variables are retained\n",
    "retained_list = azdias_lt_30.columns[azdias_lt_30.columns.isin(category_list)].values\n",
    "# Now let's confirm these remaining categorical variables are binary (have only 2 numerically encoded values)\n",
    "for column in retained_list:\n",
    "    print(azdias_lt_30[column].value_counts())"
   ]
  },
  {
   "cell_type": "markdown",
   "metadata": {},
   "source": [
    "As per the above, we've confirmed the remaining categorical features are only binary (have only 2 numerically encoded values)"
   ]
  },
  {
   "cell_type": "code",
   "execution_count": 65,
   "metadata": {},
   "outputs": [
    {
     "data": {
      "text/plain": [
       "False"
      ]
     },
     "execution_count": 65,
     "metadata": {},
     "output_type": "execute_result"
    }
   ],
   "source": [
    "# Next we'll confirm mixed_columns have been re-engineered and dropped as expected (i.e. no mixed type categories)\n",
    "azdias_lt_30.columns.isin(mixed_list).any()"
   ]
  },
  {
   "cell_type": "markdown",
   "metadata": {},
   "source": [
    "As per the above, we've confirmed mixed columns have been re-engineered and dropped as expected (i.e. no mixed type categories)"
   ]
  },
  {
   "cell_type": "code",
   "execution_count": 66,
   "metadata": {},
   "outputs": [],
   "source": [
    "# If there are other re-engineering tasks you need to perform, make sure you\n",
    "# take care of them here. (Dealing with missing data will come in step 2.1.)\n",
    "\n",
    "# Let's look at direction of scale for remaining variables\n",
    "# To ensure simplicity for analysis, we'll try to make this consistent"
   ]
  },
  {
   "cell_type": "code",
   "execution_count": 67,
   "metadata": {},
   "outputs": [
    {
     "data": {
      "text/plain": [
       "3.0    310305\n",
       "4.0    223216\n",
       "2.0    137078\n",
       "1.0    124396\n",
       "Name: ALTERSKATEGORIE_GROB, dtype: int64"
      ]
     },
     "execution_count": 67,
     "metadata": {},
     "output_type": "execute_result"
    }
   ],
   "source": [
    "# \"ALTERSKATEGORIE_GROB: Estimated age based on given name analysis\" should be reverse direction of scale\n",
    "# This makes the feature consistent with earlier engineered features of GENERATION and LIFE_STAGE\n",
    "# smaller values represent older people and larger values corresponds to younger people\n",
    "azdias_lt_30.ALTERSKATEGORIE_GROB.value_counts()"
   ]
  },
  {
   "cell_type": "code",
   "execution_count": 68,
   "metadata": {},
   "outputs": [
    {
     "data": {
      "text/plain": [
       "2.0    310305\n",
       "1.0    223216\n",
       "3.0    137078\n",
       "4.0    124396\n",
       "Name: ALTERSKATEGORIE_GROB, dtype: int64"
      ]
     },
     "execution_count": 68,
     "metadata": {},
     "output_type": "execute_result"
    }
   ],
   "source": [
    "azdias_lt_30.ALTERSKATEGORIE_GROB = azdias_lt_30.ALTERSKATEGORIE_GROB.max() + 1 - azdias_lt_30.ALTERSKATEGORIE_GROB\n",
    "azdias_lt_30.ALTERSKATEGORIE_GROB.value_counts()"
   ]
  },
  {
   "cell_type": "markdown",
   "metadata": {},
   "source": [
    "New data dictionary value for ALTERSKATEGORIE_GROB is as follows:\n",
    "-  4: < 30 years old\n",
    "-  3: 30 - 45 years old\n",
    "-  2: 46 - 60 years old\n",
    "-  1: > 60 years old"
   ]
  },
  {
   "cell_type": "code",
   "execution_count": 69,
   "metadata": {},
   "outputs": [],
   "source": [
    "# \"ANZ_TITEL: Number of professional academic title holders in household\" should perhaps be reverse direction of scale\n",
    "# This makes the feature consistent with other features like HH_EINKOMMEN_SCORE where\n",
    "# smaller values represent more academic titles (similar to income) and larger values corresponds to less titles"
   ]
  },
  {
   "cell_type": "code",
   "execution_count": 70,
   "metadata": {},
   "outputs": [
    {
     "data": {
      "text/plain": [
       "0.0    794692\n",
       "1.0      2894\n",
       "2.0       198\n",
       "3.0         5\n",
       "4.0         2\n",
       "6.0         1\n",
       "Name: ANZ_TITEL, dtype: int64"
      ]
     },
     "execution_count": 70,
     "metadata": {},
     "output_type": "execute_result"
    }
   ],
   "source": [
    "azdias_lt_30.ANZ_TITEL.value_counts()"
   ]
  },
  {
   "cell_type": "code",
   "execution_count": 71,
   "metadata": {},
   "outputs": [
    {
     "data": {
      "text/plain": [
       "7.0    794692\n",
       "6.0      2894\n",
       "5.0       198\n",
       "4.0         5\n",
       "3.0         2\n",
       "1.0         1\n",
       "Name: ANZ_TITEL, dtype: int64"
      ]
     },
     "execution_count": 71,
     "metadata": {},
     "output_type": "execute_result"
    }
   ],
   "source": [
    "azdias_lt_30.ANZ_TITEL = (azdias_lt_30.ANZ_TITEL.max() + 1) - azdias_lt_30.ANZ_TITEL\n",
    "azdias_lt_30.ANZ_TITEL.value_counts()"
   ]
  },
  {
   "cell_type": "markdown",
   "metadata": {},
   "source": [
    "New data dictionary value for ANZ_TITEL is as follows:\n",
    "- 7: 0 academic title holders in household\n",
    "- 6: 1 academic title holders in household\n",
    "- 5: 2 academic title holders in household\n",
    "- 4: 3 academic title holders in household\n",
    "- 3: 4 academic title holders in household\n",
    "- 2: 5 academic title holders in household\n",
    "- 1: 6 academic title holders in household"
   ]
  },
  {
   "cell_type": "code",
   "execution_count": 72,
   "metadata": {},
   "outputs": [],
   "source": [
    "# \"ANZ_HH_TITEL: Number of professional academic title holders in building\"\n",
    "# This feature should be changed to a density score equal to the\n",
    "# average professional academic title holders per household in building\n",
    "# to achieve this we'll divide by ANZ_HAUSHALTE_AKTIV (# of households in the building)\n",
    "# if "
   ]
  },
  {
   "cell_type": "code",
   "execution_count": 73,
   "metadata": {},
   "outputs": [
    {
     "data": {
      "text/plain": [
       "0.0     770026\n",
       "1.0      20152\n",
       "2.0       2458\n",
       "3.0        585\n",
       "4.0        232\n",
       "5.0        117\n",
       "6.0        106\n",
       "8.0         68\n",
       "7.0         65\n",
       "9.0         34\n",
       "13.0        29\n",
       "12.0        22\n",
       "11.0        22\n",
       "14.0        16\n",
       "10.0        16\n",
       "17.0        13\n",
       "20.0         9\n",
       "15.0         7\n",
       "18.0         6\n",
       "16.0         3\n",
       "23.0         3\n",
       "Name: ANZ_HH_TITEL, dtype: int64"
      ]
     },
     "execution_count": 73,
     "metadata": {},
     "output_type": "execute_result"
    }
   ],
   "source": [
    "azdias_lt_30.ANZ_HH_TITEL.value_counts()"
   ]
  },
  {
   "cell_type": "code",
   "execution_count": 74,
   "metadata": {},
   "outputs": [
    {
     "data": {
      "text/plain": [
       "array([  0.,  nan,   1.])"
      ]
     },
     "execution_count": 74,
     "metadata": {},
     "output_type": "execute_result"
    }
   ],
   "source": [
    "azdias_lt_30[azdias_lt_30.ANZ_HAUSHALTE_AKTIV.isnull()].ANZ_HH_TITEL.unique()"
   ]
  },
  {
   "cell_type": "code",
   "execution_count": 75,
   "metadata": {},
   "outputs": [
    {
     "data": {
      "text/plain": [
       "0.0    2590\n",
       "1.0      13\n",
       "Name: ANZ_HH_TITEL, dtype: int64"
      ]
     },
     "execution_count": 75,
     "metadata": {},
     "output_type": "execute_result"
    }
   ],
   "source": [
    "azdias_lt_30[azdias_lt_30.ANZ_HAUSHALTE_AKTIV.isnull()].ANZ_HH_TITEL.value_counts()"
   ]
  },
  {
   "cell_type": "code",
   "execution_count": 76,
   "metadata": {},
   "outputs": [
    {
     "data": {
      "text/plain": [
       "\"\\n# Create new column for capturing new value for ANZ_HH_TITEL\\nazdias_lt_30['ANZ_HH_TITEL_NEW'] = azdias_lt_30['ANZ_HH_TITEL']\\nazdias_lt_30['ANZ_HH_TITEL_NEW'] = azdias_lt_30['ANZ_HH_TITEL_NEW']/azdias_lt_30['ANZ_HAUSHALTE_AKTIV'] \\n\""
      ]
     },
     "execution_count": 76,
     "metadata": {},
     "output_type": "execute_result"
    }
   ],
   "source": [
    "'''\n",
    "# Create new column for capturing new value for ANZ_HH_TITEL\n",
    "azdias_lt_30['ANZ_HH_TITEL_NEW'] = azdias_lt_30['ANZ_HH_TITEL']\n",
    "azdias_lt_30['ANZ_HH_TITEL_NEW'] = azdias_lt_30['ANZ_HH_TITEL_NEW']/azdias_lt_30['ANZ_HAUSHALTE_AKTIV'] \n",
    "'''"
   ]
  },
  {
   "cell_type": "code",
   "execution_count": 77,
   "metadata": {},
   "outputs": [
    {
     "data": {
      "text/plain": [
       "\"\\n# when ANZ_HAUSHALTE_AKTIV is null, ANZ_HH_TITEL will be either null or 0 (in the case ANZ_HH_TITEL = 0 already)\\nazdias_lt_30.loc[azdias_lt_30.ANZ_HH_TITEL == 0, 'ANZ_HH_TITEL_NEW'] = 0\\n\""
      ]
     },
     "execution_count": 77,
     "metadata": {},
     "output_type": "execute_result"
    }
   ],
   "source": [
    "'''\n",
    "# when ANZ_HAUSHALTE_AKTIV is null, ANZ_HH_TITEL will be either null or 0 (in the case ANZ_HH_TITEL = 0 already)\n",
    "azdias_lt_30.loc[azdias_lt_30.ANZ_HH_TITEL == 0, 'ANZ_HH_TITEL_NEW'] = 0\n",
    "'''"
   ]
  },
  {
   "cell_type": "code",
   "execution_count": 78,
   "metadata": {},
   "outputs": [
    {
     "data": {
      "text/plain": [
       "\"\\n# replace old column with new column\\nazdias_lt_30.drop('ANZ_HH_TITEL', axis=1, inplace=True)\\nazdias_lt_30.rename(columns={'ANZ_HH_TITEL_NEW':'ANZ_HH_TITEL'}, inplace=True)\\nazdias_lt_30.ANZ_HH_TITEL.value_counts()\\n\""
      ]
     },
     "execution_count": 78,
     "metadata": {},
     "output_type": "execute_result"
    }
   ],
   "source": [
    "'''\n",
    "# replace old column with new column\n",
    "azdias_lt_30.drop('ANZ_HH_TITEL', axis=1, inplace=True)\n",
    "azdias_lt_30.rename(columns={'ANZ_HH_TITEL_NEW':'ANZ_HH_TITEL'}, inplace=True)\n",
    "azdias_lt_30.ANZ_HH_TITEL.value_counts()\n",
    "'''"
   ]
  },
  {
   "cell_type": "markdown",
   "metadata": {},
   "source": [
    "New data dictionary value for ANZ_HH_TITEL is as follows: \n",
    "ANZ_HH_TITEL: Number of professional academic title holders per household in building"
   ]
  },
  {
   "cell_type": "code",
   "execution_count": 79,
   "metadata": {},
   "outputs": [],
   "source": [
    "# Do whatever you need to in order to ensure that the dataframe only contains\n",
    "# the columns that should be passed to the algorithm functions.\n",
    "\n",
    "# No other additional tasks needed"
   ]
  },
  {
   "cell_type": "code",
   "execution_count": 80,
   "metadata": {},
   "outputs": [
    {
     "data": {
      "text/plain": [
       "(797792, 64)"
      ]
     },
     "execution_count": 80,
     "metadata": {},
     "output_type": "execute_result"
    }
   ],
   "source": [
    "azdias_lt_30.shape"
   ]
  },
  {
   "cell_type": "markdown",
   "metadata": {},
   "source": [
    "### Step 1.3: Create a Cleaning Function\n",
    "\n",
    "Even though you've finished cleaning up the general population demographics data, it's important to look ahead to the future and realize that you'll need to perform the same cleaning steps on the customer demographics data. In this substep, complete the function below to execute the main feature selection, encoding, and re-engineering steps you performed above. Then, when it comes to looking at the customer data in Step 3, you can just run this function on that DataFrame to get the trimmed dataset in a single step."
   ]
  },
  {
   "cell_type": "code",
   "execution_count": 81,
   "metadata": {},
   "outputs": [],
   "source": [
    "def clean_data(df):\n",
    "    \"\"\"\n",
    "    Perform feature trimming, re-encoding, and engineering for demographics\n",
    "    data\n",
    "    \n",
    "    INPUT: Demographics DataFrame\n",
    "    OUTPUT: Trimmed and cleaned demographics DataFrame\n",
    "    \"\"\"\n",
    "    \n",
    "    # Put in code here to execute all main cleaning steps:\n",
    "    # first create a copy of the dataset\n",
    "    df_clean = df.copy()\n",
    "    # convert missing value codes into NaNs, ...\n",
    " \n",
    "    # Loop through pairs of attributes and corresponding missing value strings in feat_info \n",
    "    # convert resulting strings into lists\n",
    "    for attribute, missing_val in zip(feat_info.attribute, feat_info.missing_or_unknown):\n",
    "        # for each attribute, instantiate a list to hold converted strings of missing values\n",
    "        missing_list = []\n",
    "        # Loop through string and add each item to list\n",
    "        for i in missing_val[1:-1].split(','):\n",
    "            missing_list.append(i)\n",
    "            # now for each matching attribute in the dataset \n",
    "            # if it's row value is found in the list of missing values from feat_info, convert to NAN\n",
    "            df_clean.loc[df['{}'.format(attribute)].isin(missing_list), '{}'.format(attribute)]=np.NaN\n",
    "            \n",
    "    # Convert column types into a numeric datatype\n",
    "    df_clean.CAMEO_DEUG_2015 = df_clean.CAMEO_DEUG_2015.astype('Float64')\n",
    "    df_clean.CAMEO_INTL_2015 = df_clean.CAMEO_INTL_2015.astype('Float64')             \n",
    "\n",
    "    # remove selected columns and rows, ...\n",
    "    # As we're comparing the customer dataset against the general population dataset,  \n",
    "    # we don't need the columns we dropped from the general population dataset\n",
    "    # Hence, we'll remove the following 6 columns which had >= 35% of data missing in the general population dataset\n",
    "    col_miss_35 = ['TITEL_KZ', 'AGER_TYP', 'KK_KUNDENTYP', 'KBA05_BAUMAX', 'GEBURTSJAHR',\n",
    "           'ALTER_HH']\n",
    "    df_clean.drop(col_miss_35, axis=1, inplace=True)\n",
    "    # similarly, we don't need the rows with more than 30% of their data missing\n",
    "    df_lt_30 = df_clean[df_clean.isnull().mean(axis=1)<.3] \n",
    "\n",
    "    # select, re-encode, and engineer column values.\n",
    "    \n",
    "    # We'll remove multi-level categorical attributes as follows:\n",
    "    # recall ct_multi is a list capturing mutli-level categorical attributes\n",
    "    df_lt_30.drop(ct_multi, axis=1, inplace=True)\n",
    "    \n",
    "    # We'll re-encode OST_WEST_KZ with binary numeric values of 1 for 'W' (West) and 0 for 'E' (East) will suffice\n",
    "    df_lt_30.loc[df_lt_30.OST_WEST_KZ =='W','OST_WEST_KZ'] = 1\n",
    "    df_lt_30.loc[df_lt_30.OST_WEST_KZ =='O','OST_WEST_KZ'] = 0    \n",
    "\n",
    "    # Re-engineer the 2 variables that capture multiple dimensions into new variables that capture a single dimension\n",
    "    # First is PRAEGENDE_JUGENDJAHRE\n",
    "    df_lt_30['GENERATION'] = df_lt_30['PRAEGENDE_JUGENDJAHRE']\n",
    "    df_lt_30['MOVEMENT'] = df_lt_30['PRAEGENDE_JUGENDJAHRE'] \n",
    "    # We'll re-use our earlier dictionaries for replacement\n",
    "    df_lt_30.GENERATION.replace(gen_dict, inplace=True)\n",
    "    df_lt_30.MOVEMENT.replace(mov_dict, inplace=True)\n",
    "    # Then, we can drop the original column\n",
    "    df_lt_30.drop('PRAEGENDE_JUGENDJAHRE', axis=1, inplace=True)\n",
    "    \n",
    "    # Repeat for CAMEO_INTL_2015\n",
    "    df_lt_30['WEALTH'] = df_lt_30['CAMEO_INTL_2015']\n",
    "    df_lt_30['LIFE_STAGE'] = df_lt_30['CAMEO_INTL_2015']    \n",
    "    # We'll re-use our earlier dictionary for replacement\n",
    "    df_lt_30.WEALTH.replace(wealth_dict, inplace=True)\n",
    "    df_lt_30.LIFE_STAGE.replace(life_dict, inplace=True)    \n",
    "    # Then, we can drop the original column\n",
    "    df_lt_30.drop('CAMEO_INTL_2015', axis=1, inplace=True)\n",
    "    # Lastlly, we'll drop the other mixed-type columns\n",
    "    df_lt_30.drop(['LP_LEBENSPHASE_FEIN', 'LP_LEBENSPHASE_GROB','WOHNLAGE','PLZ8_BAUMAX'], axis=1, inplace=True)    \n",
    "    \n",
    "    # Reverse direction of scale for ALTERSKATEGORIE_GROB and ANZ_TITEL\n",
    "    df_lt_30.ALTERSKATEGORIE_GROB = df_lt_30.ALTERSKATEGORIE_GROB.max() + 1 - df_lt_30.ALTERSKATEGORIE_GROB\n",
    "    df_lt_30.ANZ_TITEL = df_lt_30.ANZ_TITEL.max() + 1 - df_lt_30.ANZ_TITEL\n",
    "    \n",
    "    # Return the cleaned dataframe.\n",
    "    return df_lt_30"
   ]
  },
  {
   "cell_type": "markdown",
   "metadata": {},
   "source": [
    "## Step 2: Feature Transformation\n",
    "\n",
    "### Step 2.1: Apply Feature Scaling\n",
    "\n",
    "Before we apply dimensionality reduction techniques to the data, we need to perform feature scaling so that the principal component vectors are not influenced by the natural differences in scale for features. Starting from this part of the project, you'll want to keep an eye on the [API reference page for sklearn](http://scikit-learn.org/stable/modules/classes.html) to help you navigate to all of the classes and functions that you'll need. In this substep, you'll need to check the following:\n",
    "\n",
    "- sklearn requires that data not have missing values in order for its estimators to work properly. So, before applying the scaler to your data, make sure that you've cleaned the DataFrame of the remaining missing values. This can be as simple as just removing all data points with missing data, or applying an [Imputer](http://scikit-learn.org/stable/modules/generated/sklearn.preprocessing.Imputer.html) to replace all missing values. You might also try a more complicated procedure where you temporarily remove missing values in order to compute the scaling parameters before re-introducing those missing values and applying imputation. Think about how much missing data you have and what possible effects each approach might have on your analysis, and justify your decision in the discussion section below.\n",
    "- For the actual scaling function, a [StandardScaler](http://scikit-learn.org/stable/modules/generated/sklearn.preprocessing.StandardScaler.html) instance is suggested, scaling each feature to mean 0 and standard deviation 1.\n",
    "- For these classes, you can make use of the `.fit_transform()` method to both fit a procedure to the data as well as apply the transformation to the data at the same time. Don't forget to keep the fit sklearn objects handy, since you'll be applying them to the customer demographics data towards the end of the project."
   ]
  },
  {
   "cell_type": "code",
   "execution_count": 82,
   "metadata": {},
   "outputs": [
    {
     "data": {
      "text/plain": [
       "Index(['ALTERSKATEGORIE_GROB', 'HEALTH_TYP', 'RETOURTYP_BK_S', 'VERS_TYP',\n",
       "       'W_KEIT_KIND_HH', 'ANZ_HAUSHALTE_AKTIV', 'ANZ_HH_TITEL', 'KONSUMNAEHE',\n",
       "       'KBA05_ANTG1', 'KBA05_ANTG2', 'KBA05_ANTG3', 'KBA05_ANTG4', 'KBA05_GBZ',\n",
       "       'BALLRAUM', 'EWDICHTE', 'INNENSTADT', 'GEBAEUDETYP_RASTER', 'KKK',\n",
       "       'MOBI_REGIO', 'ONLINE_AFFINITAET', 'REGIOTYP', 'KBA13_ANZAHL_PKW',\n",
       "       'PLZ8_ANTG1', 'PLZ8_ANTG2', 'PLZ8_ANTG3', 'PLZ8_ANTG4', 'PLZ8_HHZ',\n",
       "       'PLZ8_GBZ', 'ARBEIT', 'ORTSGR_KLS9', 'RELAT_AB', 'GENERATION',\n",
       "       'MOVEMENT', 'WEALTH', 'LIFE_STAGE'],\n",
       "      dtype='object')"
      ]
     },
     "execution_count": 82,
     "metadata": {},
     "output_type": "execute_result"
    }
   ],
   "source": [
    "# check columns with null values before imputing\n",
    "azdias_nulls = azdias_lt_30.columns[azdias_lt_30.isnull().any()]\n",
    "azdias_nulls"
   ]
  },
  {
   "cell_type": "code",
   "execution_count": 83,
   "metadata": {},
   "outputs": [
    {
     "data": {
      "text/html": [
       "<div>\n",
       "<style scoped>\n",
       "    .dataframe tbody tr th:only-of-type {\n",
       "        vertical-align: middle;\n",
       "    }\n",
       "\n",
       "    .dataframe tbody tr th {\n",
       "        vertical-align: top;\n",
       "    }\n",
       "\n",
       "    .dataframe thead th {\n",
       "        text-align: right;\n",
       "    }\n",
       "</style>\n",
       "<table border=\"1\" class=\"dataframe\">\n",
       "  <thead>\n",
       "    <tr style=\"text-align: right;\">\n",
       "      <th></th>\n",
       "      <th>ALTERSKATEGORIE_GROB</th>\n",
       "      <th>HEALTH_TYP</th>\n",
       "      <th>RETOURTYP_BK_S</th>\n",
       "      <th>VERS_TYP</th>\n",
       "      <th>W_KEIT_KIND_HH</th>\n",
       "      <th>ANZ_HAUSHALTE_AKTIV</th>\n",
       "      <th>ANZ_HH_TITEL</th>\n",
       "      <th>KONSUMNAEHE</th>\n",
       "      <th>KBA05_ANTG1</th>\n",
       "      <th>KBA05_ANTG2</th>\n",
       "      <th>...</th>\n",
       "      <th>PLZ8_ANTG4</th>\n",
       "      <th>PLZ8_HHZ</th>\n",
       "      <th>PLZ8_GBZ</th>\n",
       "      <th>ARBEIT</th>\n",
       "      <th>ORTSGR_KLS9</th>\n",
       "      <th>RELAT_AB</th>\n",
       "      <th>GENERATION</th>\n",
       "      <th>MOVEMENT</th>\n",
       "      <th>WEALTH</th>\n",
       "      <th>LIFE_STAGE</th>\n",
       "    </tr>\n",
       "  </thead>\n",
       "  <tbody>\n",
       "    <tr>\n",
       "      <th>mean</th>\n",
       "      <td>2.204598</td>\n",
       "      <td>2.199086</td>\n",
       "      <td>3.443018</td>\n",
       "      <td>1.517887</td>\n",
       "      <td>4.161903</td>\n",
       "      <td>8.356087</td>\n",
       "      <td>0.040649</td>\n",
       "      <td>3.023049</td>\n",
       "      <td>1.494277</td>\n",
       "      <td>1.265584</td>\n",
       "      <td>...</td>\n",
       "      <td>0.699167</td>\n",
       "      <td>3.61282</td>\n",
       "      <td>3.381084</td>\n",
       "      <td>3.166781</td>\n",
       "      <td>5.293518</td>\n",
       "      <td>3.071104</td>\n",
       "      <td>4.33196</td>\n",
       "      <td>0.772227</td>\n",
       "      <td>3.262261</td>\n",
       "      <td>3.126983</td>\n",
       "    </tr>\n",
       "    <tr>\n",
       "      <th>50%</th>\n",
       "      <td>2.000000</td>\n",
       "      <td>2.000000</td>\n",
       "      <td>4.000000</td>\n",
       "      <td>2.000000</td>\n",
       "      <td>4.000000</td>\n",
       "      <td>4.000000</td>\n",
       "      <td>0.000000</td>\n",
       "      <td>3.000000</td>\n",
       "      <td>1.000000</td>\n",
       "      <td>1.000000</td>\n",
       "      <td>...</td>\n",
       "      <td>1.000000</td>\n",
       "      <td>4.00000</td>\n",
       "      <td>3.000000</td>\n",
       "      <td>3.000000</td>\n",
       "      <td>5.000000</td>\n",
       "      <td>3.000000</td>\n",
       "      <td>4.00000</td>\n",
       "      <td>1.000000</td>\n",
       "      <td>4.000000</td>\n",
       "      <td>3.000000</td>\n",
       "    </tr>\n",
       "  </tbody>\n",
       "</table>\n",
       "<p>2 rows × 35 columns</p>\n",
       "</div>"
      ],
      "text/plain": [
       "      ALTERSKATEGORIE_GROB  HEALTH_TYP  RETOURTYP_BK_S  VERS_TYP  \\\n",
       "mean              2.204598    2.199086        3.443018  1.517887   \n",
       "50%               2.000000    2.000000        4.000000  2.000000   \n",
       "\n",
       "      W_KEIT_KIND_HH  ANZ_HAUSHALTE_AKTIV  ANZ_HH_TITEL  KONSUMNAEHE  \\\n",
       "mean        4.161903             8.356087      0.040649     3.023049   \n",
       "50%         4.000000             4.000000      0.000000     3.000000   \n",
       "\n",
       "      KBA05_ANTG1  KBA05_ANTG2     ...      PLZ8_ANTG4  PLZ8_HHZ  PLZ8_GBZ  \\\n",
       "mean     1.494277     1.265584     ...        0.699167   3.61282  3.381084   \n",
       "50%      1.000000     1.000000     ...        1.000000   4.00000  3.000000   \n",
       "\n",
       "        ARBEIT  ORTSGR_KLS9  RELAT_AB  GENERATION  MOVEMENT    WEALTH  \\\n",
       "mean  3.166781     5.293518  3.071104     4.33196  0.772227  3.262261   \n",
       "50%   3.000000     5.000000  3.000000     4.00000  1.000000  4.000000   \n",
       "\n",
       "      LIFE_STAGE  \n",
       "mean    3.126983  \n",
       "50%     3.000000  \n",
       "\n",
       "[2 rows x 35 columns]"
      ]
     },
     "execution_count": 83,
     "metadata": {},
     "output_type": "execute_result"
    }
   ],
   "source": [
    "# Let's see the distribution of these columns with null values\n",
    "# normal distribution: mean = median\n",
    "# skewed right distribution: mean > median\n",
    "# skewed left distribution: mean < median\n",
    "azdias_lt_30[azdias_nulls].describe().loc[['mean', '50%'],:]"
   ]
  },
  {
   "cell_type": "markdown",
   "metadata": {},
   "source": [
    "### Discussion: Imputing missing values\n",
    "I can't use the 'mean' as my strategy for imputation replacement of missing values because the columns contain discrete whole number integers (e.g. some columns contain ordinal values) rather than floats that the mean would provide.  As far as other possibilities, I've confirmed the distributions of values are not normal or nearly normal for a lot of columns with missing values (nor are the distributions consistently skewed left or right).  Hence, I've decided to use the 'most_frequent' strategy rather than the mean or median for imputation replacement of missing values."
   ]
  },
  {
   "cell_type": "code",
   "execution_count": 84,
   "metadata": {},
   "outputs": [],
   "source": [
    "# If you've not yet cleaned the dataset of all NaN values, then investigate and\n",
    "# do that now.\n",
    "# we'll replace remaining missing values with the 'most frequent' value for each column\n",
    "imp = Imputer(missing_values=np.nan, strategy='most_frequent')\n",
    "azdias_impute = pd.DataFrame(imp.fit_transform(azdias_lt_30))"
   ]
  },
  {
   "cell_type": "code",
   "execution_count": 85,
   "metadata": {},
   "outputs": [],
   "source": [
    "azdias_impute.columns = azdias_lt_30.columns\n",
    "azdias_impute.index = azdias_lt_30.index"
   ]
  },
  {
   "cell_type": "code",
   "execution_count": 86,
   "metadata": {},
   "outputs": [
    {
     "data": {
      "text/plain": [
       "0"
      ]
     },
     "execution_count": 86,
     "metadata": {},
     "output_type": "execute_result"
    }
   ],
   "source": [
    "# confirm no columns with null values after imputing\n",
    "azdias_impute.isnull().any().sum()"
   ]
  },
  {
   "cell_type": "markdown",
   "metadata": {},
   "source": [
    "- For the actual scaling function, a [StandardScaler](http://scikit-learn.org/stable/modules/generated/sklearn.preprocessing.StandardScaler.html) instance is suggested, scaling each feature to mean 0 and standard deviation 1.\n",
    "- For these classes, you can make use of the `.fit_transform()` method to both fit a procedure to the data as well as apply the transformation to the data at the same time. Don't forget to keep the fit sklearn objects handy, since you'll be applying them to the customer demographics data towards the end of the project."
   ]
  },
  {
   "cell_type": "code",
   "execution_count": 87,
   "metadata": {},
   "outputs": [],
   "source": [
    "# As suggested, I'll applying Standard Scaler function for scaling each feature to mean 0 and std 1\n",
    "scaler = StandardScaler()\n",
    "azdias_scaled = pd.DataFrame(scaler.fit_transform(azdias_impute))\n",
    "azdias_scaled.columns = azdias_impute.columns\n",
    "azdias_scaled.index = azdias_impute.index"
   ]
  },
  {
   "cell_type": "code",
   "execution_count": 88,
   "metadata": {},
   "outputs": [
    {
     "data": {
      "text/html": [
       "<div>\n",
       "<style scoped>\n",
       "    .dataframe tbody tr th:only-of-type {\n",
       "        vertical-align: middle;\n",
       "    }\n",
       "\n",
       "    .dataframe tbody tr th {\n",
       "        vertical-align: top;\n",
       "    }\n",
       "\n",
       "    .dataframe thead th {\n",
       "        text-align: right;\n",
       "    }\n",
       "</style>\n",
       "<table border=\"1\" class=\"dataframe\">\n",
       "  <thead>\n",
       "    <tr style=\"text-align: right;\">\n",
       "      <th></th>\n",
       "      <th>ALTERSKATEGORIE_GROB</th>\n",
       "      <th>ANREDE_KZ</th>\n",
       "      <th>FINANZ_MINIMALIST</th>\n",
       "      <th>FINANZ_SPARER</th>\n",
       "      <th>FINANZ_VORSORGER</th>\n",
       "      <th>FINANZ_ANLEGER</th>\n",
       "      <th>FINANZ_UNAUFFAELLIGER</th>\n",
       "      <th>FINANZ_HAUSBAUER</th>\n",
       "      <th>GREEN_AVANTGARDE</th>\n",
       "      <th>HEALTH_TYP</th>\n",
       "      <th>...</th>\n",
       "      <th>PLZ8_ANTG4</th>\n",
       "      <th>PLZ8_HHZ</th>\n",
       "      <th>PLZ8_GBZ</th>\n",
       "      <th>ARBEIT</th>\n",
       "      <th>ORTSGR_KLS9</th>\n",
       "      <th>RELAT_AB</th>\n",
       "      <th>GENERATION</th>\n",
       "      <th>MOVEMENT</th>\n",
       "      <th>WEALTH</th>\n",
       "      <th>LIFE_STAGE</th>\n",
       "    </tr>\n",
       "  </thead>\n",
       "  <tbody>\n",
       "    <tr>\n",
       "      <th>count</th>\n",
       "      <td>797792.00</td>\n",
       "      <td>797792.00</td>\n",
       "      <td>797792.00</td>\n",
       "      <td>797792.00</td>\n",
       "      <td>797792.00</td>\n",
       "      <td>797792.00</td>\n",
       "      <td>797792.00</td>\n",
       "      <td>797792.00</td>\n",
       "      <td>797792.00</td>\n",
       "      <td>797792.00</td>\n",
       "      <td>...</td>\n",
       "      <td>797792.00</td>\n",
       "      <td>797792.00</td>\n",
       "      <td>797792.00</td>\n",
       "      <td>797792.00</td>\n",
       "      <td>797792.00</td>\n",
       "      <td>797792.00</td>\n",
       "      <td>797792.00</td>\n",
       "      <td>797792.00</td>\n",
       "      <td>797792.00</td>\n",
       "      <td>797792.00</td>\n",
       "    </tr>\n",
       "    <tr>\n",
       "      <th>mean</th>\n",
       "      <td>0.00</td>\n",
       "      <td>-0.00</td>\n",
       "      <td>-0.00</td>\n",
       "      <td>0.00</td>\n",
       "      <td>-0.00</td>\n",
       "      <td>-0.00</td>\n",
       "      <td>-0.00</td>\n",
       "      <td>0.00</td>\n",
       "      <td>0.00</td>\n",
       "      <td>0.00</td>\n",
       "      <td>...</td>\n",
       "      <td>0.00</td>\n",
       "      <td>-0.00</td>\n",
       "      <td>-0.00</td>\n",
       "      <td>-0.00</td>\n",
       "      <td>-0.00</td>\n",
       "      <td>0.00</td>\n",
       "      <td>0.00</td>\n",
       "      <td>0.00</td>\n",
       "      <td>-0.00</td>\n",
       "      <td>-0.00</td>\n",
       "    </tr>\n",
       "    <tr>\n",
       "      <th>std</th>\n",
       "      <td>1.00</td>\n",
       "      <td>1.00</td>\n",
       "      <td>1.00</td>\n",
       "      <td>1.00</td>\n",
       "      <td>1.00</td>\n",
       "      <td>1.00</td>\n",
       "      <td>1.00</td>\n",
       "      <td>1.00</td>\n",
       "      <td>1.00</td>\n",
       "      <td>1.00</td>\n",
       "      <td>...</td>\n",
       "      <td>1.00</td>\n",
       "      <td>1.00</td>\n",
       "      <td>1.00</td>\n",
       "      <td>1.00</td>\n",
       "      <td>1.00</td>\n",
       "      <td>1.00</td>\n",
       "      <td>1.00</td>\n",
       "      <td>1.00</td>\n",
       "      <td>1.00</td>\n",
       "      <td>1.00</td>\n",
       "    </tr>\n",
       "    <tr>\n",
       "      <th>min</th>\n",
       "      <td>-1.18</td>\n",
       "      <td>-1.04</td>\n",
       "      <td>-1.49</td>\n",
       "      <td>-1.16</td>\n",
       "      <td>-1.77</td>\n",
       "      <td>-1.25</td>\n",
       "      <td>-1.18</td>\n",
       "      <td>-1.50</td>\n",
       "      <td>-0.53</td>\n",
       "      <td>-1.63</td>\n",
       "      <td>...</td>\n",
       "      <td>-0.94</td>\n",
       "      <td>-2.69</td>\n",
       "      <td>-2.16</td>\n",
       "      <td>-2.17</td>\n",
       "      <td>-1.87</td>\n",
       "      <td>-1.53</td>\n",
       "      <td>-2.32</td>\n",
       "      <td>-1.89</td>\n",
       "      <td>-1.55</td>\n",
       "      <td>-1.44</td>\n",
       "    </tr>\n",
       "    <tr>\n",
       "      <th>25%</th>\n",
       "      <td>-1.18</td>\n",
       "      <td>-1.04</td>\n",
       "      <td>-0.77</td>\n",
       "      <td>-1.16</td>\n",
       "      <td>-1.04</td>\n",
       "      <td>-1.25</td>\n",
       "      <td>-1.18</td>\n",
       "      <td>-0.79</td>\n",
       "      <td>-0.53</td>\n",
       "      <td>-0.31</td>\n",
       "      <td>...</td>\n",
       "      <td>-0.94</td>\n",
       "      <td>-0.62</td>\n",
       "      <td>-0.34</td>\n",
       "      <td>-0.17</td>\n",
       "      <td>-0.56</td>\n",
       "      <td>-0.79</td>\n",
       "      <td>-0.95</td>\n",
       "      <td>0.53</td>\n",
       "      <td>-0.87</td>\n",
       "      <td>-0.77</td>\n",
       "    </tr>\n",
       "    <tr>\n",
       "      <th>50%</th>\n",
       "      <td>-0.20</td>\n",
       "      <td>0.96</td>\n",
       "      <td>-0.04</td>\n",
       "      <td>0.19</td>\n",
       "      <td>0.41</td>\n",
       "      <td>0.11</td>\n",
       "      <td>-0.47</td>\n",
       "      <td>-0.08</td>\n",
       "      <td>-0.53</td>\n",
       "      <td>-0.31</td>\n",
       "      <td>...</td>\n",
       "      <td>0.44</td>\n",
       "      <td>-0.62</td>\n",
       "      <td>-0.34</td>\n",
       "      <td>-0.17</td>\n",
       "      <td>-0.13</td>\n",
       "      <td>-0.05</td>\n",
       "      <td>0.42</td>\n",
       "      <td>0.53</td>\n",
       "      <td>0.49</td>\n",
       "      <td>-0.09</td>\n",
       "    </tr>\n",
       "    <tr>\n",
       "      <th>75%</th>\n",
       "      <td>0.78</td>\n",
       "      <td>0.96</td>\n",
       "      <td>0.68</td>\n",
       "      <td>0.86</td>\n",
       "      <td>1.14</td>\n",
       "      <td>0.79</td>\n",
       "      <td>0.96</td>\n",
       "      <td>0.63</td>\n",
       "      <td>-0.53</td>\n",
       "      <td>1.01</td>\n",
       "      <td>...</td>\n",
       "      <td>0.44</td>\n",
       "      <td>0.42</td>\n",
       "      <td>0.57</td>\n",
       "      <td>0.83</td>\n",
       "      <td>0.74</td>\n",
       "      <td>0.68</td>\n",
       "      <td>1.10</td>\n",
       "      <td>0.53</td>\n",
       "      <td>1.18</td>\n",
       "      <td>1.25</td>\n",
       "    </tr>\n",
       "    <tr>\n",
       "      <th>max</th>\n",
       "      <td>1.77</td>\n",
       "      <td>0.96</td>\n",
       "      <td>1.41</td>\n",
       "      <td>1.54</td>\n",
       "      <td>1.14</td>\n",
       "      <td>1.47</td>\n",
       "      <td>1.67</td>\n",
       "      <td>1.34</td>\n",
       "      <td>1.89</td>\n",
       "      <td>1.01</td>\n",
       "      <td>...</td>\n",
       "      <td>1.82</td>\n",
       "      <td>1.46</td>\n",
       "      <td>1.49</td>\n",
       "      <td>1.83</td>\n",
       "      <td>1.61</td>\n",
       "      <td>1.42</td>\n",
       "      <td>1.10</td>\n",
       "      <td>0.53</td>\n",
       "      <td>1.18</td>\n",
       "      <td>1.25</td>\n",
       "    </tr>\n",
       "  </tbody>\n",
       "</table>\n",
       "<p>8 rows × 64 columns</p>\n",
       "</div>"
      ],
      "text/plain": [
       "       ALTERSKATEGORIE_GROB  ANREDE_KZ  FINANZ_MINIMALIST  FINANZ_SPARER  \\\n",
       "count             797792.00  797792.00          797792.00      797792.00   \n",
       "mean                   0.00      -0.00              -0.00           0.00   \n",
       "std                    1.00       1.00               1.00           1.00   \n",
       "min                   -1.18      -1.04              -1.49          -1.16   \n",
       "25%                   -1.18      -1.04              -0.77          -1.16   \n",
       "50%                   -0.20       0.96              -0.04           0.19   \n",
       "75%                    0.78       0.96               0.68           0.86   \n",
       "max                    1.77       0.96               1.41           1.54   \n",
       "\n",
       "       FINANZ_VORSORGER  FINANZ_ANLEGER  FINANZ_UNAUFFAELLIGER  \\\n",
       "count         797792.00       797792.00              797792.00   \n",
       "mean              -0.00           -0.00                  -0.00   \n",
       "std                1.00            1.00                   1.00   \n",
       "min               -1.77           -1.25                  -1.18   \n",
       "25%               -1.04           -1.25                  -1.18   \n",
       "50%                0.41            0.11                  -0.47   \n",
       "75%                1.14            0.79                   0.96   \n",
       "max                1.14            1.47                   1.67   \n",
       "\n",
       "       FINANZ_HAUSBAUER  GREEN_AVANTGARDE  HEALTH_TYP     ...      PLZ8_ANTG4  \\\n",
       "count         797792.00         797792.00   797792.00     ...       797792.00   \n",
       "mean               0.00              0.00        0.00     ...            0.00   \n",
       "std                1.00              1.00        1.00     ...            1.00   \n",
       "min               -1.50             -0.53       -1.63     ...           -0.94   \n",
       "25%               -0.79             -0.53       -0.31     ...           -0.94   \n",
       "50%               -0.08             -0.53       -0.31     ...            0.44   \n",
       "75%                0.63             -0.53        1.01     ...            0.44   \n",
       "max                1.34              1.89        1.01     ...            1.82   \n",
       "\n",
       "        PLZ8_HHZ   PLZ8_GBZ     ARBEIT  ORTSGR_KLS9   RELAT_AB  GENERATION  \\\n",
       "count  797792.00  797792.00  797792.00    797792.00  797792.00   797792.00   \n",
       "mean       -0.00      -0.00      -0.00        -0.00       0.00        0.00   \n",
       "std         1.00       1.00       1.00         1.00       1.00        1.00   \n",
       "min        -2.69      -2.16      -2.17        -1.87      -1.53       -2.32   \n",
       "25%        -0.62      -0.34      -0.17        -0.56      -0.79       -0.95   \n",
       "50%        -0.62      -0.34      -0.17        -0.13      -0.05        0.42   \n",
       "75%         0.42       0.57       0.83         0.74       0.68        1.10   \n",
       "max         1.46       1.49       1.83         1.61       1.42        1.10   \n",
       "\n",
       "        MOVEMENT     WEALTH  LIFE_STAGE  \n",
       "count  797792.00  797792.00   797792.00  \n",
       "mean        0.00      -0.00       -0.00  \n",
       "std         1.00       1.00        1.00  \n",
       "min        -1.89      -1.55       -1.44  \n",
       "25%         0.53      -0.87       -0.77  \n",
       "50%         0.53       0.49       -0.09  \n",
       "75%         0.53       1.18        1.25  \n",
       "max         0.53       1.18        1.25  \n",
       "\n",
       "[8 rows x 64 columns]"
      ]
     },
     "execution_count": 88,
     "metadata": {},
     "output_type": "execute_result"
    }
   ],
   "source": [
    "# quick sanity check\n",
    "azdias_scaled.describe().round(2)"
   ]
  },
  {
   "cell_type": "markdown",
   "metadata": {},
   "source": [
    "### Discussion 2.1: Apply Feature Scaling¶\n",
    "\n",
    "As described above, I chose to use the 'most_frequent' value as my imputation replacement strategy for remaining null values.  This decision was in consideration of the need for whole integer values rather than floats (thus excluding 'mean' strategy), and a non-normal and inconsistent distribution of values per column (thus muddying the choice of 'median' strategy). <br>\n",
    "In terms of scaling, I used the Standard Scalar as suggested to scale each feature to a mean 0 and standard deviation 1 as confirmed above.  This helps prevent certain features with overall large values from having outsized impacts on our subsequent clustering algorithm and vice versa."
   ]
  },
  {
   "cell_type": "markdown",
   "metadata": {},
   "source": [
    "### Step 2.2: Perform Dimensionality Reduction\n",
    "\n",
    "On your scaled data, you are now ready to apply dimensionality reduction techniques.\n",
    "\n",
    "- Use sklearn's [PCA](http://scikit-learn.org/stable/modules/generated/sklearn.decomposition.PCA.html) class to apply principal component analysis on the data, thus finding the vectors of maximal variance in the data. To start, you should not set any parameters (so all components are computed) or set a number of components that is at least half the number of features (so there's enough features to see the general trend in variability).\n",
    "- Check out the ratio of variance explained by each principal component as well as the cumulative variance explained. Try plotting the cumulative or sequential values using matplotlib's [`plot()`](https://matplotlib.org/api/_as_gen/matplotlib.pyplot.plot.html) function. Based on what you find, select a value for the number of transformed features you'll retain for the clustering part of the project.\n",
    "- Once you've made a choice for the number of components to keep, make sure you re-fit a PCA instance to perform the decided-on transformation."
   ]
  },
  {
   "cell_type": "code",
   "execution_count": 89,
   "metadata": {},
   "outputs": [],
   "source": [
    "# Apply PCA to the data.\n",
    "pca = PCA()\n",
    "azdias_pca = pca.fit_transform(azdias_scaled)"
   ]
  },
  {
   "cell_type": "code",
   "execution_count": 90,
   "metadata": {},
   "outputs": [
    {
     "data": {
      "image/png": "[encoded data removed]",
      "text/plain": [
       "<matplotlib.figure.Figure at 0x7fa6397f7e10>"
      ]
     },
     "metadata": {
      "needs_background": "light"
     },
     "output_type": "display_data"
    }
   ],
   "source": [
    "# Investigate the variance accounted for by each principal component.\n",
    "component_ct = len(pca.explained_variance_ratio_)\n",
    "x_labels = np.arange(component_ct)\n",
    "plt.bar(x_labels, pca.explained_variance_ratio_)\n",
    "plt.title(\"Variance explained by each component\")\n",
    "plt.xlabel(\"Principal Component(s)\")\n",
    "plt.ylabel(\"% Variance Explained\")\n",
    "plt.show();"
   ]
  },
  {
   "cell_type": "code",
   "execution_count": 91,
   "metadata": {},
   "outputs": [
    {
     "data": {
      "image/png": "[encoded data removed]",
      "text/plain": [
       "<matplotlib.figure.Figure at 0x7fa6398af4a8>"
      ]
     },
     "metadata": {
      "needs_background": "light"
     },
     "output_type": "display_data"
    }
   ],
   "source": [
    "# Check out the cumulative variance accounted for the principal components\n",
    "\n",
    "# calculate cumulative sum of principal components\n",
    "pc_cum_sum = np.cumsum(pca.explained_variance_ratio_)\n",
    "# plot the cumulative variance\n",
    "plt.plot(x_labels, pc_cum_sum);\n",
    "plt.title(\"Cumulative Variance Explained\")\n",
    "plt.xlabel(\"Number of Components\")\n",
    "plt.ylabel(\"% Variance Explained\")\n",
    "plt.xticks(np.arange(0,len(pca.explained_variance_ratio_)+4,4))\n",
    "plt.yticks(np.arange(0,1.1,0.1))\n",
    "plt.grid()\n",
    "plt.show();"
   ]
  },
  {
   "cell_type": "code",
   "execution_count": 92,
   "metadata": {},
   "outputs": [],
   "source": [
    "# Re-apply PCA to the data while selecting for number of components to retain.\n",
    "# As per the chart above, the first 32 principal components capture 90% of the variance \n",
    "# so with effectively half the number of components, we can still capture 90% of the variance\n",
    "pca_32 = PCA(n_components=32)\n",
    "azdias_pca = pca_32.fit_transform(azdias_scaled)"
   ]
  },
  {
   "cell_type": "markdown",
   "metadata": {},
   "source": [
    "### Discussion 2.2: Perform Dimensionality Reduction\n",
    "\n",
    "As per the charts and analysis above, we discovered that we can capture 90% of the variance with just 32 principal components (transformed features).  If we wanted to be more aggressive, we could just use 20 principal components and still capture 80% of the variance."
   ]
  },
  {
   "cell_type": "markdown",
   "metadata": {},
   "source": [
    "### Step 2.3: Interpret Principal Components\n",
    "\n",
    "Now that we have our transformed principal components, it's a nice idea to check out the weight of each variable on the first few components to see if they can be interpreted in some fashion.\n",
    "\n",
    "As a reminder, each principal component is a unit vector that points in the direction of highest variance (after accounting for the variance captured by earlier principal components). The further a weight is from zero, the more the principal component is in the direction of the corresponding feature. If two features have large weights of the same sign (both positive or both negative), then increases in one tend expect to be associated with increases in the other. To contrast, features with different signs can be expected to show a negative correlation: increases in one variable should result in a decrease in the other.\n",
    "\n",
    "- To investigate the features, you should map each weight to their corresponding feature name, then sort the features according to weight. The most interesting features for each principal component, then, will be those at the beginning and end of the sorted list. Use the data dictionary document to help you understand these most prominent features, their relationships, and what a positive or negative value on the principal component might indicate.\n",
    "- You should investigate and interpret feature associations from the first three principal components in this substep. To help facilitate this, you should write a function that you can call at any time to print the sorted list of feature weights, for the *i*-th principal component. This might come in handy in the next step of the project, when you interpret the tendencies of the discovered clusters."
   ]
  },
  {
   "cell_type": "code",
   "execution_count": 93,
   "metadata": {},
   "outputs": [
    {
     "data": {
      "text/plain": [
       "array([ 0.12556031,  0.00751762, -0.22306846,  0.15305189, -0.12012799,\n",
       "        0.07504969,  0.08103844,  0.15955552, -0.11021741,  0.04118946,\n",
       "       -0.02169524,  0.04329638,  0.08098668,  0.11854672,  0.0824127 ,\n",
       "       -0.040606  , -0.07686695, -0.08014397,  0.07549774,  0.09953307,\n",
       "        0.0038001 ,  0.02376682,  0.03940146,  0.12111911,  0.09367537,\n",
       "       -0.00198809,  0.03258604, -0.07808399,  0.00421589,  0.20223158,\n",
       "        0.03637233, -0.0612505 ,  0.1360604 ,  0.03385519, -0.1674018 ,\n",
       "       -0.04321437, -0.05366689, -0.21446241,  0.01374002,  0.13673703,\n",
       "        0.15399816, -0.21605988, -0.12733943,  0.19465787, -0.16463748,\n",
       "       -0.11719427,  0.03958529, -0.22485931, -0.0413069 ,  0.06033484,\n",
       "       -0.07399508, -0.22566333,  0.15368431,  0.22534721,  0.21691127,\n",
       "        0.04224945, -0.16638456,  0.1425739 ,  0.19676956,  0.13495622,\n",
       "        0.11220442,  0.11021741,  0.20465551,  0.12516634])"
      ]
     },
     "execution_count": 93,
     "metadata": {},
     "output_type": "execute_result"
    }
   ],
   "source": [
    "# Test code for how each component weight vector looks like\n",
    "(pca_32.components_[0])"
   ]
  },
  {
   "cell_type": "code",
   "execution_count": 94,
   "metadata": {},
   "outputs": [
    {
     "data": {
      "text/html": [
       "<div>\n",
       "<style scoped>\n",
       "    .dataframe tbody tr th:only-of-type {\n",
       "        vertical-align: middle;\n",
       "    }\n",
       "\n",
       "    .dataframe tbody tr th {\n",
       "        vertical-align: top;\n",
       "    }\n",
       "\n",
       "    .dataframe thead th {\n",
       "        text-align: right;\n",
       "    }\n",
       "</style>\n",
       "<table border=\"1\" class=\"dataframe\">\n",
       "  <thead>\n",
       "    <tr style=\"text-align: right;\">\n",
       "      <th></th>\n",
       "      <th>WEIGHT</th>\n",
       "    </tr>\n",
       "  </thead>\n",
       "  <tbody>\n",
       "    <tr>\n",
       "      <th>PLZ8_ANTG3</th>\n",
       "      <td>0.225347</td>\n",
       "    </tr>\n",
       "    <tr>\n",
       "      <th>PLZ8_ANTG4</th>\n",
       "      <td>0.216911</td>\n",
       "    </tr>\n",
       "    <tr>\n",
       "      <th>WEALTH</th>\n",
       "      <td>0.204656</td>\n",
       "    </tr>\n",
       "    <tr>\n",
       "      <th>HH_EINKOMMEN_SCORE</th>\n",
       "      <td>0.202232</td>\n",
       "    </tr>\n",
       "    <tr>\n",
       "      <th>ORTSGR_KLS9</th>\n",
       "      <td>0.196770</td>\n",
       "    </tr>\n",
       "  </tbody>\n",
       "</table>\n",
       "</div>"
      ],
      "text/plain": [
       "                      WEIGHT\n",
       "PLZ8_ANTG3          0.225347\n",
       "PLZ8_ANTG4          0.216911\n",
       "WEALTH              0.204656\n",
       "HH_EINKOMMEN_SCORE  0.202232\n",
       "ORTSGR_KLS9         0.196770"
      ]
     },
     "execution_count": 94,
     "metadata": {},
     "output_type": "execute_result"
    }
   ],
   "source": [
    "# test code for creating a mapping of weights to corresponding features for the first principle component\n",
    "pd.DataFrame(pca_32.components_[0], index=azdias_scaled.columns, columns=['WEIGHT']).\\\n",
    "sort_values(by='WEIGHT', ascending=False).head()"
   ]
  },
  {
   "cell_type": "code",
   "execution_count": 95,
   "metadata": {},
   "outputs": [
    {
     "name": "stdout",
     "output_type": "stream",
     "text": [
      "                       WEIGHTS_PC1\n",
      "PLZ8_ANTG3                0.225347\n",
      "PLZ8_ANTG4                0.216911\n",
      "WEALTH                    0.204656\n",
      "HH_EINKOMMEN_SCORE        0.202232\n",
      "ORTSGR_KLS9               0.196770\n",
      "EWDICHTE                  0.194658\n",
      "FINANZ_HAUSBAUER          0.159556\n",
      "KBA05_ANTG4               0.153998\n",
      "PLZ8_ANTG2                0.153684\n",
      "FINANZ_SPARER             0.153052\n",
      "ARBEIT                    0.142574\n",
      "KBA05_ANTG3               0.136737\n",
      "ANZ_HAUSHALTE_AKTIV       0.136060\n",
      "RELAT_AB                  0.134956\n",
      "ALTERSKATEGORIE_GROB      0.125560\n",
      "LIFE_STAGE                0.125166\n",
      "SEMIO_PFLICHT             0.121119\n",
      "SEMIO_REL                 0.118547\n",
      "GENERATION                0.112204\n",
      "MOVEMENT                  0.110217\n",
      "SEMIO_RAT                 0.099533\n",
      "SEMIO_TRADV               0.093675\n",
      "SEMIO_MAT                 0.082413\n",
      "FINANZ_UNAUFFAELLIGER     0.081038\n",
      "SEMIO_FAM                 0.080987\n",
      "SEMIO_KULT                0.075498\n",
      "FINANZ_ANLEGER            0.075050\n",
      "REGIOTYP                  0.060335\n",
      "SEMIO_SOZ                 0.043296\n",
      "PLZ8_HHZ                  0.042249\n",
      "...                            ...\n",
      "ANZ_HH_TITEL              0.033855\n",
      "VERS_TYP                  0.032586\n",
      "SEMIO_DOM                 0.023767\n",
      "KBA05_ANTG2               0.013740\n",
      "ANREDE_KZ                 0.007518\n",
      "ANZ_TITEL                 0.004216\n",
      "SEMIO_KRIT                0.003800\n",
      "SOHO_KZ                  -0.001988\n",
      "RETOURTYP_BK_S           -0.021695\n",
      "SEMIO_VERT               -0.040606\n",
      "ONLINE_AFFINITAET        -0.041307\n",
      "MIN_GEBAEUDEJAHR         -0.043214\n",
      "OST_WEST_KZ              -0.053667\n",
      "WOHNDAUER_2008           -0.061250\n",
      "KBA13_ANZAHL_PKW         -0.073995\n",
      "SEMIO_LUST               -0.076867\n",
      "ANZ_PERSONEN             -0.078084\n",
      "SEMIO_ERL                -0.080144\n",
      "GREEN_AVANTGARDE         -0.110217\n",
      "GEBAEUDETYP_RASTER       -0.117194\n",
      "FINANZ_VORSORGER         -0.120128\n",
      "BALLRAUM                 -0.127339\n",
      "INNENSTADT               -0.164637\n",
      "PLZ8_GBZ                 -0.166385\n",
      "KONSUMNAEHE              -0.167402\n",
      "KBA05_ANTG1              -0.214462\n",
      "KBA05_GBZ                -0.216060\n",
      "FINANZ_MINIMALIST        -0.223068\n",
      "MOBI_REGIO               -0.224859\n",
      "PLZ8_ANTG1               -0.225663\n",
      "\n",
      "[64 rows x 1 columns]\n"
     ]
    }
   ],
   "source": [
    "# Map weights for the first principal component to corresponding feature names\n",
    "# and then print the linked values, sorted by weight.\n",
    "# HINT: Try defining a function here or in a new cell that you can reuse in the\n",
    "# other cells.\n",
    "def map_weights(pca, pc_num):\n",
    "    df = pd.DataFrame(pca.components_[pc_num-1], index=azdias_scaled.columns, columns=['WEIGHTS_PC'+str(pc_num)])\n",
    "    return df.sort_values(by='WEIGHTS_PC'+str(pc_num), ascending=False)\n",
    "print(map_weights(pca_32,1))"
   ]
  },
  {
   "cell_type": "code",
   "execution_count": 96,
   "metadata": {},
   "outputs": [
    {
     "name": "stdout",
     "output_type": "stream",
     "text": [
      "                       WEIGHTS_PC2\n",
      "SEMIO_ERL                 0.229927\n",
      "FINANZ_VORSORGER          0.229257\n",
      "SEMIO_LUST                0.180128\n",
      "RETOURTYP_BK_S            0.161924\n",
      "FINANZ_HAUSBAUER          0.121770\n",
      "SEMIO_KRIT                0.117889\n",
      "SEMIO_KAEM                0.116429\n",
      "W_KEIT_KIND_HH            0.114759\n",
      "PLZ8_ANTG3                0.098371\n",
      "EWDICHTE                  0.097856\n",
      "ORTSGR_KLS9               0.096540\n",
      "PLZ8_ANTG4                0.096177\n",
      "ANREDE_KZ                 0.093154\n",
      "WEALTH                    0.079200\n",
      "KBA05_ANTG4               0.075188\n",
      "SEMIO_DOM                 0.074489\n",
      "ARBEIT                    0.071784\n",
      "RELAT_AB                  0.069267\n",
      "PLZ8_ANTG2                0.068147\n",
      "ANZ_HAUSHALTE_AKTIV       0.066438\n",
      "HH_EINKOMMEN_SCORE        0.061884\n",
      "FINANZ_MINIMALIST         0.059415\n",
      "WOHNDAUER_2008            0.058436\n",
      "KBA05_ANTG3               0.050524\n",
      "VERS_TYP                  0.032153\n",
      "ANZ_HH_TITEL              0.032067\n",
      "MOVEMENT                  0.018358\n",
      "PLZ8_HHZ                  0.015879\n",
      "REGIOTYP                  0.011882\n",
      "LIFE_STAGE                0.001243\n",
      "...                            ...\n",
      "GREEN_AVANTGARDE         -0.018358\n",
      "OST_WEST_KZ              -0.027452\n",
      "KBA13_ANZAHL_PKW         -0.037924\n",
      "GEBAEUDETYP_RASTER       -0.047218\n",
      "MIN_GEBAEUDEJAHR         -0.049009\n",
      "HEALTH_TYP               -0.056962\n",
      "ANZ_PERSONEN             -0.064202\n",
      "BALLRAUM                 -0.064669\n",
      "SEMIO_VERT               -0.072802\n",
      "KBA05_ANTG1              -0.074417\n",
      "KONSUMNAEHE              -0.074750\n",
      "PLZ8_GBZ                 -0.075128\n",
      "INNENSTADT               -0.079617\n",
      "MOBI_REGIO               -0.080870\n",
      "KBA05_GBZ                -0.092323\n",
      "PLZ8_ANTG1               -0.096297\n",
      "SEMIO_SOZ                -0.103247\n",
      "SEMIO_MAT                -0.161723\n",
      "ONLINE_AFFINITAET        -0.165396\n",
      "SEMIO_RAT                -0.166994\n",
      "SEMIO_FAM                -0.184302\n",
      "FINANZ_ANLEGER           -0.202727\n",
      "SEMIO_KULT               -0.219765\n",
      "SEMIO_PFLICHT            -0.225463\n",
      "FINANZ_UNAUFFAELLIGER    -0.225497\n",
      "SEMIO_TRADV              -0.228302\n",
      "FINANZ_SPARER            -0.231681\n",
      "GENERATION               -0.238576\n",
      "SEMIO_REL                -0.253658\n",
      "ALTERSKATEGORIE_GROB     -0.256295\n",
      "\n",
      "[64 rows x 1 columns]\n"
     ]
    }
   ],
   "source": [
    "# Map weights for the second principal component to corresponding feature names\n",
    "# and then print the linked values, sorted by weight.\n",
    "print(map_weights(pca_32, 2))"
   ]
  },
  {
   "cell_type": "code",
   "execution_count": 97,
   "metadata": {},
   "outputs": [
    {
     "name": "stdout",
     "output_type": "stream",
     "text": [
      "                       WEIGHTS_PC3\n",
      "SEMIO_VERT                0.344669\n",
      "SEMIO_SOZ                 0.261920\n",
      "SEMIO_FAM                 0.248862\n",
      "SEMIO_KULT                0.233896\n",
      "FINANZ_MINIMALIST         0.154512\n",
      "RETOURTYP_BK_S            0.109043\n",
      "FINANZ_VORSORGER          0.101732\n",
      "W_KEIT_KIND_HH            0.085128\n",
      "SEMIO_REL                 0.067723\n",
      "SEMIO_LUST                0.064505\n",
      "SEMIO_MAT                 0.055642\n",
      "ORTSGR_KLS9               0.050266\n",
      "EWDICHTE                  0.049483\n",
      "PLZ8_ANTG4                0.049162\n",
      "PLZ8_ANTG3                0.048406\n",
      "GREEN_AVANTGARDE          0.047114\n",
      "ARBEIT                    0.037336\n",
      "RELAT_AB                  0.034351\n",
      "PLZ8_ANTG2                0.032670\n",
      "WOHNDAUER_2008            0.032619\n",
      "WEALTH                    0.030184\n",
      "KBA05_ANTG4               0.029973\n",
      "ANZ_HAUSHALTE_AKTIV       0.026796\n",
      "ANZ_HH_TITEL              0.013916\n",
      "KBA05_ANTG3               0.011868\n",
      "LIFE_STAGE                0.010042\n",
      "PLZ8_HHZ                  0.005616\n",
      "VERS_TYP                  0.001727\n",
      "SOHO_KZ                   0.000181\n",
      "KBA05_ANTG2              -0.006746\n",
      "...                            ...\n",
      "OST_WEST_KZ              -0.016282\n",
      "HH_EINKOMMEN_SCORE       -0.016449\n",
      "MIN_GEBAEUDEJAHR         -0.018268\n",
      "KBA05_ANTG1              -0.022147\n",
      "KBA13_ANZAHL_PKW         -0.023853\n",
      "MOBI_REGIO               -0.026829\n",
      "KBA05_GBZ                -0.029003\n",
      "GEBAEUDETYP_RASTER       -0.032108\n",
      "HEALTH_TYP               -0.033972\n",
      "BALLRAUM                 -0.037227\n",
      "FINANZ_HAUSBAUER         -0.039770\n",
      "KONSUMNAEHE              -0.040446\n",
      "PLZ8_GBZ                 -0.040536\n",
      "INNENSTADT               -0.045751\n",
      "MOVEMENT                 -0.047114\n",
      "PLZ8_ANTG1               -0.049391\n",
      "ONLINE_AFFINITAET        -0.055733\n",
      "SEMIO_TRADV              -0.079333\n",
      "ALTERSKATEGORIE_GROB     -0.079666\n",
      "SEMIO_PFLICHT            -0.080091\n",
      "FINANZ_UNAUFFAELLIGER    -0.101093\n",
      "FINANZ_SPARER            -0.107210\n",
      "GENERATION               -0.111708\n",
      "SEMIO_ERL                -0.175265\n",
      "FINANZ_ANLEGER           -0.190984\n",
      "SEMIO_RAT                -0.217738\n",
      "SEMIO_KRIT               -0.275147\n",
      "SEMIO_DOM                -0.313054\n",
      "SEMIO_KAEM               -0.335060\n",
      "ANREDE_KZ                -0.367352\n",
      "\n",
      "[64 rows x 1 columns]\n"
     ]
    }
   ],
   "source": [
    "# Map weights for the third principal component to corresponding feature names\n",
    "# and then print the linked values, sorted by weight.\n",
    "print(map_weights(pca_32, 3))"
   ]
  },
  {
   "cell_type": "code",
   "execution_count": 98,
   "metadata": {},
   "outputs": [
    {
     "name": "stdout",
     "output_type": "stream",
     "text": [
      "                  WEIGHTS_PC2\n",
      "SEMIO_ERL            0.229927\n",
      "FINANZ_VORSORGER     0.229257\n",
      "SEMIO_LUST           0.180128\n",
      "RETOURTYP_BK_S       0.161924\n",
      "                      WEIGHTS_PC2\n",
      "FINANZ_SPARER           -0.231681\n",
      "GENERATION              -0.238576\n",
      "SEMIO_REL               -0.253658\n",
      "ALTERSKATEGORIE_GROB    -0.256295\n"
     ]
    }
   ],
   "source": [
    "print(map_weights(pca_32, 2).head(4))\n",
    "print(map_weights(pca_32, 2).tail(4))"
   ]
  },
  {
   "cell_type": "code",
   "execution_count": 99,
   "metadata": {},
   "outputs": [
    {
     "name": "stdout",
     "output_type": "stream",
     "text": [
      "            WEIGHTS_PC3\n",
      "SEMIO_VERT     0.344669\n",
      "SEMIO_SOZ      0.261920\n",
      "SEMIO_FAM      0.248862\n",
      "SEMIO_KULT     0.233896\n",
      "            WEIGHTS_PC3\n",
      "SEMIO_KRIT    -0.275147\n",
      "SEMIO_DOM     -0.313054\n",
      "SEMIO_KAEM    -0.335060\n",
      "ANREDE_KZ     -0.367352\n"
     ]
    }
   ],
   "source": [
    "print(map_weights(pca_32, 3).head(4))\n",
    "print(map_weights(pca_32, 3).tail(4))"
   ]
  },
  {
   "cell_type": "markdown",
   "metadata": {},
   "source": [
    "### Discussion 2.3: Interpret Principal Components\n",
    "\n",
    "(Double-click this cell and replace this text with your own text, reporting your observations from detailed investigation of the first few principal components generated. Can we interpret positive and negative values from them in a meaningful way?)\n",
    "\n",
    "#### First Principal Component: \n",
    "**Analysis:** As listed below, the features with the highest weights and positive correlations to one another tend to describe larger, denser households and communities whereas the featuers with the lowest weights tend to describe low density family houses and buildings.  In addition and of interesting note is that the 3rd highest weighted feature captures the wealth (higher scores mean lower wealth) and similarly the 4th highest score captures the income (higher score means lower income) <br>\n",
    "From this information, we can infer that when the share of 10+ family homes increase we can also expect the share of 6-10+ family homes to increase as well.  Similarly, along with the size of the family houses, the wealth and income of individuals decreases while the size of the community also increases -- this might be expected as poorer individuals would live in denser buildings and communities (i.e. more families per home and people per community).  \n",
    "\n",
    "On the other side,  when analyzing the negative weights we can expect more less crowded 1-2 family homes, movement and accompanying high financial interest typology to move in step in the opposite direction (e.g. people who can afford to live in/own less crowded homes tend to identify as having higher financial interest and tend to move less frequently etc.)\n",
    "\n",
    "**Top 5 positive weights:** (higher to lower)\n",
    "- PLZ8_ANTG3: Number of 6-10 family houses in the PLZ8 region (none to high share) (0.225347)\n",
    "- PLZ8_ANTG4: Number of 10+ family houses in the PLZ8 region (none to high share) (0.216911)\n",
    "- WEALTH: top earners (low values) to low-income (high values) (0.204656)\n",
    "- HH_EINKOMMEN_SCORE: Estimated household net income (highest to very low) (0.202232)\n",
    "- ORTSGR_KLS9: Size of community (<=2000 to >700,000) (0.196770)\n",
    "\n",
    "**Bottom 5 negative weights:**\n",
    "- KBA05_ANTG1: Number of 1-2 family houses in the microcell (none to very high share) (-0.214462)\n",
    "- KBA05_GBZ: Number of buildings in the microcell (1 to >= 23) (-0.216060)\n",
    "- FINANZ_MINIMALIST: Financial typology, for low financial interest dimension (very high to very low) (-0.223068)\n",
    "- MOBI_REGIO: Movement patterns (very high to no movement) (-0.224859)\n",
    "- PLZ8_ANTG1: Number of 1-2 family houses in the PLZ8 region (none to very high share) (-0.225663)\n",
    "\n",
    "\n",
    "#### Second Principal Component: \n",
    "**Analysis:** Note, for brevity purposes we'll only cover the top and bottom 4 weighted features for the second principal component.  For the second principal component, it is positively weighted towards individuals who have low affinity with personality typologies of 'event-oriented' and 'sensual-mindedness' as well as low identification of financial typology as having a 'be-prepared' mindset.  Also of interest for this use case (i.e. of mail order deliveries) was the 4th highest component of 'RETOURTYP_BK_S' which is the likelihood the individual will return an item (from crazy/heavy returner to minimal returner), suggesting that the less an individual identifies as event-oriented/sensual or having a 'be-prepared' financial mindset, the less likely the individual will return an item <br>\n",
    "<br>\n",
    "In contrast, the second principal component has the lowest negative weights for the typology of'religious personality', generation, age and financial typology for a 'money-saver' mindset.  Hence, we can interpret that these last 3 features tend to move together in an opposite direction relative to the second principal component and compared to the high positive weighted features.  Someone of a younger age would naturally belong to a younger generation, but we also find that younger people would identify less as 'money savers or religious' and would be crazy-shoppers/heavy returners  while older people would identify more as event-oriented/sensual or having a 'be-prepared' financial mindset as well as be less likely to return an item they purchased.\n",
    "\n",
    "**Top 4 positive weights:** (higher to lower)\n",
    "- SEMIO_ERL: Personality typology, for 'event-oriented' dimension (highest to lowest affinity) 0.229927\n",
    "- FINANZ_VORSORGER: Financial typology for 'be prepared' dimension (very high to very low) 0.229257\n",
    "- SEMIO_LUST: Personality typology, for 'sensual-minded' dimension (highest to lowest affinity) 0.180128\n",
    "- RETOURTYP_BK_S: Return type (influenceable Crazy-Shopper/Heavy Returner to determined Minimal-Returner) 0.161924\n",
    "\n",
    "**Bottom 4 negative weights:**\n",
    "\n",
    "- FINANZ_SPARER: Financial typology, for 'money-saver' dimension (very high to very low) -0.231681\n",
    "- GENERATION: Generation by decade (40s to 90s) -0.238576\n",
    "- SEMIO_REL: Personality typology for 'religious' dimension (highest to lowest affinity) -0.253658\n",
    "- ALTERSKATEGORIE_GROB: Estimated age based on given name analysis (>60 to <30 yrs old) -0.256295\n",
    "\n",
    "#### Third Principal Component: \n",
    "**Analysis:** Note, for brevity purposes we'll only cover the top and bottom 3 weighted features for the third principal components.  For the third principal component, it is positively weighted towards the personality typology of people with low personality affinities of 'dreamful', 'socially-minded' and 'family-minded' dispositions.  Hence, people who identify as dreamful tend to also be socially and family-minded as well.  <br>\n",
    "In contrast, the third principal component has the lowest negative weights for the personality typology of people who do not identify as 'dominant-minded' or have a 'combative-attitude' as well as who are male.  Hence, people who are dreamful/socially-minded/and family-oriented are less likely to identify as dominant/combative and male.\n",
    "\n",
    "**Top 3 positive weights:** (higher to lower)\n",
    "- SEMIO_VERT: Personality typology, for 'dreamful' dimension (highest to lowest affinity) 0.344669\n",
    "- SEMIO_SOZ: Personality typology, for 'socially-minded' dimension (highest to lowest affinity) 0.261920\n",
    "- SEMIO_FAM: Personality typology, for 'family-minded' dimension (highest to lowest affinity) 0.248862\n",
    "\n",
    "**Bottom 3 negative weights:**\n",
    "- SEMIO_DOM: Personality typology, for 'dominant-minded' dimension (highest to lowest affinity) -0.313054\n",
    "- SEMIO_KAEM:Personality typology, for 'combative attitude' dimension (highest to lowest affinity) -0.335060\n",
    "- ANREDE_KZ: Gender (male (1) /female (2) /unknown (0)) -0.367352"
   ]
  },
  {
   "cell_type": "markdown",
   "metadata": {},
   "source": [
    "## Step 3: Clustering\n",
    "\n",
    "### Step 3.1: Apply Clustering to General Population\n",
    "\n",
    "You've assessed and cleaned the demographics data, then scaled and transformed them. Now, it's time to see how the data clusters in the principal components space. In this substep, you will apply k-means clustering to the dataset and use the average within-cluster distances from each point to their assigned cluster's centroid to decide on a number of clusters to keep.\n",
    "\n",
    "- Use sklearn's [KMeans](http://scikit-learn.org/stable/modules/generated/sklearn.cluster.KMeans.html#sklearn.cluster.KMeans) class to perform k-means clustering on the PCA-transformed data.\n",
    "- Then, compute the average difference from each point to its assigned cluster's center. **Hint**: The KMeans object's `.score()` method might be useful here, but note that in sklearn, scores tend to be defined so that larger is better. Try applying it to a small, toy dataset, or use an internet search to help your understanding.\n",
    "- Perform the above two steps for a number of different cluster counts. You can then see how the average distance decreases with an increasing number of clusters. However, each additional cluster provides a smaller net benefit. Use this fact to select a final number of clusters in which to group the data. **Warning**: because of the large size of the dataset, it can take a long time for the algorithm to resolve. The more clusters to fit, the longer the algorithm will take. You should test for cluster counts through at least 10 clusters to get the full picture, but you shouldn't need to test for a number of clusters above about 30.\n",
    "- Once you've selected a final number of clusters to use, re-fit a KMeans instance to perform the clustering operation. Make sure that you also obtain the cluster assignments for the general demographics data, since you'll be using them in the final Step 3.3."
   ]
  },
  {
   "cell_type": "code",
   "execution_count": 100,
   "metadata": {},
   "outputs": [],
   "source": [
    "# List to store score for each cluster count\n",
    "scores=[]\n",
    "# range of cluster counts to test against \n",
    "# up to 20 clusters -- split the difference btw recommended least (10) and highest (30) # of clusters\n",
    "clusters = range(1,21)\n",
    "# Over a number of different cluster counts...\n",
    "for k in clusters:\n",
    "    # run k-means clustering on the data and...\n",
    "    kmeans = KMeans(k, random_state=0)\n",
    "    model = kmeans.fit(azdias_pca)\n",
    "    # compute the average within-cluster distances.\n",
    "    score = np.abs(model.score(azdias_pca))\n",
    "    scores.append(score)"
   ]
  },
  {
   "cell_type": "code",
   "execution_count": 101,
   "metadata": {},
   "outputs": [
    {
     "data": {
      "image/png": "[encoded data removed]",
      "text/plain": [
       "<matplotlib.figure.Figure at 0x7fa639b60cc0>"
      ]
     },
     "metadata": {
      "needs_background": "light"
     },
     "output_type": "display_data"
    }
   ],
   "source": [
    "plt.plot(clusters, scores, linestyle='-', marker='o')\n",
    "plt.xlabel('K')\n",
    "plt.ylabel('SSE')\n",
    "plt.grid()\n",
    "plt.show();"
   ]
  },
  {
   "cell_type": "code",
   "execution_count": 102,
   "metadata": {},
   "outputs": [
    {
     "data": {
      "image/png": "[encoded data removed]",
      "text/plain": [
       "<matplotlib.figure.Figure at 0x7fa65a89d0b8>"
      ]
     },
     "metadata": {
      "needs_background": "light"
     },
     "output_type": "display_data"
    }
   ],
   "source": [
    "# Investigate the change in within-cluster distance across number of clusters.\n",
    "# HINT: Use matplotlib's plot function to visualize this relationship.\n",
    "plt.figure(figsize=(12,6))\n",
    "k_ct = len(clusters)\n",
    "x_ticks = np.arange(1, k_ct+1,1)\n",
    "plt.plot(x_ticks, scores, linestyle='-', marker='o')\n",
    "plt.xticks(x_ticks)\n",
    "plt.grid()\n",
    "plt.show();"
   ]
  },
  {
   "cell_type": "code",
   "execution_count": 103,
   "metadata": {},
   "outputs": [
    {
     "data": {
      "text/plain": [
       "array([ 1,  2,  3,  4,  5,  6,  7,  8,  9, 10, 11, 12, 13, 14, 15, 16, 17,\n",
       "       18, 19])"
      ]
     },
     "execution_count": 103,
     "metadata": {},
     "output_type": "execute_result"
    }
   ],
   "source": [
    "# quick test\n",
    "np.arange(1, len(scores))"
   ]
  },
  {
   "cell_type": "code",
   "execution_count": 104,
   "metadata": {},
   "outputs": [],
   "source": [
    "score_decrease = [0]\n",
    "for i in np.arange(1, len(scores)):\n",
    "    decrease = abs(scores[i] - scores[(i-1)])\n",
    "    score_decrease.append(decrease)"
   ]
  },
  {
   "cell_type": "code",
   "execution_count": 106,
   "metadata": {},
   "outputs": [
    {
     "data": {
      "image/png": "[encoded data removed]",
      "text/plain": [
       "<matplotlib.figure.Figure at 0x7fa65a7e7860>"
      ]
     },
     "metadata": {
      "needs_background": "light"
     },
     "output_type": "display_data"
    }
   ],
   "source": [
    "# To aid in identifying the elbow, we'll plot the decrease in scores across cluster sizes\n",
    "plt.figure(figsize=(8,6))\n",
    "plt.plot(np.arange(2, len(score_decrease)+1), score_decrease[1:20])\n",
    "plt.xticks(np.arange(2, len(score_decrease)+1))\n",
    "plt.yticks(np.arange(500000,7000000,500000))\n",
    "plt.xlabel('Cluster K')\n",
    "plt.ylabel('Decrease in Score')\n",
    "plt.title('Decrease in Score from K-1 to K clusters')\n",
    "plt.grid()"
   ]
  },
  {
   "cell_type": "code",
   "execution_count": 121,
   "metadata": {},
   "outputs": [],
   "source": [
    "# Re-fit the k-means model with the selected number of clusters and obtain\n",
    "# cluster predictions for the general population demographics data.\n",
    "# from the Scree Plot above it looks like the elbow at clusters of size 7 is a reasonable choice of clusters\n",
    "# Alternatively 11, 14 or 17 clusters also seems reasonable (local maxima)\n",
    "kmeans = KMeans(n_clusters=7, random_state=0)\n",
    "model_7 = kmeans.fit(azdias_pca)\n",
    "azdias_preds = model_7.predict(azdias_pca)"
   ]
  },
  {
   "cell_type": "markdown",
   "metadata": {},
   "source": [
    "### Discussion 3.1: Apply Clustering to General Population\n",
    "\n",
    "(Double-click this cell and replace this text with your own text, reporting your findings and decisions regarding clustering. Into how many clusters have you decided to segment the population?)"
   ]
  },
  {
   "cell_type": "markdown",
   "metadata": {},
   "source": [
    "### Step 3.2: Apply All Steps to the Customer Data\n",
    "\n",
    "Now that you have clusters and cluster centers for the general population, it's time to see how the customer data maps on to those clusters. Take care to not confuse this for re-fitting all of the models to the customer data. Instead, you're going to use the fits from the general population to clean, transform, and cluster the customer data. In the last step of the project, you will interpret how the general population fits apply to the customer data.\n",
    "\n",
    "- Don't forget when loading in the customers data, that it is semicolon (`;`) delimited.\n",
    "- Apply the same feature wrangling, selection, and engineering steps to the customer demographics using the `clean_data()` function you created earlier. (You can assume that the customer demographics data has similar meaning behind missing data patterns as the general demographics data.)\n",
    "- Use the sklearn objects from the general demographics data, and apply their transformations to the customers data. That is, you should not be using a `.fit()` or `.fit_transform()` method to re-fit the old objects, nor should you be creating new sklearn objects! Carry the data through the feature scaling, PCA, and clustering steps, obtaining cluster assignments for all of the data in the customer demographics data."
   ]
  },
  {
   "cell_type": "code",
   "execution_count": 122,
   "metadata": {},
   "outputs": [],
   "source": [
    "# Load in the customer demographics data.\n",
    "customers = pd.read_csv('Udacity_CUSTOMERS_Subset.csv', sep=';')"
   ]
  },
  {
   "cell_type": "code",
   "execution_count": 123,
   "metadata": {},
   "outputs": [],
   "source": [
    "# Apply preprocessing, feature transformation, and clustering from the general\n",
    "# demographics onto the customer data, obtaining cluster predictions for the\n",
    "# customer demographics data.\n",
    "\n",
    "# preprocessing of data\n",
    "cust_clean = clean_data(customers)\n",
    "\n",
    "# Imputing missing values\n",
    "# Use existing imputer (so as not to exaggerate skews in the data)\n",
    "cust_impute = pd.DataFrame(imp.transform(cust_clean))\n",
    "cust_impute.columns = cust_clean.columns\n",
    "\n",
    "# Scaling\n",
    "# Use existing scaler to transform\n",
    "cust_scaled = pd.DataFrame(scaler.transform(cust_impute))\n",
    "cust_scaled.columns = cust_impute.columns\n",
    "\n",
    "# feature transformation using existing pca decomposition\n",
    "cust_pca = pca_32.transform(cust_scaled)\n"
   ]
  },
  {
   "cell_type": "code",
   "execution_count": 124,
   "metadata": {},
   "outputs": [],
   "source": [
    "# clustering prediction using existing fitted model for hyperparameter of 12 clusters\n",
    "cust_preds = model_7.predict(cust_pca)"
   ]
  },
  {
   "cell_type": "markdown",
   "metadata": {},
   "source": [
    "### Step 3.3: Compare Customer Data to Demographics Data\n",
    "\n",
    "At this point, you have clustered data based on demographics of the general population of Germany, and seen how the customer data for a mail-order sales company maps onto those demographic clusters. In this final substep, you will compare the two cluster distributions to see where the strongest customer base for the company is.\n",
    "\n",
    "Consider the proportion of persons in each cluster for the general population, and the proportions for the customers. If we think the company's customer base to be universal, then the cluster assignment proportions should be fairly similar between the two. If there are only particular segments of the population that are interested in the company's products, then we should see a mismatch from one to the other. If there is a higher proportion of persons in a cluster for the customer data compared to the general population (e.g. 5% of persons are assigned to a cluster for the general population, but 15% of the customer data is closest to that cluster's centroid) then that suggests the people in that cluster to be a target audience for the company. On the other hand, the proportion of the data in a cluster being larger in the general population than the customer data (e.g. only 2% of customers closest to a population centroid that captures 6% of the data) suggests that group of persons to be outside of the target demographics.\n",
    "\n",
    "Take a look at the following points in this step:\n",
    "\n",
    "- Compute the proportion of data points in each cluster for the general population and the customer data. Visualizations will be useful here: both for the individual dataset proportions, but also to visualize the ratios in cluster representation between groups. Seaborn's [`countplot()`](https://seaborn.pydata.org/generated/seaborn.countplot.html) or [`barplot()`](https://seaborn.pydata.org/generated/seaborn.barplot.html) function could be handy.\n",
    "  - Recall the analysis you performed in step 1.1.3 of the project, where you separated out certain data points from the dataset if they had more than a specified threshold of missing values. If you found that this group was qualitatively different from the main bulk of the data, you should treat this as an additional data cluster in this analysis. Make sure that you account for the number of data points in this subset, for both the general population and customer datasets, when making your computations!\n",
    "- Which cluster or clusters are overrepresented in the customer dataset compared to the general population? Select at least one such cluster and infer what kind of people might be represented by that cluster. Use the principal component interpretations from step 2.3 or look at additional components to help you make this inference. Alternatively, you can use the `.inverse_transform()` method of the PCA and StandardScaler objects to transform centroids back to the original data space and interpret the retrieved values directly.\n",
    "- Perform a similar investigation for the underrepresented clusters. Which cluster or clusters are underrepresented in the customer dataset compared to the general population, and what kinds of people are typified by these clusters?"
   ]
  },
  {
   "cell_type": "code",
   "execution_count": 128,
   "metadata": {},
   "outputs": [
    {
     "data": {
      "image/png": "[encoded data removed]",
      "text/plain": [
       "<matplotlib.figure.Figure at 0x7fa638768be0>"
      ]
     },
     "metadata": {
      "needs_background": "light"
     },
     "output_type": "display_data"
    }
   ],
   "source": [
    "# To understand the cluster distributions, \n",
    "# we'll compare the proportion of data in each cluster for the customer data to the\n",
    "# proportion of data in each cluster for the general population.\n",
    "figure, axs = plt.subplots(nrows=1, ncols=2, figsize = (12,6))\n",
    "figure.subplots_adjust(hspace = 1, wspace=.3)\n",
    "\n",
    "sns.countplot(cust_preds, ax=axs[0])\n",
    "axs[0].set_title('Customer Clusters')\n",
    "sns.countplot(azdias_preds, ax=axs[1])\n",
    "axs[1].set_title('General Clusters');"
   ]
  },
  {
   "cell_type": "code",
   "execution_count": 125,
   "metadata": {},
   "outputs": [
    {
     "data": {
      "text/html": [
       "<div>\n",
       "<style scoped>\n",
       "    .dataframe tbody tr th:only-of-type {\n",
       "        vertical-align: middle;\n",
       "    }\n",
       "\n",
       "    .dataframe tbody tr th {\n",
       "        vertical-align: top;\n",
       "    }\n",
       "\n",
       "    .dataframe thead th {\n",
       "        text-align: right;\n",
       "    }\n",
       "</style>\n",
       "<table border=\"1\" class=\"dataframe\">\n",
       "  <thead>\n",
       "    <tr style=\"text-align: right;\">\n",
       "      <th></th>\n",
       "      <th>CLUSTER</th>\n",
       "      <th>PERCENT</th>\n",
       "    </tr>\n",
       "  </thead>\n",
       "  <tbody>\n",
       "    <tr>\n",
       "      <th>0</th>\n",
       "      <td>3</td>\n",
       "      <td>52.034724</td>\n",
       "    </tr>\n",
       "    <tr>\n",
       "      <th>1</th>\n",
       "      <td>5</td>\n",
       "      <td>19.509493</td>\n",
       "    </tr>\n",
       "    <tr>\n",
       "      <th>2</th>\n",
       "      <td>0</td>\n",
       "      <td>12.940927</td>\n",
       "    </tr>\n",
       "    <tr>\n",
       "      <th>3</th>\n",
       "      <td>6</td>\n",
       "      <td>10.588609</td>\n",
       "    </tr>\n",
       "    <tr>\n",
       "      <th>4</th>\n",
       "      <td>1</td>\n",
       "      <td>1.978262</td>\n",
       "    </tr>\n",
       "  </tbody>\n",
       "</table>\n",
       "</div>"
      ],
      "text/plain": [
       "   CLUSTER    PERCENT\n",
       "0        3  52.034724\n",
       "1        5  19.509493\n",
       "2        0  12.940927\n",
       "3        6  10.588609\n",
       "4        1   1.978262"
      ]
     },
     "execution_count": 125,
     "metadata": {},
     "output_type": "execute_result"
    }
   ],
   "source": [
    "# let's analyze using percents instead\n",
    "cust_df = pd.DataFrame(cust_preds)\n",
    "cust_df.columns = ['CLUSTER_COUNTS']\n",
    "cust_pct = pd.DataFrame(cust_df.CLUSTER_COUNTS.value_counts())/cust_df.shape[0]*100\n",
    "cust_pct.reset_index(inplace=True)\n",
    "cust_pct.columns = ['CLUSTER', 'PERCENT']\n",
    "cust_pct.head()"
   ]
  },
  {
   "cell_type": "code",
   "execution_count": 127,
   "metadata": {},
   "outputs": [
    {
     "data": {
      "text/html": [
       "<div>\n",
       "<style scoped>\n",
       "    .dataframe tbody tr th:only-of-type {\n",
       "        vertical-align: middle;\n",
       "    }\n",
       "\n",
       "    .dataframe tbody tr th {\n",
       "        vertical-align: top;\n",
       "    }\n",
       "\n",
       "    .dataframe thead th {\n",
       "        text-align: right;\n",
       "    }\n",
       "</style>\n",
       "<table border=\"1\" class=\"dataframe\">\n",
       "  <thead>\n",
       "    <tr style=\"text-align: right;\">\n",
       "      <th></th>\n",
       "      <th>CLUSTER</th>\n",
       "      <th>PERCENT</th>\n",
       "    </tr>\n",
       "  </thead>\n",
       "  <tbody>\n",
       "    <tr>\n",
       "      <th>0</th>\n",
       "      <td>3</td>\n",
       "      <td>19.039424</td>\n",
       "    </tr>\n",
       "    <tr>\n",
       "      <th>1</th>\n",
       "      <td>5</td>\n",
       "      <td>16.307634</td>\n",
       "    </tr>\n",
       "    <tr>\n",
       "      <th>2</th>\n",
       "      <td>0</td>\n",
       "      <td>14.346973</td>\n",
       "    </tr>\n",
       "    <tr>\n",
       "      <th>3</th>\n",
       "      <td>6</td>\n",
       "      <td>13.509160</td>\n",
       "    </tr>\n",
       "    <tr>\n",
       "      <th>4</th>\n",
       "      <td>2</td>\n",
       "      <td>13.367269</td>\n",
       "    </tr>\n",
       "  </tbody>\n",
       "</table>\n",
       "</div>"
      ],
      "text/plain": [
       "   CLUSTER    PERCENT\n",
       "0        3  19.039424\n",
       "1        5  16.307634\n",
       "2        0  14.346973\n",
       "3        6  13.509160\n",
       "4        2  13.367269"
      ]
     },
     "execution_count": 127,
     "metadata": {},
     "output_type": "execute_result"
    }
   ],
   "source": [
    "# let's analyze using percents instead\n",
    "azdias_df = pd.DataFrame(azdias_preds)\n",
    "azdias_df.columns = ['CLUSTER_COUNTS']\n",
    "azdias_pct = pd.DataFrame(azdias_df.CLUSTER_COUNTS.value_counts())/azdias_df.shape[0]*100\n",
    "azdias_pct.reset_index(inplace=True)\n",
    "azdias_pct.columns = ['CLUSTER', 'PERCENT']\n",
    "azdias_pct.head()"
   ]
  },
  {
   "cell_type": "code",
   "execution_count": 173,
   "metadata": {},
   "outputs": [
    {
     "data": {
      "image/png": "[encoded data removed]",
      "text/plain": [
       "<matplotlib.figure.Figure at 0x7fa6396bd470>"
      ]
     },
     "metadata": {
      "needs_background": "light"
     },
     "output_type": "display_data"
    }
   ],
   "source": [
    "# we can recreate something similar to the earlier countplot distribution but instead \n",
    "# we'll plot the percentage shares via a bar chart\n",
    "fig = plt.figure(figsize=(12,9))\n",
    "\n",
    "pc_ct = len(cust_pct)\n",
    "x_ticks = np.arange(0, pc_ct).astype('int')\n",
    "ax1 = plt.subplot(1,2,1)\n",
    "plt.bar(cust_pct['CLUSTER'], cust_pct['PERCENT'])\n",
    "ax1.title.set_text(\"% Share Customer Data by Cluster\")\n",
    "plt.xlabel(\"Cluster\")\n",
    "plt.ylabel(\"% Share Customer Data\")\n",
    "plt.xticks(x_ticks)\n",
    "plt.yticks(np.arange(0, 54, 2))\n",
    "plt.grid()\n",
    "\n",
    "pc_ct = len(azdias_pct)\n",
    "x_ticks = np.arange(0, pc_ct).astype('int')\n",
    "ax2 = plt.subplot(1,2,2)\n",
    "plt.bar(azdias_pct['CLUSTER'], azdias_pct['PERCENT'])\n",
    "ax2.title.set_text(\"% Share General Population Data by Cluster\")\n",
    "plt.xlabel(\"Cluster\")\n",
    "plt.ylabel(\"% Share Population Data\")\n",
    "plt.xticks(x_ticks)\n",
    "plt.yticks(np.arange(0, 54, 2))\n",
    "plt.grid()\n",
    "plt.show();"
   ]
  },
  {
   "cell_type": "code",
   "execution_count": 149,
   "metadata": {},
   "outputs": [
    {
     "data": {
      "text/plain": [
       "ALTERSKATEGORIE_GROB    1.753628\n",
       "ANREDE_KZ               1.070544\n",
       "FINANZ_MINIMALIST       4.611965\n",
       "FINANZ_SPARER           1.778603\n",
       "FINANZ_VORSORGER        4.099756\n",
       "dtype: float64"
      ]
     },
     "execution_count": 149,
     "metadata": {},
     "output_type": "execute_result"
    }
   ],
   "source": [
    "# We'll use inverse_transformation to better understand the overrepresented and under-represented clusters\n",
    "centroid_over = scaler.inverse_transform(pca_32.inverse_transform(model_7.cluster_centers_[3]))\n",
    "overrep_c = pd.Series(data = centroid_over, index = cust_clean.columns)\n",
    "overrep_c.head()"
   ]
  },
  {
   "cell_type": "code",
   "execution_count": 152,
   "metadata": {},
   "outputs": [
    {
     "data": {
      "text/plain": [
       "2.3162928165032897"
      ]
     },
     "execution_count": 152,
     "metadata": {},
     "output_type": "execute_result"
    }
   ],
   "source": [
    "overrep_c['WEALTH']"
   ]
  },
  {
   "cell_type": "code",
   "execution_count": 182,
   "metadata": {},
   "outputs": [
    {
     "data": {
      "text/plain": [
       "ALTERSKATEGORIE_GROB    3.264188\n",
       "ANREDE_KZ               1.966532\n",
       "FINANZ_MINIMALIST       1.195167\n",
       "FINANZ_SPARER           4.284564\n",
       "FINANZ_VORSORGER        2.221598\n",
       "dtype: float64"
      ]
     },
     "execution_count": 182,
     "metadata": {},
     "output_type": "execute_result"
    }
   ],
   "source": [
    "centroid_under = scaler.inverse_transform(pca_32.inverse_transform(model_7.cluster_centers_[4]))\n",
    "underrep_c = pd.Series(data = centroid_under, index = cust_clean.columns)\n",
    "underrep_c.head()"
   ]
  },
  {
   "cell_type": "code",
   "execution_count": 183,
   "metadata": {},
   "outputs": [
    {
     "data": {
      "text/plain": [
       "4.3672879069745001"
      ]
     },
     "execution_count": 183,
     "metadata": {},
     "output_type": "execute_result"
    }
   ],
   "source": [
    "underrep_c['WEALTH']\n",
    "# It appears overrepresented populations tend to be less wealthy"
   ]
  },
  {
   "cell_type": "code",
   "execution_count": 184,
   "metadata": {},
   "outputs": [],
   "source": [
    "# Given the large number of features, we'll compare ratios compared to the population and of each dataset\n",
    "cust_compare = pd.DataFrame(overrep_c, columns=['overrep'])\n",
    "cust_compare['underrep']= underrep_c"
   ]
  },
  {
   "cell_type": "code",
   "execution_count": 185,
   "metadata": {},
   "outputs": [],
   "source": [
    "cust_compare['over_under_ratio'] = cust_compare['overrep']/cust_compare['underrep']"
   ]
  },
  {
   "cell_type": "code",
   "execution_count": 187,
   "metadata": {},
   "outputs": [],
   "source": [
    "cust_compare['pop_mean'] = azdias_impute.mean()"
   ]
  },
  {
   "cell_type": "code",
   "execution_count": 188,
   "metadata": {},
   "outputs": [],
   "source": [
    "cust_compare['overrep_pop_mean_ratio']=cust_compare['overrep']/cust_compare['pop_mean']"
   ]
  },
  {
   "cell_type": "code",
   "execution_count": 189,
   "metadata": {},
   "outputs": [],
   "source": [
    "cust_compare['underrep_pop_mean_ratio']=cust_compare['underrep']/cust_compare['pop_mean']"
   ]
  },
  {
   "cell_type": "code",
   "execution_count": 190,
   "metadata": {},
   "outputs": [],
   "source": [
    "top_over_under_ratio = cust_compare.sort_values(by=['over_under_ratio', 'overrep'], ascending=False).head(15).index.tolist()\n",
    "top_over_pop_ratio = cust_compare.sort_values(by=['overrep_pop_mean_ratio', 'overrep'], ascending=False).head(15).index.tolist()"
   ]
  },
  {
   "cell_type": "code",
   "execution_count": 191,
   "metadata": {},
   "outputs": [
    {
     "data": {
      "text/plain": [
       "['GREEN_AVANTGARDE',\n",
       " 'KBA05_ANTG1',\n",
       " 'FINANZ_MINIMALIST',\n",
       " 'SEMIO_VERT',\n",
       " 'MOBI_REGIO',\n",
       " 'PLZ8_ANTG1',\n",
       " 'KBA05_GBZ',\n",
       " 'FINANZ_VORSORGER',\n",
       " 'KONSUMNAEHE',\n",
       " 'INNENSTADT',\n",
       " 'BALLRAUM',\n",
       " 'SEMIO_LUST',\n",
       " 'SEMIO_SOZ',\n",
       " 'PLZ8_GBZ',\n",
       " 'RETOURTYP_BK_S']"
      ]
     },
     "execution_count": 191,
     "metadata": {},
     "output_type": "execute_result"
    }
   ],
   "source": [
    "top_over_under_ratio"
   ]
  },
  {
   "cell_type": "code",
   "execution_count": 192,
   "metadata": {},
   "outputs": [
    {
     "data": {
      "text/plain": [
       "['GREEN_AVANTGARDE',\n",
       " 'KBA05_ANTG1',\n",
       " 'FINANZ_MINIMALIST',\n",
       " 'SEMIO_VERT',\n",
       " 'MOBI_REGIO',\n",
       " 'PLZ8_ANTG1',\n",
       " 'KBA05_GBZ',\n",
       " 'KONSUMNAEHE',\n",
       " 'FINANZ_VORSORGER',\n",
       " 'INNENSTADT',\n",
       " 'SEMIO_KULT',\n",
       " 'BALLRAUM',\n",
       " 'SEMIO_FAM',\n",
       " 'ANZ_PERSONEN',\n",
       " 'SEMIO_SOZ']"
      ]
     },
     "execution_count": 192,
     "metadata": {},
     "output_type": "execute_result"
    }
   ],
   "source": [
    "top_over_pop_ratio"
   ]
  },
  {
   "cell_type": "code",
   "execution_count": 227,
   "metadata": {},
   "outputs": [
    {
     "data": {
      "text/plain": [
       "['GREEN_AVANTGARDE',\n",
       " 'KBA05_ANTG1',\n",
       " 'FINANZ_MINIMALIST',\n",
       " 'SEMIO_VERT',\n",
       " 'MOBI_REGIO',\n",
       " 'PLZ8_ANTG1',\n",
       " 'KBA05_GBZ',\n",
       " 'FINANZ_VORSORGER',\n",
       " 'KONSUMNAEHE',\n",
       " 'INNENSTADT',\n",
       " 'BALLRAUM',\n",
       " 'SEMIO_SOZ']"
      ]
     },
     "execution_count": 227,
     "metadata": {},
     "output_type": "execute_result"
    }
   ],
   "source": [
    "# We'll align and cross-reference the two top lists for overrepresented customer populations \n",
    "# this will allow for a better picture of the overrepresented population as found in cluster 3\n",
    "both_over = []\n",
    "for item in top_over_under_ratio:\n",
    "    if item in top_over_pop_ratio:\n",
    "        both_over.append(item)\n",
    "both_over        "
   ]
  },
  {
   "cell_type": "code",
   "execution_count": 201,
   "metadata": {},
   "outputs": [
    {
     "data": {
      "text/html": [
       "<div>\n",
       "<style scoped>\n",
       "    .dataframe tbody tr th:only-of-type {\n",
       "        vertical-align: middle;\n",
       "    }\n",
       "\n",
       "    .dataframe tbody tr th {\n",
       "        vertical-align: top;\n",
       "    }\n",
       "\n",
       "    .dataframe thead th {\n",
       "        text-align: right;\n",
       "    }\n",
       "</style>\n",
       "<table border=\"1\" class=\"dataframe\">\n",
       "  <thead>\n",
       "    <tr style=\"text-align: right;\">\n",
       "      <th></th>\n",
       "      <th>overrep</th>\n",
       "      <th>underrep</th>\n",
       "      <th>over_under_ratio</th>\n",
       "      <th>pop_mean</th>\n",
       "      <th>overrep_pop_mean_ratio</th>\n",
       "      <th>underrep_pop_mean_ratio</th>\n",
       "    </tr>\n",
       "  </thead>\n",
       "  <tbody>\n",
       "    <tr>\n",
       "      <th>GREEN_AVANTGARDE</th>\n",
       "      <td>0.386025</td>\n",
       "      <td>0.039415</td>\n",
       "      <td>9.793884</td>\n",
       "      <td>0.219595</td>\n",
       "      <td>1.757896</td>\n",
       "      <td>0.179489</td>\n",
       "    </tr>\n",
       "    <tr>\n",
       "      <th>KBA05_ANTG1</th>\n",
       "      <td>2.415786</td>\n",
       "      <td>0.379305</td>\n",
       "      <td>6.368987</td>\n",
       "      <td>1.419553</td>\n",
       "      <td>1.701794</td>\n",
       "      <td>0.267200</td>\n",
       "    </tr>\n",
       "    <tr>\n",
       "      <th>FINANZ_MINIMALIST</th>\n",
       "      <td>4.611965</td>\n",
       "      <td>1.195167</td>\n",
       "      <td>3.858847</td>\n",
       "      <td>3.058878</td>\n",
       "      <td>1.507731</td>\n",
       "      <td>0.390721</td>\n",
       "    </tr>\n",
       "    <tr>\n",
       "      <th>SEMIO_VERT</th>\n",
       "      <td>6.009012</td>\n",
       "      <td>2.312949</td>\n",
       "      <td>2.597987</td>\n",
       "      <td>4.277417</td>\n",
       "      <td>1.404823</td>\n",
       "      <td>0.540735</td>\n",
       "    </tr>\n",
       "    <tr>\n",
       "      <th>MOBI_REGIO</th>\n",
       "      <td>3.922493</td>\n",
       "      <td>1.725720</td>\n",
       "      <td>2.272960</td>\n",
       "      <td>2.865350</td>\n",
       "      <td>1.368940</td>\n",
       "      <td>0.602272</td>\n",
       "    </tr>\n",
       "    <tr>\n",
       "      <th>PLZ8_ANTG1</th>\n",
       "      <td>2.882930</td>\n",
       "      <td>1.459660</td>\n",
       "      <td>1.975070</td>\n",
       "      <td>2.245998</td>\n",
       "      <td>1.283586</td>\n",
       "      <td>0.649894</td>\n",
       "    </tr>\n",
       "    <tr>\n",
       "      <th>KBA05_GBZ</th>\n",
       "      <td>4.037008</td>\n",
       "      <td>2.138498</td>\n",
       "      <td>1.887778</td>\n",
       "      <td>3.150650</td>\n",
       "      <td>1.281326</td>\n",
       "      <td>0.678748</td>\n",
       "    </tr>\n",
       "    <tr>\n",
       "      <th>FINANZ_VORSORGER</th>\n",
       "      <td>4.099756</td>\n",
       "      <td>2.221598</td>\n",
       "      <td>1.845408</td>\n",
       "      <td>3.432949</td>\n",
       "      <td>1.194237</td>\n",
       "      <td>0.647140</td>\n",
       "    </tr>\n",
       "    <tr>\n",
       "      <th>KONSUMNAEHE</th>\n",
       "      <td>3.793472</td>\n",
       "      <td>2.075049</td>\n",
       "      <td>1.828136</td>\n",
       "      <td>3.022872</td>\n",
       "      <td>1.254923</td>\n",
       "      <td>0.686450</td>\n",
       "    </tr>\n",
       "    <tr>\n",
       "      <th>INNENSTADT</th>\n",
       "      <td>5.433404</td>\n",
       "      <td>3.282862</td>\n",
       "      <td>1.655082</td>\n",
       "      <td>4.549698</td>\n",
       "      <td>1.194234</td>\n",
       "      <td>0.721556</td>\n",
       "    </tr>\n",
       "    <tr>\n",
       "      <th>BALLRAUM</th>\n",
       "      <td>4.891652</td>\n",
       "      <td>3.090784</td>\n",
       "      <td>1.582657</td>\n",
       "      <td>4.154340</td>\n",
       "      <td>1.177480</td>\n",
       "      <td>0.743989</td>\n",
       "    </tr>\n",
       "    <tr>\n",
       "      <th>SEMIO_SOZ</th>\n",
       "      <td>4.771339</td>\n",
       "      <td>3.283537</td>\n",
       "      <td>1.453110</td>\n",
       "      <td>4.140162</td>\n",
       "      <td>1.152452</td>\n",
       "      <td>0.793094</td>\n",
       "    </tr>\n",
       "  </tbody>\n",
       "</table>\n",
       "</div>"
      ],
      "text/plain": [
       "                    overrep  underrep  over_under_ratio  pop_mean  \\\n",
       "GREEN_AVANTGARDE   0.386025  0.039415          9.793884  0.219595   \n",
       "KBA05_ANTG1        2.415786  0.379305          6.368987  1.419553   \n",
       "FINANZ_MINIMALIST  4.611965  1.195167          3.858847  3.058878   \n",
       "SEMIO_VERT         6.009012  2.312949          2.597987  4.277417   \n",
       "MOBI_REGIO         3.922493  1.725720          2.272960  2.865350   \n",
       "PLZ8_ANTG1         2.882930  1.459660          1.975070  2.245998   \n",
       "KBA05_GBZ          4.037008  2.138498          1.887778  3.150650   \n",
       "FINANZ_VORSORGER   4.099756  2.221598          1.845408  3.432949   \n",
       "KONSUMNAEHE        3.793472  2.075049          1.828136  3.022872   \n",
       "INNENSTADT         5.433404  3.282862          1.655082  4.549698   \n",
       "BALLRAUM           4.891652  3.090784          1.582657  4.154340   \n",
       "SEMIO_SOZ          4.771339  3.283537          1.453110  4.140162   \n",
       "\n",
       "                   overrep_pop_mean_ratio  underrep_pop_mean_ratio  \n",
       "GREEN_AVANTGARDE                 1.757896                 0.179489  \n",
       "KBA05_ANTG1                      1.701794                 0.267200  \n",
       "FINANZ_MINIMALIST                1.507731                 0.390721  \n",
       "SEMIO_VERT                       1.404823                 0.540735  \n",
       "MOBI_REGIO                       1.368940                 0.602272  \n",
       "PLZ8_ANTG1                       1.283586                 0.649894  \n",
       "KBA05_GBZ                        1.281326                 0.678748  \n",
       "FINANZ_VORSORGER                 1.194237                 0.647140  \n",
       "KONSUMNAEHE                      1.254923                 0.686450  \n",
       "INNENSTADT                       1.194234                 0.721556  \n",
       "BALLRAUM                         1.177480                 0.743989  \n",
       "SEMIO_SOZ                        1.152452                 0.793094  "
      ]
     },
     "execution_count": 201,
     "metadata": {},
     "output_type": "execute_result"
    }
   ],
   "source": [
    "cust_compare.loc[['GREEN_AVANTGARDE',\n",
    " 'KBA05_ANTG1',\n",
    " 'FINANZ_MINIMALIST',\n",
    " 'SEMIO_VERT',\n",
    " 'MOBI_REGIO',\n",
    " 'PLZ8_ANTG1',\n",
    " 'KBA05_GBZ',\n",
    " 'FINANZ_VORSORGER',\n",
    " 'KONSUMNAEHE',\n",
    " 'INNENSTADT',\n",
    " 'BALLRAUM',\n",
    " 'SEMIO_SOZ']]"
   ]
  },
  {
   "cell_type": "code",
   "execution_count": 196,
   "metadata": {},
   "outputs": [
    {
     "data": {
      "text/html": [
       "<div>\n",
       "<style scoped>\n",
       "    .dataframe tbody tr th:only-of-type {\n",
       "        vertical-align: middle;\n",
       "    }\n",
       "\n",
       "    .dataframe tbody tr th {\n",
       "        vertical-align: top;\n",
       "    }\n",
       "\n",
       "    .dataframe thead th {\n",
       "        text-align: right;\n",
       "    }\n",
       "</style>\n",
       "<table border=\"1\" class=\"dataframe\">\n",
       "  <thead>\n",
       "    <tr style=\"text-align: right;\">\n",
       "      <th></th>\n",
       "      <th>overrep</th>\n",
       "      <th>underrep</th>\n",
       "      <th>over_under_ratio</th>\n",
       "      <th>pop_mean</th>\n",
       "      <th>overrep_pop_mean_ratio</th>\n",
       "      <th>underrep_pop_mean_ratio</th>\n",
       "    </tr>\n",
       "  </thead>\n",
       "  <tbody>\n",
       "    <tr>\n",
       "      <th>GREEN_AVANTGARDE</th>\n",
       "      <td>0.386025</td>\n",
       "      <td>0.039415</td>\n",
       "      <td>9.793884</td>\n",
       "      <td>0.219595</td>\n",
       "      <td>1.757896</td>\n",
       "      <td>0.179489</td>\n",
       "    </tr>\n",
       "    <tr>\n",
       "      <th>KBA05_ANTG1</th>\n",
       "      <td>2.415786</td>\n",
       "      <td>0.379305</td>\n",
       "      <td>6.368987</td>\n",
       "      <td>1.419553</td>\n",
       "      <td>1.701794</td>\n",
       "      <td>0.267200</td>\n",
       "    </tr>\n",
       "    <tr>\n",
       "      <th>FINANZ_MINIMALIST</th>\n",
       "      <td>4.611965</td>\n",
       "      <td>1.195167</td>\n",
       "      <td>3.858847</td>\n",
       "      <td>3.058878</td>\n",
       "      <td>1.507731</td>\n",
       "      <td>0.390721</td>\n",
       "    </tr>\n",
       "    <tr>\n",
       "      <th>SEMIO_VERT</th>\n",
       "      <td>6.009012</td>\n",
       "      <td>2.312949</td>\n",
       "      <td>2.597987</td>\n",
       "      <td>4.277417</td>\n",
       "      <td>1.404823</td>\n",
       "      <td>0.540735</td>\n",
       "    </tr>\n",
       "    <tr>\n",
       "      <th>MOBI_REGIO</th>\n",
       "      <td>3.922493</td>\n",
       "      <td>1.725720</td>\n",
       "      <td>2.272960</td>\n",
       "      <td>2.865350</td>\n",
       "      <td>1.368940</td>\n",
       "      <td>0.602272</td>\n",
       "    </tr>\n",
       "    <tr>\n",
       "      <th>PLZ8_ANTG1</th>\n",
       "      <td>2.882930</td>\n",
       "      <td>1.459660</td>\n",
       "      <td>1.975070</td>\n",
       "      <td>2.245998</td>\n",
       "      <td>1.283586</td>\n",
       "      <td>0.649894</td>\n",
       "    </tr>\n",
       "    <tr>\n",
       "      <th>KBA05_GBZ</th>\n",
       "      <td>4.037008</td>\n",
       "      <td>2.138498</td>\n",
       "      <td>1.887778</td>\n",
       "      <td>3.150650</td>\n",
       "      <td>1.281326</td>\n",
       "      <td>0.678748</td>\n",
       "    </tr>\n",
       "    <tr>\n",
       "      <th>FINANZ_VORSORGER</th>\n",
       "      <td>4.099756</td>\n",
       "      <td>2.221598</td>\n",
       "      <td>1.845408</td>\n",
       "      <td>3.432949</td>\n",
       "      <td>1.194237</td>\n",
       "      <td>0.647140</td>\n",
       "    </tr>\n",
       "    <tr>\n",
       "      <th>KONSUMNAEHE</th>\n",
       "      <td>3.793472</td>\n",
       "      <td>2.075049</td>\n",
       "      <td>1.828136</td>\n",
       "      <td>3.022872</td>\n",
       "      <td>1.254923</td>\n",
       "      <td>0.686450</td>\n",
       "    </tr>\n",
       "    <tr>\n",
       "      <th>INNENSTADT</th>\n",
       "      <td>5.433404</td>\n",
       "      <td>3.282862</td>\n",
       "      <td>1.655082</td>\n",
       "      <td>4.549698</td>\n",
       "      <td>1.194234</td>\n",
       "      <td>0.721556</td>\n",
       "    </tr>\n",
       "  </tbody>\n",
       "</table>\n",
       "</div>"
      ],
      "text/plain": [
       "                    overrep  underrep  over_under_ratio  pop_mean  \\\n",
       "GREEN_AVANTGARDE   0.386025  0.039415          9.793884  0.219595   \n",
       "KBA05_ANTG1        2.415786  0.379305          6.368987  1.419553   \n",
       "FINANZ_MINIMALIST  4.611965  1.195167          3.858847  3.058878   \n",
       "SEMIO_VERT         6.009012  2.312949          2.597987  4.277417   \n",
       "MOBI_REGIO         3.922493  1.725720          2.272960  2.865350   \n",
       "PLZ8_ANTG1         2.882930  1.459660          1.975070  2.245998   \n",
       "KBA05_GBZ          4.037008  2.138498          1.887778  3.150650   \n",
       "FINANZ_VORSORGER   4.099756  2.221598          1.845408  3.432949   \n",
       "KONSUMNAEHE        3.793472  2.075049          1.828136  3.022872   \n",
       "INNENSTADT         5.433404  3.282862          1.655082  4.549698   \n",
       "\n",
       "                   overrep_pop_mean_ratio  underrep_pop_mean_ratio  \n",
       "GREEN_AVANTGARDE                 1.757896                 0.179489  \n",
       "KBA05_ANTG1                      1.701794                 0.267200  \n",
       "FINANZ_MINIMALIST                1.507731                 0.390721  \n",
       "SEMIO_VERT                       1.404823                 0.540735  \n",
       "MOBI_REGIO                       1.368940                 0.602272  \n",
       "PLZ8_ANTG1                       1.283586                 0.649894  \n",
       "KBA05_GBZ                        1.281326                 0.678748  \n",
       "FINANZ_VORSORGER                 1.194237                 0.647140  \n",
       "KONSUMNAEHE                      1.254923                 0.686450  \n",
       "INNENSTADT                       1.194234                 0.721556  "
      ]
     },
     "execution_count": 196,
     "metadata": {},
     "output_type": "execute_result"
    }
   ],
   "source": [
    "cust_compare.sort_values(by=['over_under_ratio'], ascending=False).head(10)"
   ]
  },
  {
   "cell_type": "code",
   "execution_count": 197,
   "metadata": {},
   "outputs": [
    {
     "data": {
      "text/html": [
       "<div>\n",
       "<style scoped>\n",
       "    .dataframe tbody tr th:only-of-type {\n",
       "        vertical-align: middle;\n",
       "    }\n",
       "\n",
       "    .dataframe tbody tr th {\n",
       "        vertical-align: top;\n",
       "    }\n",
       "\n",
       "    .dataframe thead th {\n",
       "        text-align: right;\n",
       "    }\n",
       "</style>\n",
       "<table border=\"1\" class=\"dataframe\">\n",
       "  <thead>\n",
       "    <tr style=\"text-align: right;\">\n",
       "      <th></th>\n",
       "      <th>overrep</th>\n",
       "      <th>underrep</th>\n",
       "      <th>over_under_ratio</th>\n",
       "      <th>pop_mean</th>\n",
       "      <th>overrep_pop_mean_ratio</th>\n",
       "      <th>underrep_pop_mean_ratio</th>\n",
       "    </tr>\n",
       "  </thead>\n",
       "  <tbody>\n",
       "    <tr>\n",
       "      <th>GREEN_AVANTGARDE</th>\n",
       "      <td>0.386025</td>\n",
       "      <td>0.039415</td>\n",
       "      <td>9.793884</td>\n",
       "      <td>0.219595</td>\n",
       "      <td>1.757896</td>\n",
       "      <td>0.179489</td>\n",
       "    </tr>\n",
       "    <tr>\n",
       "      <th>KBA05_ANTG1</th>\n",
       "      <td>2.415786</td>\n",
       "      <td>0.379305</td>\n",
       "      <td>6.368987</td>\n",
       "      <td>1.419553</td>\n",
       "      <td>1.701794</td>\n",
       "      <td>0.267200</td>\n",
       "    </tr>\n",
       "    <tr>\n",
       "      <th>FINANZ_MINIMALIST</th>\n",
       "      <td>4.611965</td>\n",
       "      <td>1.195167</td>\n",
       "      <td>3.858847</td>\n",
       "      <td>3.058878</td>\n",
       "      <td>1.507731</td>\n",
       "      <td>0.390721</td>\n",
       "    </tr>\n",
       "    <tr>\n",
       "      <th>SEMIO_VERT</th>\n",
       "      <td>6.009012</td>\n",
       "      <td>2.312949</td>\n",
       "      <td>2.597987</td>\n",
       "      <td>4.277417</td>\n",
       "      <td>1.404823</td>\n",
       "      <td>0.540735</td>\n",
       "    </tr>\n",
       "    <tr>\n",
       "      <th>MOBI_REGIO</th>\n",
       "      <td>3.922493</td>\n",
       "      <td>1.725720</td>\n",
       "      <td>2.272960</td>\n",
       "      <td>2.865350</td>\n",
       "      <td>1.368940</td>\n",
       "      <td>0.602272</td>\n",
       "    </tr>\n",
       "    <tr>\n",
       "      <th>PLZ8_ANTG1</th>\n",
       "      <td>2.882930</td>\n",
       "      <td>1.459660</td>\n",
       "      <td>1.975070</td>\n",
       "      <td>2.245998</td>\n",
       "      <td>1.283586</td>\n",
       "      <td>0.649894</td>\n",
       "    </tr>\n",
       "    <tr>\n",
       "      <th>KBA05_GBZ</th>\n",
       "      <td>4.037008</td>\n",
       "      <td>2.138498</td>\n",
       "      <td>1.887778</td>\n",
       "      <td>3.150650</td>\n",
       "      <td>1.281326</td>\n",
       "      <td>0.678748</td>\n",
       "    </tr>\n",
       "    <tr>\n",
       "      <th>KONSUMNAEHE</th>\n",
       "      <td>3.793472</td>\n",
       "      <td>2.075049</td>\n",
       "      <td>1.828136</td>\n",
       "      <td>3.022872</td>\n",
       "      <td>1.254923</td>\n",
       "      <td>0.686450</td>\n",
       "    </tr>\n",
       "    <tr>\n",
       "      <th>FINANZ_VORSORGER</th>\n",
       "      <td>4.099756</td>\n",
       "      <td>2.221598</td>\n",
       "      <td>1.845408</td>\n",
       "      <td>3.432949</td>\n",
       "      <td>1.194237</td>\n",
       "      <td>0.647140</td>\n",
       "    </tr>\n",
       "    <tr>\n",
       "      <th>INNENSTADT</th>\n",
       "      <td>5.433404</td>\n",
       "      <td>3.282862</td>\n",
       "      <td>1.655082</td>\n",
       "      <td>4.549698</td>\n",
       "      <td>1.194234</td>\n",
       "      <td>0.721556</td>\n",
       "    </tr>\n",
       "  </tbody>\n",
       "</table>\n",
       "</div>"
      ],
      "text/plain": [
       "                    overrep  underrep  over_under_ratio  pop_mean  \\\n",
       "GREEN_AVANTGARDE   0.386025  0.039415          9.793884  0.219595   \n",
       "KBA05_ANTG1        2.415786  0.379305          6.368987  1.419553   \n",
       "FINANZ_MINIMALIST  4.611965  1.195167          3.858847  3.058878   \n",
       "SEMIO_VERT         6.009012  2.312949          2.597987  4.277417   \n",
       "MOBI_REGIO         3.922493  1.725720          2.272960  2.865350   \n",
       "PLZ8_ANTG1         2.882930  1.459660          1.975070  2.245998   \n",
       "KBA05_GBZ          4.037008  2.138498          1.887778  3.150650   \n",
       "KONSUMNAEHE        3.793472  2.075049          1.828136  3.022872   \n",
       "FINANZ_VORSORGER   4.099756  2.221598          1.845408  3.432949   \n",
       "INNENSTADT         5.433404  3.282862          1.655082  4.549698   \n",
       "\n",
       "                   overrep_pop_mean_ratio  underrep_pop_mean_ratio  \n",
       "GREEN_AVANTGARDE                 1.757896                 0.179489  \n",
       "KBA05_ANTG1                      1.701794                 0.267200  \n",
       "FINANZ_MINIMALIST                1.507731                 0.390721  \n",
       "SEMIO_VERT                       1.404823                 0.540735  \n",
       "MOBI_REGIO                       1.368940                 0.602272  \n",
       "PLZ8_ANTG1                       1.283586                 0.649894  \n",
       "KBA05_GBZ                        1.281326                 0.678748  \n",
       "KONSUMNAEHE                      1.254923                 0.686450  \n",
       "FINANZ_VORSORGER                 1.194237                 0.647140  \n",
       "INNENSTADT                       1.194234                 0.721556  "
      ]
     },
     "execution_count": 197,
     "metadata": {},
     "output_type": "execute_result"
    }
   ],
   "source": [
    "cust_compare.sort_values(by=['overrep_pop_mean_ratio'], ascending=False).head(10)"
   ]
  },
  {
   "cell_type": "code",
   "execution_count": 220,
   "metadata": {
    "scrolled": true
   },
   "outputs": [
    {
     "data": {
      "text/html": [
       "<div>\n",
       "<style scoped>\n",
       "    .dataframe tbody tr th:only-of-type {\n",
       "        vertical-align: middle;\n",
       "    }\n",
       "\n",
       "    .dataframe tbody tr th {\n",
       "        vertical-align: top;\n",
       "    }\n",
       "\n",
       "    .dataframe thead th {\n",
       "        text-align: right;\n",
       "    }\n",
       "</style>\n",
       "<table border=\"1\" class=\"dataframe\">\n",
       "  <thead>\n",
       "    <tr style=\"text-align: right;\">\n",
       "      <th></th>\n",
       "      <th>overrep</th>\n",
       "      <th>underrep</th>\n",
       "      <th>over_under_ratio</th>\n",
       "      <th>pop_mean</th>\n",
       "      <th>overrep_pop_mean_ratio</th>\n",
       "      <th>underrep_pop_mean_ratio</th>\n",
       "    </tr>\n",
       "  </thead>\n",
       "  <tbody>\n",
       "    <tr>\n",
       "      <th>KBA05_ANTG4</th>\n",
       "      <td>0.018505</td>\n",
       "      <td>0.635042</td>\n",
       "      <td>0.029139</td>\n",
       "      <td>0.290628</td>\n",
       "      <td>0.063671</td>\n",
       "      <td>2.185065</td>\n",
       "    </tr>\n",
       "    <tr>\n",
       "      <th>KBA05_ANTG3</th>\n",
       "      <td>0.110199</td>\n",
       "      <td>1.130499</td>\n",
       "      <td>0.097479</td>\n",
       "      <td>0.593295</td>\n",
       "      <td>0.185741</td>\n",
       "      <td>1.905458</td>\n",
       "    </tr>\n",
       "    <tr>\n",
       "      <th>PLZ8_ANTG4</th>\n",
       "      <td>0.234071</td>\n",
       "      <td>1.286562</td>\n",
       "      <td>0.181935</td>\n",
       "      <td>0.678934</td>\n",
       "      <td>0.344762</td>\n",
       "      <td>1.894973</td>\n",
       "    </tr>\n",
       "    <tr>\n",
       "      <th>ANZ_HAUSHALTE_AKTIV</th>\n",
       "      <td>2.012649</td>\n",
       "      <td>15.160816</td>\n",
       "      <td>0.132753</td>\n",
       "      <td>8.297020</td>\n",
       "      <td>0.242575</td>\n",
       "      <td>1.827260</td>\n",
       "    </tr>\n",
       "    <tr>\n",
       "      <th>ANZ_HH_TITEL</th>\n",
       "      <td>0.012724</td>\n",
       "      <td>0.064810</td>\n",
       "      <td>0.196321</td>\n",
       "      <td>0.040455</td>\n",
       "      <td>0.314507</td>\n",
       "      <td>1.602007</td>\n",
       "    </tr>\n",
       "    <tr>\n",
       "      <th>FINANZ_SPARER</th>\n",
       "      <td>1.778603</td>\n",
       "      <td>4.284564</td>\n",
       "      <td>0.415119</td>\n",
       "      <td>2.715918</td>\n",
       "      <td>0.654881</td>\n",
       "      <td>1.577575</td>\n",
       "    </tr>\n",
       "    <tr>\n",
       "      <th>SEMIO_RAT</th>\n",
       "      <td>2.744189</td>\n",
       "      <td>5.999125</td>\n",
       "      <td>0.457432</td>\n",
       "      <td>3.893733</td>\n",
       "      <td>0.704771</td>\n",
       "      <td>1.540713</td>\n",
       "    </tr>\n",
       "    <tr>\n",
       "      <th>PLZ8_ANTG3</th>\n",
       "      <td>0.949236</td>\n",
       "      <td>2.421847</td>\n",
       "      <td>0.391947</td>\n",
       "      <td>1.607136</td>\n",
       "      <td>0.590638</td>\n",
       "      <td>1.506934</td>\n",
       "    </tr>\n",
       "    <tr>\n",
       "      <th>ALTERSKATEGORIE_GROB</th>\n",
       "      <td>1.753628</td>\n",
       "      <td>3.264188</td>\n",
       "      <td>0.537233</td>\n",
       "      <td>2.203880</td>\n",
       "      <td>0.795700</td>\n",
       "      <td>1.481109</td>\n",
       "    </tr>\n",
       "    <tr>\n",
       "      <th>SEMIO_PFLICHT</th>\n",
       "      <td>3.338491</td>\n",
       "      <td>6.179997</td>\n",
       "      <td>0.540209</td>\n",
       "      <td>4.184413</td>\n",
       "      <td>0.797840</td>\n",
       "      <td>1.476909</td>\n",
       "    </tr>\n",
       "  </tbody>\n",
       "</table>\n",
       "</div>"
      ],
      "text/plain": [
       "                       overrep   underrep  over_under_ratio  pop_mean  \\\n",
       "KBA05_ANTG4           0.018505   0.635042          0.029139  0.290628   \n",
       "KBA05_ANTG3           0.110199   1.130499          0.097479  0.593295   \n",
       "PLZ8_ANTG4            0.234071   1.286562          0.181935  0.678934   \n",
       "ANZ_HAUSHALTE_AKTIV   2.012649  15.160816          0.132753  8.297020   \n",
       "ANZ_HH_TITEL          0.012724   0.064810          0.196321  0.040455   \n",
       "FINANZ_SPARER         1.778603   4.284564          0.415119  2.715918   \n",
       "SEMIO_RAT             2.744189   5.999125          0.457432  3.893733   \n",
       "PLZ8_ANTG3            0.949236   2.421847          0.391947  1.607136   \n",
       "ALTERSKATEGORIE_GROB  1.753628   3.264188          0.537233  2.203880   \n",
       "SEMIO_PFLICHT         3.338491   6.179997          0.540209  4.184413   \n",
       "\n",
       "                      overrep_pop_mean_ratio  underrep_pop_mean_ratio  \n",
       "KBA05_ANTG4                         0.063671                 2.185065  \n",
       "KBA05_ANTG3                         0.185741                 1.905458  \n",
       "PLZ8_ANTG4                          0.344762                 1.894973  \n",
       "ANZ_HAUSHALTE_AKTIV                 0.242575                 1.827260  \n",
       "ANZ_HH_TITEL                        0.314507                 1.602007  \n",
       "FINANZ_SPARER                       0.654881                 1.577575  \n",
       "SEMIO_RAT                           0.704771                 1.540713  \n",
       "PLZ8_ANTG3                          0.590638                 1.506934  \n",
       "ALTERSKATEGORIE_GROB                0.795700                 1.481109  \n",
       "SEMIO_PFLICHT                       0.797840                 1.476909  "
      ]
     },
     "execution_count": 220,
     "metadata": {},
     "output_type": "execute_result"
    }
   ],
   "source": [
    "# Now we'll do a similar analysis but instead for the underrepresented populations\n",
    "# first lets get a list of those underrepresented individuals with the largest ratio when \n",
    "# compared to the general population\n",
    "top_under_pop_ratio = cust_compare.sort_values(by=['underrep_pop_mean_ratio', 'underrep'], ascending=False).head(15).index.tolist()\n",
    "cust_compare.sort_values(by=['underrep_pop_mean_ratio', 'underrep'], ascending=False).head(10)"
   ]
  },
  {
   "cell_type": "code",
   "execution_count": 221,
   "metadata": {},
   "outputs": [
    {
     "data": {
      "text/html": [
       "<div>\n",
       "<style scoped>\n",
       "    .dataframe tbody tr th:only-of-type {\n",
       "        vertical-align: middle;\n",
       "    }\n",
       "\n",
       "    .dataframe tbody tr th {\n",
       "        vertical-align: top;\n",
       "    }\n",
       "\n",
       "    .dataframe thead th {\n",
       "        text-align: right;\n",
       "    }\n",
       "</style>\n",
       "<table border=\"1\" class=\"dataframe\">\n",
       "  <thead>\n",
       "    <tr style=\"text-align: right;\">\n",
       "      <th></th>\n",
       "      <th>overrep</th>\n",
       "      <th>underrep</th>\n",
       "      <th>over_under_ratio</th>\n",
       "      <th>pop_mean</th>\n",
       "      <th>overrep_pop_mean_ratio</th>\n",
       "      <th>underrep_pop_mean_ratio</th>\n",
       "    </tr>\n",
       "  </thead>\n",
       "  <tbody>\n",
       "    <tr>\n",
       "      <th>KBA05_ANTG4</th>\n",
       "      <td>0.018505</td>\n",
       "      <td>0.635042</td>\n",
       "      <td>0.029139</td>\n",
       "      <td>0.290628</td>\n",
       "      <td>0.063671</td>\n",
       "      <td>2.185065</td>\n",
       "    </tr>\n",
       "    <tr>\n",
       "      <th>KBA05_ANTG3</th>\n",
       "      <td>0.110199</td>\n",
       "      <td>1.130499</td>\n",
       "      <td>0.097479</td>\n",
       "      <td>0.593295</td>\n",
       "      <td>0.185741</td>\n",
       "      <td>1.905458</td>\n",
       "    </tr>\n",
       "    <tr>\n",
       "      <th>ANZ_HAUSHALTE_AKTIV</th>\n",
       "      <td>2.012649</td>\n",
       "      <td>15.160816</td>\n",
       "      <td>0.132753</td>\n",
       "      <td>8.297020</td>\n",
       "      <td>0.242575</td>\n",
       "      <td>1.827260</td>\n",
       "    </tr>\n",
       "    <tr>\n",
       "      <th>PLZ8_ANTG4</th>\n",
       "      <td>0.234071</td>\n",
       "      <td>1.286562</td>\n",
       "      <td>0.181935</td>\n",
       "      <td>0.678934</td>\n",
       "      <td>0.344762</td>\n",
       "      <td>1.894973</td>\n",
       "    </tr>\n",
       "    <tr>\n",
       "      <th>ANZ_HH_TITEL</th>\n",
       "      <td>0.012724</td>\n",
       "      <td>0.064810</td>\n",
       "      <td>0.196321</td>\n",
       "      <td>0.040455</td>\n",
       "      <td>0.314507</td>\n",
       "      <td>1.602007</td>\n",
       "    </tr>\n",
       "    <tr>\n",
       "      <th>PLZ8_ANTG3</th>\n",
       "      <td>0.949236</td>\n",
       "      <td>2.421847</td>\n",
       "      <td>0.391947</td>\n",
       "      <td>1.607136</td>\n",
       "      <td>0.590638</td>\n",
       "      <td>1.506934</td>\n",
       "    </tr>\n",
       "    <tr>\n",
       "      <th>FINANZ_SPARER</th>\n",
       "      <td>1.778603</td>\n",
       "      <td>4.284564</td>\n",
       "      <td>0.415119</td>\n",
       "      <td>2.715918</td>\n",
       "      <td>0.654881</td>\n",
       "      <td>1.577575</td>\n",
       "    </tr>\n",
       "    <tr>\n",
       "      <th>SEMIO_KAEM</th>\n",
       "      <td>2.608260</td>\n",
       "      <td>6.009215</td>\n",
       "      <td>0.434043</td>\n",
       "      <td>4.294280</td>\n",
       "      <td>0.607380</td>\n",
       "      <td>1.399353</td>\n",
       "    </tr>\n",
       "    <tr>\n",
       "      <th>SEMIO_RAT</th>\n",
       "      <td>2.744189</td>\n",
       "      <td>5.999125</td>\n",
       "      <td>0.457432</td>\n",
       "      <td>3.893733</td>\n",
       "      <td>0.704771</td>\n",
       "      <td>1.540713</td>\n",
       "    </tr>\n",
       "    <tr>\n",
       "      <th>FINANZ_HAUSBAUER</th>\n",
       "      <td>1.978613</td>\n",
       "      <td>4.170626</td>\n",
       "      <td>0.474416</td>\n",
       "      <td>3.114560</td>\n",
       "      <td>0.635279</td>\n",
       "      <td>1.339074</td>\n",
       "    </tr>\n",
       "  </tbody>\n",
       "</table>\n",
       "</div>"
      ],
      "text/plain": [
       "                      overrep   underrep  over_under_ratio  pop_mean  \\\n",
       "KBA05_ANTG4          0.018505   0.635042          0.029139  0.290628   \n",
       "KBA05_ANTG3          0.110199   1.130499          0.097479  0.593295   \n",
       "ANZ_HAUSHALTE_AKTIV  2.012649  15.160816          0.132753  8.297020   \n",
       "PLZ8_ANTG4           0.234071   1.286562          0.181935  0.678934   \n",
       "ANZ_HH_TITEL         0.012724   0.064810          0.196321  0.040455   \n",
       "PLZ8_ANTG3           0.949236   2.421847          0.391947  1.607136   \n",
       "FINANZ_SPARER        1.778603   4.284564          0.415119  2.715918   \n",
       "SEMIO_KAEM           2.608260   6.009215          0.434043  4.294280   \n",
       "SEMIO_RAT            2.744189   5.999125          0.457432  3.893733   \n",
       "FINANZ_HAUSBAUER     1.978613   4.170626          0.474416  3.114560   \n",
       "\n",
       "                     overrep_pop_mean_ratio  underrep_pop_mean_ratio  \n",
       "KBA05_ANTG4                        0.063671                 2.185065  \n",
       "KBA05_ANTG3                        0.185741                 1.905458  \n",
       "ANZ_HAUSHALTE_AKTIV                0.242575                 1.827260  \n",
       "PLZ8_ANTG4                         0.344762                 1.894973  \n",
       "ANZ_HH_TITEL                       0.314507                 1.602007  \n",
       "PLZ8_ANTG3                         0.590638                 1.506934  \n",
       "FINANZ_SPARER                      0.654881                 1.577575  \n",
       "SEMIO_KAEM                         0.607380                 1.399353  \n",
       "SEMIO_RAT                          0.704771                 1.540713  \n",
       "FINANZ_HAUSBAUER                   0.635279                 1.339074  "
      ]
     },
     "execution_count": 221,
     "metadata": {},
     "output_type": "execute_result"
    }
   ],
   "source": [
    "# Now lets get a list of those underrepresented individuals with the largest ratio when \n",
    "# compared to the overrepresented population\n",
    "top_under_over_ratio = cust_compare.sort_values(by=['over_under_ratio', 'overrep'], ascending=True).head(15).index.tolist()\n",
    "cust_compare.sort_values(by=['over_under_ratio', 'overrep'], ascending=True).head(10)"
   ]
  },
  {
   "cell_type": "code",
   "execution_count": 223,
   "metadata": {},
   "outputs": [
    {
     "data": {
      "text/plain": [
       "['KBA05_ANTG4',\n",
       " 'KBA05_ANTG3',\n",
       " 'ANZ_HAUSHALTE_AKTIV',\n",
       " 'PLZ8_ANTG4',\n",
       " 'ANZ_HH_TITEL',\n",
       " 'PLZ8_ANTG3',\n",
       " 'FINANZ_SPARER',\n",
       " 'SEMIO_KAEM',\n",
       " 'SEMIO_RAT',\n",
       " 'FINANZ_HAUSBAUER',\n",
       " 'FINANZ_ANLEGER',\n",
       " 'WEALTH',\n",
       " 'SEMIO_DOM',\n",
       " 'ALTERSKATEGORIE_GROB',\n",
       " 'SEMIO_PFLICHT']"
      ]
     },
     "execution_count": 223,
     "metadata": {},
     "output_type": "execute_result"
    }
   ],
   "source": [
    "top_under_over_ratio"
   ]
  },
  {
   "cell_type": "code",
   "execution_count": 224,
   "metadata": {},
   "outputs": [
    {
     "data": {
      "text/plain": [
       "['KBA05_ANTG4',\n",
       " 'KBA05_ANTG3',\n",
       " 'PLZ8_ANTG4',\n",
       " 'ANZ_HAUSHALTE_AKTIV',\n",
       " 'ANZ_HH_TITEL',\n",
       " 'FINANZ_SPARER',\n",
       " 'SEMIO_RAT',\n",
       " 'PLZ8_ANTG3',\n",
       " 'ALTERSKATEGORIE_GROB',\n",
       " 'SEMIO_PFLICHT',\n",
       " 'SEMIO_TRADV',\n",
       " 'FINANZ_ANLEGER',\n",
       " 'SEMIO_KAEM',\n",
       " 'FINANZ_UNAUFFAELLIGER',\n",
       " 'SEMIO_REL']"
      ]
     },
     "execution_count": 224,
     "metadata": {},
     "output_type": "execute_result"
    }
   ],
   "source": [
    "top_under_pop_ratio"
   ]
  },
  {
   "cell_type": "code",
   "execution_count": 225,
   "metadata": {},
   "outputs": [
    {
     "data": {
      "text/plain": [
       "['KBA05_ANTG4',\n",
       " 'KBA05_ANTG3',\n",
       " 'ANZ_HAUSHALTE_AKTIV',\n",
       " 'PLZ8_ANTG4',\n",
       " 'ANZ_HH_TITEL',\n",
       " 'PLZ8_ANTG3',\n",
       " 'FINANZ_SPARER',\n",
       " 'SEMIO_KAEM',\n",
       " 'SEMIO_RAT',\n",
       " 'FINANZ_ANLEGER',\n",
       " 'ALTERSKATEGORIE_GROB',\n",
       " 'SEMIO_PFLICHT']"
      ]
     },
     "execution_count": 225,
     "metadata": {},
     "output_type": "execute_result"
    }
   ],
   "source": [
    "# now let's cross reference the two to get a top list of features for \n",
    "# underrepresnted populations as found in cluster 4\n",
    "both_under = []\n",
    "for item in top_under_over_ratio:\n",
    "    if item in top_under_pop_ratio:\n",
    "        both_under.append(item)\n",
    "both_under  "
   ]
  },
  {
   "cell_type": "code",
   "execution_count": 228,
   "metadata": {},
   "outputs": [
    {
     "data": {
      "text/plain": [
       "['GREEN_AVANTGARDE',\n",
       " 'KBA05_ANTG1',\n",
       " 'FINANZ_MINIMALIST',\n",
       " 'SEMIO_VERT',\n",
       " 'MOBI_REGIO',\n",
       " 'PLZ8_ANTG1',\n",
       " 'KBA05_GBZ',\n",
       " 'FINANZ_VORSORGER',\n",
       " 'KONSUMNAEHE',\n",
       " 'INNENSTADT',\n",
       " 'BALLRAUM',\n",
       " 'SEMIO_SOZ']"
      ]
     },
     "execution_count": 228,
     "metadata": {},
     "output_type": "execute_result"
    }
   ],
   "source": [
    "both_over"
   ]
  },
  {
   "cell_type": "code",
   "execution_count": 229,
   "metadata": {},
   "outputs": [],
   "source": [
    "# What kinds of people are part of a cluster that is overrepresented in the\n",
    "# customer data compared to the general population?\n",
    "\n",
    "# for the overrepresnted population we find that:\n",
    "# These customers tend to reside in rural areas that are far from dense city centers/stores/point of sales, \n",
    "#as captured by relatively high scores for the following 3 features when compared with both \n",
    "# the general population and the underrepresented group:\n",
    "# KONSUMNAEHE (Distance from building to point of sale (PoS))\n",
    "#INNENSTADT (Distance to city center (downtown)).\n",
    "# BALLRAUM (Distance to nearest urban center)\n",
    "\n",
    "# These customers tend to live in more single family type homes as is captured per relatively high scores for \n",
    "# the features KBA05_ANTG1 and PLZ8_ANTG1 which represents a relatively high number of 1-2 family homes in \n",
    "# the ANTG1 microcell and plaza respectively. This makes sense as large multi-family homes are more typical \n",
    "# in urban cities.\n",
    "\n",
    "# These customers do not tend to move often as exhibted by relatively high scores for the feature of\n",
    "# MOBI_REGIO = Movement patterns (higher score means less movement)\n",
    "\n",
    "# These segments of overrepresented customers makes sense given the fact that we are attempting to \n",
    "# identify customers for a 'mail-order' sales - hence if it's hard to shop in-person at a far away city store\n",
    "# or opportunities are otherwise infrequent, then mail-order sales would be very beneficial to such customers.  \n",
    "# Lastly we find such customers have low-affinity with identifying theselves as having \n",
    "# low financial interest or as savers as exhibited by relatively high scores for features \n",
    "# FINANZ_MINIMALIST and FINANZ_VORSORGER respectively \n",
    "# (the higher the score the lower identification with said financial typology)"
   ]
  },
  {
   "cell_type": "code",
   "execution_count": 230,
   "metadata": {},
   "outputs": [],
   "source": [
    "# What kinds of people are part of a cluster that is underrepresented in the\n",
    "# customer data compared to the general population?\n",
    "# These customers tend to reside in dense urban areas as exhibited by relatively high values for the number of \n",
    "# 10+ family homes in the 'ANTG4' microcell and ANTG4 Plaza as captured in features KBA05_ANTG4 and  PLZ8_ANTG4  \n",
    "# respectively.  This population similarly has relatively high values of 6-10 family homes in the ANTG3 microcell \n",
    "# as captured in feature KBA05_ANTG3.  \n",
    "# This population also appears to be of a younger age generally, which makes sense as younger people tend to migrate\n",
    "# to urban areas and live in smaller multi-family dwellings like apartments\n",
    "# (as per my data cleanup step to reverse the direction of scale ALTERSKATEGORIE_GROB, a higher value for that\n",
    "# feature means a younger age.  In addition, this population tends to have more professional academic title holders \n",
    "# in building as per feature 'ANZ_HH_TITEL', which is inline with the concept of younger more educated professionals \n",
    "# in urban areas and or even college dormitories.\n",
    "# Lastly, this population tends to have low affinity with identifying themselves as 'money savers', or of having\n",
    "# personality typologies of 'combative', 'rational', and 'dutiful'.\n"
   ]
  },
  {
   "cell_type": "markdown",
   "metadata": {},
   "source": [
    "### Discussion 3.3: Compare Customer Data to Demographics Data\n",
    "\n",
    "**Popular segments of customers**\n",
    "Segments of the population that are relatively popoular with the mail-order company tend to reside in rural areas that are far from dense city centers/stores/point of sales, as captured by relatively high scores for the following 3 features when compared with both the general population and the underrepresented group:\n",
    "- KONSUMNAEHE (Distance from building to point of sale (PoS))\n",
    "- INNENSTADT (Distance to city center (downtown)).\n",
    "- BALLRAUM (Distance to nearest urban center)\n",
    " These customers tend to live in more single family type homes as is captured per relatively high scores for the features KBA05_ANTG1 and PLZ8_ANTG1 which represents a relatively high number of 1-2 family homes in the ANTG1 microcell and plaza respectively. This makes sense as large multi-family homes are more typical in urban cities.\n",
    "These customers do not tend to move often as exhibted by relatively high scores for the feature of 'MOBI_REGIO' = Movement patterns (higher score means less movement)\n",
    "These overrepresented segments of customers make sense given the fact that we are attempting to identify customers for 'mail-order' sales - hence if it's hard to shop in-person at a far away city store or opportunities are otherwise infrequent, then mail-order sales would be very beneficial to such customers.  Lastly we find such customers have low-affinity with identifying theselves as having low financial interest or as savers as exhibited by relatively high scores for features  FINANZ_MINIMALIST and FINANZ_VORSORGER respectively (the higher the score the lower identification with said financial typology)\n",
    "\n",
    "**Unpopular segments of customers**\n",
    "Segments of the population that are relatively unpopular with the mail-order company tend to reside in dense urban areas as exhibited by relatively high values for the number of 10+ family homes in the 'ANTG4' microcell and ANTG4 Plaza as captured in features KBA05_ANTG4 and  PLZ8_ANTG4 respectively.  This population similarly has relatively high values of 6-10 family homes in the ANTG3 microcell as captured in feature KBA05_ANTG3.  \n",
    "This population also appears to be of a younger age generally, which makes sense as younger people tend to migrate\n",
    "to urban areas and live in smaller multi-family dwellings like apartments (as per my data cleanup step to reverse the direction of scale ALTERSKATEGORIE_GROB, a higher value for that feature means a younger age.  In addition, this population tends to have more professional academic title holders in building as per feature 'ANZ_HH_TITEL', which is inline with the concept of younger more educated professionals in urban areas and or even college dormitories. Lastly, this population tends to have low affinity with identifying themselves as 'money savers', or of having\n",
    "personality typologies of 'combative', 'rational', and 'dutiful'."
   ]
  },
  {
   "cell_type": "markdown",
   "metadata": {},
   "source": [
    "> Congratulations on making it this far in the project! Before you finish, make sure to check through the entire notebook from top to bottom to make sure that your analysis follows a logical flow and all of your findings are documented in **Discussion** cells. Once you've checked over all of your work, you should export the notebook as an HTML document to submit for evaluation. You can do this from the menu, navigating to **File -> Download as -> HTML (.html)**. You will submit both that document and this notebook for your project submission."
   ]
  },
  {
   "cell_type": "code",
   "execution_count": null,
   "metadata": {},
   "outputs": [],
   "source": []
  },
  {
   "cell_type": "code",
   "execution_count": null,
   "metadata": {},
   "outputs": [],
   "source": []
  }
 ],
 "metadata": {
  "kernelspec": {
   "display_name": "Python 3",
   "language": "python",
   "name": "python3"
  },
  "language_info": {
   "codemirror_mode": {
    "name": "ipython",
    "version": 3
   },
   "file_extension": ".py",
   "mimetype": "text/x-python",
   "name": "python",
   "nbconvert_exporter": "python",
   "pygments_lexer": "ipython3",
   "version": "3.6.3"
  }
 },
 "nbformat": 4,
 "nbformat_minor": 2
}
